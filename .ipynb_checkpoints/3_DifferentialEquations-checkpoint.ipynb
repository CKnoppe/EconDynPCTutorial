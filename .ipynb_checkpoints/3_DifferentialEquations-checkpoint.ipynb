{
 "cells": [
  {
   "cell_type": "markdown",
   "id": "7586aefb",
   "metadata": {},
   "source": [
    "# 3 Differential Equations\n",
    "\n",
    "The key difference between difference equations and differential equations is that the former model a system in discrete time, i.e. the evolution between one point in time and the next, while the latter model a system in continuous time. This raises an important issue for simulations of such models: computers only work in discrete states (1 & 0, ultimately), so \"true\" continuity cannot be implemented. Hence, we have to wok with approximations. Usually that creates a trade-off between accuracy (how close is the solutions to the true, e.g. analytically derived solution?) and computational efficiency (how much work does the computer  have to do, and how long is it going to take?).\n",
    "\n",
    "In this tutorial, three different timestepping methods will be introduced:  explicit & implicit Euler methods, as we  as the Crank-Nicolson method. You will write functions to simulate the behaviour of a first-order differential equation. Instead of plotting the results, we will analyse efficiency and accuracy of the methods this time."
   ]
  },
  {
   "cell_type": "code",
   "execution_count": null,
   "id": "6d4bf1c1",
   "metadata": {},
   "outputs": [],
   "source": [
    "import numpy as np"
   ]
  },
  {
   "cell_type": "markdown",
   "id": "87c59f4e",
   "metadata": {},
   "source": [
    "### Taylor expansion, finite differences\n",
    "\n",
    "Differential equations are of the basic form\n",
    "\n",
    "$\\frac{\\partial y}{\\partial t} = y'(t) = f(y(t), t)$,\n",
    "\n",
    "i.e. the rate of change of $y$, its time derivative is a function of $y$ itself, and sometimes time as well. In order to simulate one time step of size $\\delta$, apply a second-order Taylor expansion and rearrange in the following way:\n",
    "\n",
    "$y(t+\\delta) = y(t) + \\delta y'(t) + \\frac{\\delta^2}{2}y''(\\eta)$\n",
    "\n",
    "$\\frac{y(t+\\delta) - y(t)}{\\delta} = y'(t) + \\frac{\\delta^2}{2}y''(\\eta)$\n",
    "\n",
    "with $\\eta\\in[t, t+\\delta]$. The difference quotient on the left-hand side converges to $y'(t)$ as $\\delta\\rightarrow 0$.\n",
    "\n",
    "### Explicit Euler\n",
    "The first method, the explicit Euler method applies this relationship in a straightforward fashion:\n",
    "\n",
    "$\\frac{y(t+\\delta) - y(t)}{\\delta} \\approx y'(t) = f(y(t),t)$\n",
    "\n",
    "$\\Leftrightarrow y(t+\\delta) \\approx y(t) + \\delta f(y(t), t)$\n",
    "\n",
    "i.e. we move along the tangent line of the function at the current position. In terms of timestepping, this leads to the scheme\n",
    "\n",
    "$y(0) = y_0$\n",
    "\n",
    "$y(1) = y(0) + \\delta f(y(0), 0)$\n",
    "\n",
    "$\\vdots$\n",
    "\n",
    "$y(t+1) = y(t) + \\delta f(y(t),t)$\n",
    "\n",
    "There is a small error related to the higher order terms of the Taylor expansion, but the smaller $\\delta$, the higher the accuracy we achieve. On the other hand, with smaller $\\delta$, we need more time steps, leading to higher computational effort, as more calculations have to be performed.\n",
    "\n",
    "##### EXERCISE\n",
    "\n",
    "Consider the continuous-time version of the cobweb model (tutorial 3, exercise 2), leading to the first-order differential equation $p'=45 - 3p$. Implement one time step using this scheme! It should take the current price $p$, as well as the size of the timestep $\\delta$ as inputs and return the estimated new price."
   ]
  },
  {
   "cell_type": "code",
   "execution_count": null,
   "id": "d98bb135",
   "metadata": {},
   "outputs": [],
   "source": [
    "def exp_euler_1step(p, delta):\n",
    "    ######\n",
    "    # TODO\n",
    "    ######"
   ]
  },
  {
   "cell_type": "markdown",
   "id": "6f3686b9",
   "metadata": {},
   "source": [
    "### Implicit Euler\n",
    "\n",
    "Consider the exponential function $y(t) = e^{-\\lambda T}$, which satisfies $y'(t) = -\\lambda y(t)$. Simulating it with the explicit Euler method would yield the following timestepping scheme:\n",
    "\n",
    "$y(t+\\delta) \\approx y(t) -\\lambda y(t) = (1-\\delta\\lambda)y(t)$\n",
    "\n",
    "which creates ocillations if $\\delta\\lambda>1$ (first-order difference equation with negative eigenvalue). This only happens due to the discretisation of an otherwise continuous system, and is hence undesirable. A solution is the implicit Euler method:\n",
    "\n",
    "$\\frac{y(t+\\delta) - y(t)}{\\delta} \\approx y'(t+\\delta) = f(y(t+\\delta),t+\\delta)$\n",
    "\n",
    "$\\Leftrightarrow y(t+\\delta) \\approx y(t) + \\delta f(y(t+\\delta), t+\\delta)$\n",
    "\n",
    "I.e. we move along the tangent slope of the next point instead of the current. The actual timestepping scheme is given implicitly as the solution to a fixed-point problem. In the example of the exponential function above:\n",
    "\n",
    "$y(t+\\delta) = y(t) -\\lambda y(t) = (1-\\delta\\lambda)y(t+\\delta)$\n",
    "\n",
    "$\\Leftrightarrow y(t+\\delta) = \\frac{1}{1+\\delta\\lambda}y(t)$\n",
    "\n",
    "##### EXERCISE\n",
    "\n",
    "Implement a single time step of the implicit Euler method for the same cobweb model as above. Note that you will first have to solve the fixed-point problem for this particular function."
   ]
  },
  {
   "cell_type": "code",
   "execution_count": null,
   "id": "c0a9bc04",
   "metadata": {},
   "outputs": [],
   "source": [
    "def imp_euler_1step(p, delta):\n",
    "    ######\n",
    "    # TODO\n",
    "    ######"
   ]
  },
  {
   "cell_type": "markdown",
   "id": "7b194725",
   "metadata": {},
   "source": [
    "### Crank-Nicolson\n",
    "\n",
    "The last method to be introduced in this tutorial is the Crank-Nicolson method. There are more of course but these shall suffice for an introduction. Instead of using either the tangent slope at the current point, or that at the next, it takes the mean of both:\n",
    "\n",
    "$y(t+\\delta) = y(t) +  \\frac{\\delta}{2}\\left[f\\left(y\\left(t\\right), t\\right) + f\\left(y\\left(t+\\delta\\right), t+\\delta\\right)\\right]$ \n",
    "\n",
    "As the values at the next time step are on both sides, this is also an implicit scheme that requires finding the solution to a fixed-point equation.\n",
    "\n",
    "##### EXERCISE\n",
    "\n",
    "Implement one time step of the Crank-Nicolson method for the cobweb model!"
   ]
  },
  {
   "cell_type": "code",
   "execution_count": null,
   "id": "9515b6a4",
   "metadata": {},
   "outputs": [],
   "source": [
    "def cn_1step(p, delta):\n",
    "    ######\n",
    "    # TODO\n",
    "    ######"
   ]
  },
  {
   "cell_type": "markdown",
   "id": "29aa4080",
   "metadata": {},
   "source": [
    "### Simulating the system\n",
    "\n",
    "Now, we can apply either of these three functions to simulate the system and compare convergence. Write a single function that takes as inputs a starting price $p$, and a function. You can pass a function as an argument to a function in the following way:\n",
    "\n",
    "`def my_func(func, a):`\n",
    "        \n",
    "`    func(a)`\n",
    "    \n",
    "my_func is a function that takes as inputs a function object `func` (no parentheses!), and a parameter `a` and then runs the function `func` with input `a`. In the same way, you can build a cobweb model simulator that can flexibly switch between timestepping schemes. Other inputs are the current price, and the number of steps $T$ to be performed.\n",
    "\n",
    "Note that $\\delta$ is typically a very small step, a fraction of a time unit. Write the function such that its output is the price after one full time unit, while the parameter $T$ is the number of steps this unit should be divided into. Hence, in the first step, you have to calculate $\\delta$ as the inverse of $T$. Do not store the intermediate values of $p$, but overwrite it in every step and only return the final value. Later, we can use this function to simulate several timesteps, storing only the values after a full period has passed."
   ]
  },
  {
   "cell_type": "code",
   "execution_count": null,
   "id": "d8c9988f",
   "metadata": {},
   "outputs": [],
   "source": [
    "def simulate_cobweb(p, timestep_func, T):\n",
    "    ######\n",
    "    # TODO\n",
    "    ######"
   ]
  },
  {
   "cell_type": "markdown",
   "id": "0efb7ab8",
   "metadata": {},
   "source": [
    "We'll want to compare our approximations to the \"true\" analytical solution. From the tutorial:\n",
    "    \n",
    "$p(t) = (p_0 - \\bar{p})e^{-3t} + 15$"
   ]
  },
  {
   "cell_type": "code",
   "execution_count": null,
   "id": "615bc217",
   "metadata": {},
   "outputs": [],
   "source": [
    "# analytical solution\n",
    "def cobweb_1period(p_0):\n",
    "    return (p_0 - 15) * np.exp(-3) + 15"
   ]
  },
  {
   "cell_type": "markdown",
   "id": "3d08d218",
   "metadata": {},
   "source": [
    "Below, we run the model with the different methods, comparing convergence to the true, analytical solution at $\\delta\\in\\{2^{-2}, 2^{-3}, \\dots 2^{-10}\\}$, simulating 1 unit time step. We start from $\\delta = \\frac{1}{4}$ rather than $\\frac{1}{2}$, as this value would lead to oscillations and therefore large errors using the explicit euler scheme (due to $1-3\\delta<0$)."
   ]
  },
  {
   "cell_type": "code",
   "execution_count": null,
   "id": "83296be5",
   "metadata": {},
   "outputs": [],
   "source": [
    "ee_final = list()\n",
    "ie_final = list()\n",
    "cn_final = list()\n",
    "\n",
    "p0 = 60\n",
    "p_analytical = cobweb_1period(p0)\n",
    "\n",
    "# errors\n",
    "ee_error = 1\n",
    "ie_error = 1\n",
    "cn_error = 1\n",
    "\n",
    "# analyse convergence, doubling the number of steps per time unit\n",
    "for exponent in range(2,10):\n",
    "    T = 2 ** exponent\n",
    "    # update last period errors\n",
    "    ee_last_error = ee_error\n",
    "    ie_last_error = ie_error\n",
    "    cn_last_error = cn_error\n",
    "    \n",
    "    # starting prices\n",
    "    p_ee = p_ie = p_cn = p0\n",
    "    \n",
    "    # calculate solutions\n",
    "    p_ee = simulate_cobweb(p_ee, exp_euler_1step, T)\n",
    "    p_ie = simulate_cobweb(p_ie, imp_euler_1step, T)\n",
    "    p_cn = simulate_cobweb(p_cn, cn_1step, T)\n",
    "    \n",
    "    # new errors\n",
    "    ee_error = p_ee - p_analytical\n",
    "    ie_error = p_ie - p_analytical\n",
    "    cn_error = p_cn - p_analytical\n",
    "    \n",
    "    # convergence\n",
    "    print(f'delta = 1/{T}:')\n",
    "    print(f'Explicit Euler scheme error = {ee_error:.3e}, error ratio = {ee_last_error / ee_error:.2e}')\n",
    "    print(f'Implicit Euler scheme error = {ie_error:.3e}, error ratio = {ie_last_error / ie_error:.2e}')\n",
    "    print(f'Crank-Nicolson scheme error = {cn_error:.3e}, error ratio = {cn_last_error / cn_error:.2e}')\n",
    "    print('\\n')"
   ]
  },
  {
   "cell_type": "markdown",
   "id": "d40c7c52",
   "metadata": {},
   "source": [
    "By observing the error ratios, we can analyse asymptotic behaviour of these timestepping schemes. Using Euler methods, the errors are halved if the step sized is halved, so errors will be proportional to $\\delta$ (first-order convergence). Applying the Crank-Nicolson method, the new error is around four times smaller as $\\delta$ is halved, i.e. we achieve much faster convergence (second order). That means we can use larger values of $\\delta$ and still obtain the same accuracy, leading to much higher computational efficiency (fewer calculations for the same outcome)."
   ]
  },
  {
   "cell_type": "markdown",
   "id": "9906e194",
   "metadata": {},
   "source": [
    "#### A note on higher-order equations\n",
    "\n",
    "In this tuorial, we are only dealing with a model based on a single first-order differential equation. The timestepping methods here are ideal for this, and instead of extending them to higher-order equations, we will transform those into systems of first-order equations, which are going to be the topic of the next tutorial.\n",
    "\n",
    "If you want to practice these methods more, try to apply them on exercises 1 (i), the equations in part 3.1 of tutorial 3, as well as part 3.1 of the additionl exercises."
   ]
  },
  {
   "cell_type": "code",
   "execution_count": null,
   "id": "1bc08732",
   "metadata": {},
   "outputs": [],
   "source": []
  }
 ],
 "metadata": {
  "kernelspec": {
   "display_name": "Python 3 (ipykernel)",
   "language": "python",
   "name": "python3"
  },
  "language_info": {
   "codemirror_mode": {
    "name": "ipython",
    "version": 3
   },
   "file_extension": ".py",
   "mimetype": "text/x-python",
   "name": "python",
   "nbconvert_exporter": "python",
   "pygments_lexer": "ipython3",
   "version": "3.9.16"
  }
 },
 "nbformat": 4,
 "nbformat_minor": 5
}
