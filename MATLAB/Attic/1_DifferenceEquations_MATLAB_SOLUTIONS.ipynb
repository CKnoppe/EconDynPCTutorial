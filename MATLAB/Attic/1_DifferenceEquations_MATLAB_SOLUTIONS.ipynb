{
 "cells": [
  {
   "cell_type": "markdown",
   "id": "c1f27c18",
   "metadata": {},
   "source": [
    "# 1 Difference Equations\n",
    "\n",
    "Simulating models based on a difference equation is straightforward: simply apply the given equation over and over again, in an iterative way. After every step, the result needs to be stored in an appropriate data structure (MATLAB array).\n",
    "\n",
    "As a light start into this tutorial this is ideal, as you can focus on familiarising yourselves with the programming environment, before getting into more complicated issues."
   ]
  },
  {
   "cell_type": "code",
   "execution_count": 1,
   "id": "7bfc36cd",
   "metadata": {},
   "outputs": [],
   "source": [
    "% Setup etc.: nothing so far"
   ]
  },
  {
   "cell_type": "markdown",
   "id": "43938a43",
   "metadata": {},
   "source": [
    "### 1.1 First-order difference equation: Cobweb model\n",
    "\n",
    "In the first exercise, we are going to look at a simple first-order difference equation, the basic version of the Cobweb model from the first tutorial. The equation we recover from the model is\n",
    "\n",
    "$p_t = -\\frac{\\delta}{\\beta}p_{t-1}+\\frac{\\alpha + \\gamma}{\\beta}$\n",
    "\n",
    "It is generally good practice in programming to separate different parts of the procedure, so it is easier to keep a good overview of the code. Code that is used multiple times should be wrapped in a function. In this case, a single line (the equation) suffices for the single time step and hence it wouldn't be so necessary to write a separate function for it. However, it still seems appropriate to break up the problem into smaller parts, at least for educational purposes.\n",
    "\n",
    "##### EXERCISE\n",
    "\n",
    "Write the function for 1 time step (i.e. from time $t$ to $t+1$) in the cell below. It takes as arguments the current price, as well as the model parameters $\\alpha$, $\\beta$, $\\gamma$, $\\delta$, and returns the next period's price."
   ]
  },
  {
   "cell_type": "code",
   "execution_count": 2,
   "id": "9905fffb",
   "metadata": {},
   "outputs": [],
   "source": [
    "Cobweb_1step = @(p_t, alpha, beta, gamma, delta) -delta/beta*p_t+(alpha+gamma)/beta; "
   ]
  },
  {
   "cell_type": "markdown",
   "id": "2b89fdb3",
   "metadata": {},
   "source": [
    "##### EXERCISE\n",
    "\n",
    "Now we have to iterate this equation several times in order to analyse the dynamic behaviour of the model. Write the for-loop that applies your 1-step function $T$ times ($T$ and the model parameters are defined below, feel free to play around with the values) and store the results in the results list (append the new price after every iteration)."
   ]
  },
  {
   "cell_type": "code",
   "execution_count": 3,
   "id": "36bdbe69",
   "metadata": {},
   "outputs": [],
   "source": [
    "% number of steps to iterate through\n",
    "T = 10;\n",
    "\n",
    "% model parameters\n",
    "alpha = 2;\n",
    "beta = 0.75;\n",
    "gamma = 1.5;\n",
    "delta = 1;\n",
    "\n",
    "% initial price\n",
    "p_0 = 1;\n",
    "\n",
    "% initialise results list (preallocation of arrays is a good idea in MATLAB)\n",
    "results = NaN(1, T + 1);\n",
    "% insert initial price in results list\n",
    "results(1) = p_0;\n",
    "\n",
    "% for loop to apply model function iteratively T times: fill out the actual body of the loop\n",
    "for t = 1:T\n",
    "    results(t + 1) = Cobweb_1step(results(t), alpha, beta, gamma, delta);\n",
    "end"
   ]
  },
  {
   "cell_type": "markdown",
   "id": "180498e9",
   "metadata": {},
   "source": [
    "To check what happens, you can display the list of results, or plot the time series. Below, I provide code for both. What happens if you start in the steady state instead of the given initial price? How can you change the model behaviour, e.g. such that it becomes stable?"
   ]
  },
  {
   "cell_type": "code",
   "execution_count": 4,
   "id": "a2412911",
   "metadata": {},
   "outputs": [
    {
     "name": "stdout",
     "output_type": "stream",
     "text": [
      "  Columns 1 through 8\n",
      "\n",
      "   1.000000000000000   3.333333333333334   0.222222222222222   4.370370370370370  -1.160493827160493   6.213991769547324  -3.618655692729765   9.491540923639686\n",
      "\n",
      "  Columns 9 through 11\n",
      "\n",
      "  -7.988721231519581  15.318294975359443 -15.757726633812588\n",
      "\n"
     ]
    }
   ],
   "source": [
    "disp(results)"
   ]
  },
  {
   "cell_type": "code",
   "execution_count": 5,
   "id": "bb12579c",
   "metadata": {},
   "outputs": [
    {
     "data": {
      "image/png": "[encoded data removed]"
     },
     "execution_count": 5,
     "metadata": {},
     "output_type": "execute_result"
    }
   ],
   "source": [
    "steady_state = (alpha + gamma) / (beta + delta);\n",
    "\n",
    "% plot results with slightly thinner linewidth than default (looks nicer in my opinion)\n",
    "plot(0:T, results, LineWidth = 1, DisplayName = \"Price level\")\n",
    "\n",
    "% horizontal line to indicate steady state\n",
    "yline(steady_state, LineWidth = 1, LineStyle = \"--\", Color = \"black\", DisplayName = \"Steady state\")\n",
    "\n",
    "% xis labels etc.\n",
    "xlabel(\"t\")\n",
    "ylabel(\"p\")\n",
    "title(\"Cobweb model dynamic behavior\")\n",
    "legend(Location = \"southwest\")\n"
   ]
  },
  {
   "cell_type": "markdown",
   "id": "95ae9fa6",
   "metadata": {},
   "source": [
    "### 1.2 Second-order difference equation\n",
    "\n",
    "Here we are looking at the equation of exercise 0 c) (ii) in the first tutorial:\n",
    "\n",
    "$y_t = 1.1y_{t-1} - 0.6y_{t-2} + 1100$.\n",
    "\n",
    "##### EXERCISE\n",
    "\n",
    "Write a function that implements one time step, then apply this function iteratively to simulate the model's behaviour over time.\n",
    "\n",
    "Instead of implementing it strictly with the parameters 1.1, -0.6 and 1100, leave these as abstract parameters a, b, and c. That way, you can change your model parameters more easily and check how the model changes."
   ]
  },
  {
   "cell_type": "code",
   "execution_count": 6,
   "id": "94c389f9",
   "metadata": {},
   "outputs": [],
   "source": [
    "second_order_1step = @(y_1, y_2, a, b, c) a*y_1+b*y_2+c; "
   ]
  },
  {
   "cell_type": "markdown",
   "id": "6a59e3ca",
   "metadata": {},
   "source": [
    "##### EXERCISE\n",
    "\n",
    "Write a for-loop that runs this model $T$ times"
   ]
  },
  {
   "cell_type": "code",
   "execution_count": 7,
   "id": "092d4f4e",
   "metadata": {},
   "outputs": [],
   "source": [
    "% model parameters\n",
    "a = 1.1;\n",
    "b = -0.6;\n",
    "c = 1100;\n",
    "\n",
    "% number of times steps to be performed\n",
    "T = 25;\n",
    "\n",
    "% preallocate results array; different name than the list last time\n",
    "results2 = NaN(1, T + 1);\n",
    "\n",
    "% initial conditions\n",
    "results2(1:2) = [1300, 1600];\n",
    "\n",
    "% apply one step T times\n",
    "for t = 2:T\n",
    "    results2(t + 1) = second_order_1step(results2(t), results2(t - 1), a, b, c);\n",
    "end"
   ]
  },
  {
   "cell_type": "markdown",
   "id": "44013683",
   "metadata": {},
   "source": [
    "#### Plotting the results"
   ]
  },
  {
   "cell_type": "code",
   "execution_count": 8,
   "id": "b4d374a5",
   "metadata": {},
   "outputs": [
    {
     "data": {
      "image/png": "[encoded data removed]"
     },
     "execution_count": 8,
     "metadata": {},
     "output_type": "execute_result"
    }
   ],
   "source": [
    "% steady state\n",
    "ss = 1100 / (1 - a - b);\n",
    "\n",
    "plot(0:T, results2, LineWidth = 1, DisplayName = \"Actual value\")\n",
    "yline(ss, LineStyle = \"--\", Color = \"black\", LineWidth = 1, DisplayName = \"Steady state\")\n",
    "xlabel(\"t\")\n",
    "ylabel(\"y\")\n",
    "title(\"Second-order difference equation simulation\")\n"
   ]
  },
  {
   "cell_type": "markdown",
   "id": "aba5dbb8",
   "metadata": {},
   "source": [
    "### Bonus\n",
    "\n",
    "Implement and plot any other model form the first tutorial or the additional exercise, section 1. Plot the results to find out how it behaves."
   ]
  },
  {
   "cell_type": "code",
   "execution_count": null,
   "id": "08cc7477",
   "metadata": {},
   "outputs": [],
   "source": []
  }
 ],
 "metadata": {
  "kernelspec": {
   "display_name": "MATLAB Kernel",
   "language": "matlab",
   "name": "jupyter_matlab_kernel"
  },
  "language_info": {
   "file_extension": ".m",
   "mimetype": "text/x-matlab",
   "name": "matlab"
  }
 },
 "nbformat": 4,
 "nbformat_minor": 5
}
