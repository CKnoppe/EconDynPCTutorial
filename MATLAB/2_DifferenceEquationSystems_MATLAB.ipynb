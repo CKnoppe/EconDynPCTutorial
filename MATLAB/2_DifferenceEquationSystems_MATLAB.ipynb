{
 "cells": [
  {
   "cell_type": "markdown",
   "id": "4e602c86",
   "metadata": {},
   "source": [
    "# 2 Systems of difference equations\n",
    "\n",
    "If there are multiple variables that are related through some kind of linear function, we can express the system of equations in matrix-vector notation. Simulating the system then works exactly the same way as previously, with the only difference that we are iterating an equation that consists of matrices and vectors, rather than scalars. In this tutorial, we will also touch upon transforming a higher-order system into a first-order system of higher dimensionality, as it makes the computation somewhat simpler.\n",
    "\n",
    "Linear algebra is built into MATLAB --- it's the MATrix LABoratory, after all, and comes with a variety of highly optimised, numerically stable routines."
   ]
  },
  {
   "cell_type": "code",
   "execution_count": null,
   "id": "ff94d698",
   "metadata": {},
   "outputs": [],
   "source": [
    "% this renders text in figures in Latex font\n",
    "set(groot, \"DefaultTextInterpreter\", \"latex\")\n",
    "set(groot, \"DefaultAxesTickLabelInterpreter\", \"latex\")\n",
    "set(groot, \"DefaultLegendInterpreter\", \"latex\")\n",
    "\n",
    "% MATLAB does not have a useful built-in for drawing arrows :P\n",
    "drawArrow = @(x, y, varargin) quiver(x(1), y(1), x(2)-x(1), y(2)-y(1), 0, varargin{:});"
   ]
  },
  {
   "cell_type": "markdown",
   "id": "6d3c16c0",
   "metadata": {},
   "source": [
    "### 2.1 First-order 2D system\n",
    "\n",
    "Consider the 2-dimensional system from tutorial 2, exercise 1:\n",
    "\n",
    "$y_{t+1} = 0.7y_t + 0.3 z_t\\\\ z_{t+1} = 0.1y_t + 0.75 z_t + 15\\\\y_0=225;z_0=25$\n",
    "\n",
    "##### EXERCISE\n",
    "\n",
    "* re-write the system as a single equation of the form $\\mathbf{x}_{t+1} = \\mathbf{Ax}_t + \\mathbf{g}_t$\n",
    "* use matrix multiplication to implement one time step in a function\n",
    "\n",
    "Try the first part (re-writing the equation) on paper first to get a better intuition for the problem."
   ]
  },
  {
   "cell_type": "code",
   "execution_count": null,
   "id": "50b85b28",
   "metadata": {},
   "outputs": [],
   "source": [
    "system_1step = @(yz_t, A, g) ... % TO DO"
   ]
  },
  {
   "cell_type": "markdown",
   "id": "fad8f6a3",
   "metadata": {},
   "source": [
    "##### EXERCISE\n",
    "\n",
    "Create the vectors `yz_0`, `g`, and the coefficient matrix `A`: "
   ]
  },
  {
   "cell_type": "code",
   "execution_count": null,
   "id": "c2ed97a5",
   "metadata": {},
   "outputs": [],
   "source": [
    "yz_0 = ...; % TO DO\n",
    "A    = ...; % TO DO\n",
    "g    = ...; % TO DO"
   ]
  },
  {
   "cell_type": "markdown",
   "id": "2d07acf9",
   "metadata": {},
   "source": [
    "##### EXERCISE\n",
    "\n",
    "Write a for loop to iterate through the system $T$ times. Store the results in a $2\\times (T+1)$ numpy array (one row per variable). Note that, unlike in Python, indices start at 1, not 0. Hence, we first create an empty array of the size we will need to store all results. The second dimension is $T+1$, not $T$ because we will obtain $T$ results, and we start with one set of initial values.\n",
    "\n",
    "Implementing the for-loop is identical to the last tutorial, but now you have to be careful to use correct indexing, so that simulation results are stored correctly in the pre-defined array."
   ]
  },
  {
   "cell_type": "code",
   "execution_count": null,
   "id": "28fc7379",
   "metadata": {},
   "outputs": [],
   "source": [
    "T = 25;\n",
    "\n",
    "% results array\n",
    "results = NaN(2, T+1);\n",
    "% store initial values in results array\n",
    "results(:, 1) = yz_0;\n",
    "\n",
    "% before we apply the equation (function above) iteratively, \n",
    "% a few checks to ensure the matrix and vector dimensions match\n",
    "assert(height(A) == width(A))        % square matrix\n",
    "assert(numel(yz_0) == width(A))      % same length of vector and matrix\n",
    "assert(isequal(size(yz_0), size(g))) % same length of vectors\n",
    "\n",
    "% implement the loop!\n",
    "for t = 1:T\n",
    "    % TO DO\n",
    "end"
   ]
  },
  {
   "cell_type": "code",
   "execution_count": null,
   "id": "764e01df",
   "metadata": {},
   "outputs": [],
   "source": [
    "disp(results)"
   ]
  },
  {
   "cell_type": "markdown",
   "id": "a3c39b49",
   "metadata": {},
   "source": [
    "To examine the results, we will create one plot in which both variables are plotted over time, and one in the phase space. I use the `tiledlayout` feature in MATLAB to combine both plots in a single figure; this is preferable to the old approach of using `subplot` that is still sometimes seen in older code.\n",
    "\n",
    "Moreover, I am plotting the isoclines in the phase space. Those are lines at which *one* of the variables is in steady state. The intersection is obviously the point at which the entire system is in steady state. We calculate it by using the equation of one variable, setting it to its steady state value, and solving it so that we have a functional form of one variable in dependence of the other. Here that means:\n",
    "\n",
    "Isocline of y:\n",
    "\n",
    "$\\bar{y} = 0.7\\bar{y} + 0.3z_t \\Leftrightarrow \\bar{y}=z_t$\n",
    "\n",
    "and of z:\n",
    "\n",
    "$\\bar{z} = 0.1y_t + 0.75\\bar{z} + 15 \\Leftrightarrow \\bar{z} = 0.4y_t + 60$\n",
    "\n",
    "Since this is a linear system, the isoclines are also linear functions in the phase space."
   ]
  },
  {
   "cell_type": "code",
   "execution_count": null,
   "id": "98ecba83",
   "metadata": {},
   "outputs": [],
   "source": [
    "fig = figure(Position = [0 0 840 420]);\n",
    "tiledlayout(1, 2, TileSpacing = \"compact\")\n",
    "sgtitle(\"First-order system\")\n",
    "\n",
    "nexttile\n",
    "title(\"Behaviour over time\")\n",
    "hold on\n",
    "plot(0:T, results(1, :), Color = \"#00008B\", DisplayName = \"$y$\", LineWidth = 1)\n",
    "plot(0:T, results(2, :), Color = \"#8B0000\", DisplayName = \"$z$\", LineWidth = 1)\n",
    "yline(100, LineStyle = \"--\", Color = \"black\", DisplayName = \"Steady state\", LineWidth = 1)\n",
    "legend show\n",
    "xlabel(\"$t$\")\n",
    "ylabel(\"$y$, $z$\")\n",
    "\n",
    "%%\n",
    "\n",
    "nexttile\n",
    "title(\"Convergence in phase space\")\n",
    "hold on\n",
    "plot(results(1, :), results(2, :), Color = \"#008B00\", DisplayName = \"Dynamics\", LineWidth = 1)\n",
    "scatter(100, 100, Color = \"black\", DisplayName = \"Steady state\")\n",
    "\n",
    "%%\n",
    "\n",
    "% isoclines\n",
    "y = [75 150]; % two points are enough for straight lines\n",
    "ybar = y;\n",
    "zbar = 0.4*y + 60;\n",
    "% plot iscoclines\n",
    "plot(y, ybar, LineStyle = \"--\", Color = \"black\", LineWidth = 1, DisplayName = \"Isocline $y$\")\n",
    "plot(y, zbar, LineStyle = \":\", Color = \"black\", LineWidth = 1, DisplayName = \"Isocline $z$\")\n",
    "\n",
    "legend(AutoUpdate = \"off\")\n",
    "\n",
    "% arrows for the first 3 steps to indicate direction of motion\n",
    "for i = 1:3\n",
    "    x = results(1, i);\n",
    "    y = results(2, i);\n",
    "    x2 = results(1, i+1);\n",
    "    y2 = results(2, i+1);\n",
    "    drawArrow([x x2], [y y2], Color = \"#008B00\", AutoScale = \"off\")\n",
    "end\n",
    "    \n",
    "xlabel(\"$y$\")\n",
    "ylabel(\"$z$\")\n"
   ]
  },
  {
   "cell_type": "markdown",
   "id": "90807ba4",
   "metadata": {},
   "source": [
    "Zoom into the phase space to see more detail of the behaviour in the vincinity of the steady state. As a bonus exercise, you could try to run this system from many different starting points and plot a variety of paths in the phase space, to show the converging behaviour from all points of the phase space."
   ]
  },
  {
   "cell_type": "markdown",
   "id": "d05f1c0b",
   "metadata": {},
   "source": [
    "### 2.2 Second-order difference equation as first-order 2d system\n",
    "\n",
    "In the second exercise, we will convert the second-order difference equation from the first PC tutorial $y_t = 1.1y_{t-1} - 0.6y_{t-2} + 1100$ into a 2-dimensional system of first-order equations.\n",
    "\n",
    "##### EXERCISE\n",
    "\n",
    "First, set up the first-order system (2d system of first-order differential equations).\n",
    "\n",
    "Use as initial conditions the same as last time: $y_0 = 1300$, $y_1 = 1600$. You can then apply your 1-step function `system_1step` from above, with a new initial vector `yz_0`, and a different coefficient matrix `A` and inhomogeneous part `g`.\n",
    "\n",
    "Try to re-write the system on paper first, that will make it easier."
   ]
  },
  {
   "cell_type": "code",
   "execution_count": null,
   "id": "4c1cee61",
   "metadata": {},
   "outputs": [],
   "source": [
    "yz_0 = ...; % TO DO\n",
    "A    = ...; % TO DO\n",
    "g    = ...; % TO DO\n",
    "\n",
    "T = 25;\n",
    "\n",
    "results2 = ...; % TO DO: results array (check above how it was done there)\n",
    "% TO DO: insert the initial state into the results array\n",
    "\n",
    "% iterate T times\n",
    "for t = 1:T\n",
    "    % TODO\n",
    "end"
   ]
  },
  {
   "cell_type": "markdown",
   "id": "bca2e02f",
   "metadata": {},
   "source": [
    "Next, we can draw a similar plot to the one above. There is no need to plot $z_t$ over time, since it is $y_{t-1}$ and therefore does not add any information. Note what the oscillatory behaviour translates to in the phase space: the convergence happens in circles around the steady state. This is because the coefficient matrix relates to a rotation in the phase space, if we interpret it geometrically."
   ]
  },
  {
   "cell_type": "code",
   "execution_count": null,
   "id": "9e2deaa3",
   "metadata": {},
   "outputs": [],
   "source": [
    "fig = figure(Position = [0 0 840 420]);\n",
    "tiledlayout(1, 2, TileSpacing = \"compact\")\n",
    "sgtitle(\"Second-order equation as first-order 2x2 system\")\n",
    "\n",
    "nexttile\n",
    "title(\"Behaviour over time\")\n",
    "hold on\n",
    "plot(0:T, results2(1, :), Color = \"#00008B\", DisplayName = \"$y$\", LineWidth = 1)\n",
    "yline(2200, LineStyle = \"--\", Color = \"black\", DisplayName = \"Steady state\", LineWidth = 1)\n",
    "legend show\n",
    "xlabel(\"$t$\")\n",
    "ylabel(\"$y$\")\n",
    "\n",
    "%%\n",
    "\n",
    "nexttile\n",
    "title(\"Behavior in phase space\")\n",
    "hold on\n",
    "plot(results2(1, :), results2(2, :), Color = \"#008B00\", DisplayName = \"Dynamics\", LineWidth = 1)\n",
    "scatter(2200, 2200, Color = \"black\", DisplayName = \"Steady state\")\n",
    "\n",
    "%%\n",
    "\n",
    "% isoclines\n",
    "y = [1700 2500]; % two points are enough for straight lines\n",
    "ybar = y / 6 + 1100 / 0.6;\n",
    "zbar = y;\n",
    "% plot iscoclines\n",
    "plot(y, ybar, LineStyle = \"--\", Color = \"black\", LineWidth = 1, DisplayName = \"Isocline $y$\")\n",
    "plot(y, zbar, LineStyle = \"--\", Color = \"black\", LineWidth = 1, DisplayName = \"Isocline $z$\")\n",
    "\n",
    "legend(AutoUpdate = \"off\", Location = \"southeast\")\n",
    "\n",
    "% arrows for the first 3 steps to indicate direction of motion\n",
    "for i = 1:10\n",
    "    x = results2(1, i);\n",
    "    y = results2(2, i);\n",
    "    x2 = results2(1, i+1);\n",
    "    y2 = results2(2, i+1);\n",
    "    drawArrow([x x2], [y y2], Color = \"#008B00\", AutoScale = \"off\")\n",
    "end\n",
    "    \n",
    "xlabel(\"$y$\")\n",
    "ylabel(\"$z$\")\n"
   ]
  },
  {
   "cell_type": "code",
   "execution_count": null,
   "id": "e8083468",
   "metadata": {},
   "outputs": [],
   "source": []
  }
 ],
 "metadata": {
  "kernelspec": {
   "display_name": "MATLAB Kernel",
   "language": "matlab",
   "name": "jupyter_matlab_kernel"
  },
  "language_info": {
   "file_extension": ".m",
   "mimetype": "text/x-matlab",
   "name": "matlab"
  }
 },
 "nbformat": 4,
 "nbformat_minor": 5
}
