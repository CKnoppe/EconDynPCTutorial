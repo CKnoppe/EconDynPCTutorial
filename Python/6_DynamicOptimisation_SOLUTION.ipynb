{
 "cells": [
  {
   "cell_type": "markdown",
   "id": "769f7db7",
   "metadata": {},
   "source": [
    "# 6 Dynamic Optimisation\n",
    "\n",
    "In the lecture we have learned analytic methods to solve optimal control problems, i.e. we solved them using purely mathematical techniques, with pen and paper. Many problems may however not be analytically solvable, if the problems become more complex. In that case, we resort to numerical optimisation methods. The advantage of using a computer is that we can run thousands of calculations in a very short time, so it allows us to try out a certain time path for our control and state variables, and then iterate towards some optimal solution. The key challenge is to design methods that converge relatively fast, i.e. with relatively few steps of calculation. Much of the explanation in this tutorial, as well as the practice problem is based on Sharp et al. (2021), which is a good overview of the basic method, as well as a few extensions to it.\n",
    "\n",
    "In this tutorial, you will learn to implement one such algorithm, the forward-backward-sweep method. There are many possible variations and extensions of it, but if you understand the principles of the core framework, it should be relatively easy for you to learn how to implement those by yourselves. The algorithm essentially starts with a \"guess\" about the optimal solution for the control variable, and based on this guess then iterates the state variable forward in time, starting from the initial condition $x(0)=x_0$. This is a straightforward application of any timestepping scheme from the previous tutorials (in practice typically the fourth-order Runge-Kutta) on the state equation. In case there is no terminal condition (and if it is relatively clear that $x(T) \\neq 0$), we can then iterate the co-state variable, the shadow price, *backwards* from $\\mu(T)=0$. Similarly, if a final function $F(x(T), T)$ is given, we know that $\\mu(T) = \\frac{\\partial F}{\\partial x}_{t=T}$, so we iterate backwards from that value. This provides initial guesses for the state and co-state variables, which might be far from the optimal solution still. However, we can, based on these guesses and the first-order conditions, optimise the control variable and improve upon this first guess of the control variable. With this improved guess we can now start from the beginning and run these three steps (forward iteration of state variable, backward iteration of co-state, optimisation of control) over and over again until the algorithm converges. If a desired terminal state $x(T)=x_T$ is given, or if it is not quite clear whether $\\mu(T)=0$ or $x(T)=0$ (recall the condition $x(T)\\mu(T)=0$ in absence of a terminal condition), other methods need to be added. This tutorial is only meant to be a brief and gentle introduction to the topic however, so we will focus on the most basic version, where $\\mu(T)=0$.\n",
    "\n",
    "While quite a few steps are involved in solving this problem, it is mainly a combination of techniques we already know from the previous tutorials. We will take it step by step to keep it as simple as possible. \n",
    "\n",
    "Rather than viewing the one algorithm here as a go-to solution for any optimisation problem you may come across in the future (other classes, thesis, work...), this should serve as an introduction to the general idea of iteratively searching for an optimal solution to a given problem, be it optimisation, estimation, or anything else. After all, the general idea of starting from a (random) initial guess and to somehow converge to an optimum applies not only to our abstract academic problems in class, but also forms the core of many machine learning algorithms.\n",
    "\n",
    "\n",
    "###### REFERENCE:\n",
    "\n",
    "Sharp JA, Burrage K, Simpson MJ, 2021. Implementation and acceleration of optimal control for systems biology. *J. R. Soc. Interace* **18**: 20210241. https://doi.org/10.1098/rsif.2021.0241."
   ]
  },
  {
   "cell_type": "code",
   "execution_count": 1,
   "id": "661eb679",
   "metadata": {},
   "outputs": [],
   "source": [
    "%matplotlib notebook\n",
    "\n",
    "import numpy as np\n",
    "import matplotlib.pyplot as plt\n",
    "\n",
    "# this renders text in figures in Latex font\n",
    "from matplotlib import rc\n",
    "rc('text', usetex=True)"
   ]
  },
  {
   "cell_type": "markdown",
   "id": "34c8d227",
   "metadata": {},
   "source": [
    "### Free terminal state\n",
    "\n",
    "Consider the optimisation problem \n",
    "\n",
    "$\\begin{align}\n",
    "    \\text{max } J &= \\int_{t_0}^{T} I\\left(x, u, t\\right) + \\phi\\left(x_T, T\\right) \\\\\n",
    "    x' &= f\\left(x, u, t\\right) \\\\\n",
    "    x_0 &= 0\n",
    "\\end{align}$\n",
    "\n",
    "Where $x$ is the state variable, $u$ the control, $I(\\cdot)$ is the influence function, $\\phi(\\cdot)$ is the final function (not always given), and $f(\\cdot)$ is the law of motion, i.e. the state equation. The Hamiltonian is\n",
    "\n",
    "$\\begin{equation}\n",
    "    H = I\\left(x, u, t\\right) + \\mu\\left(f\\left(x, u, t\\right)\\right)\n",
    "\\end{equation}$\n",
    "\n",
    "and we know the first-order conditions (FOCs):\n",
    "\n",
    "$\\begin{align}\n",
    "    \\nonumber\\frac{\\partial H}{\\partial u} &\\overset{!}{=} 0 \\hspace{0.5cm}(i)\\\\\n",
    "    \\nonumber\\frac{\\partial H}{\\partial x} &\\overset{!}{=} -\\mu' \\hspace{0.5cm}(ii)\\\\\n",
    "    \\nonumber\\frac{\\partial H}{\\partial \\mu} &\\overset{!}{=} x' \\hspace{0.5cm}(iii)\\\\\n",
    "    \\nonumber\\frac{\\partial \\phi}{\\partial x(T)} &\\overset{!}{=} \\mu(T)  \\hspace{0.5cm}(iv)\n",
    "\\end{align}$\n",
    "\n",
    "If no final function is given, the last condition becomes\n",
    "\n",
    "$\\begin{equation}\n",
    "    \\mu(T)x(T) = 0 \\Leftrightarrow \\mu(T)=0\\lor x(T)=0\n",
    "\\end{equation}$\n",
    "\n",
    "To solve this numerically, we first have to discretise the continuous-time system, creating $N+1$ points in time, with $dt=\\frac{T-t_0}{N}$. Now we start with an initial guess for the time path of the control variable $u^{(0)}$ (superscript denotes iteration number of our algorithm) and use this guess to solve the dynamics of the state variable $x$ *forward* in time, starting from the initial condition. We can use any of the methods from the last three tutorials, but the Runge-Kutta timestepping methods is really the standard here. Having solved the time path of the state variable, and given our initial guess of the control variable, we can now use the $(ii)$, with a starting value from $(iv)$ to solve the time path of $\\mu$ *backwards*. \n",
    "\n",
    "At this point we have the initial guesses for the time paths of all three variables of interest. However, there is no reason to assume that this initial guess is actually optimal. Hence, we can use FOC $(i)$ to satisfy the optimality condition of our control variable $u$. This can be done with a simple Newton-type method of finding the roots of an equation. As we are finding the roots of the derivative, it means we will ultimately find a (local) optimum. In practice, it means that we iterate through the values of $u(t), t\\in[0, dt, ..., T]$, solve for the roots of the FOC at that point in time, and update our guess to $u^{(1)}$. Often, we do not step fully towards the optimum, but only some part of the way, i.e. we set $u^{(k+1)} \\leftarrow (1-\\omega) u^{(k)} + \\omega \\hat{u}^{(k+1)}$. This avoids potential instability in the convergence behaviour through overshooting.\n",
    "\n",
    "We can then start over with this updated guess $u^{(1)}$ for the control variable to re-estimate the time paths for $x$ and $\\mu$ and proceed through the same steps over and over again. We stop when some convergence criterion has been reached, or when we meet a maximum number of iterations, which we typically set in case we cannot reach convergence (we do not want the computer to run forever).\n",
    "\n",
    "As you can see, there are quite a few steps involved, but we will break up the problem into smaller components and go through it step by step. Many of the methods we use are already known to you by now, so I hope the combination of several of these does not appear too daunting at this point. First, we set up a Hamiltonian, then write functions to differentiate numerically, create the timestepping functions for $x$ and $\\mu$ using the fourth-order Runge-Kutta iterator, and then we implement the Newton algorithm to optimise the control variable. Finally, we put it all together to solve the problem that is given below.\n",
    "\n",
    "Everything will be implemented quite generally, so that the program should be able to solve any other optimisation problem where $\\mu(T)=0$. You only have to adjust the Hamiltonian and the state equation."
   ]
  },
  {
   "cell_type": "markdown",
   "id": "5cba17a0",
   "metadata": {},
   "source": [
    "### Optimisation problem\n",
    "\n",
    "As am example we use the farming problem from Sharp et al. (2021). There is a single crop on a field, of which we denote the amount at time $t$ by $x(t)$. The control, e.g. fertilizer to spur growth, is denoted by $u(t)$. We start with an initial amount (small plants at the beginning of the season) $x(0) = x_0$ and have an indeterminate (free) final state $x(T)$ at the end of the growing season. Hence, we want to grow as much as is economically optimal. The condition $x(T)\\mu(T)=0$ then logically implies that $\\mu(T)=0$, as it cannot be optimal to not have anything to harvest ($x(T)=0$).\n",
    "\n",
    "Plants grow better with more fertilizer, leading to the state equation\n",
    "\n",
    "$\\begin{equation}\n",
    "    \\frac{dx}{dt} = \\gamma x(t) + u(t) \n",
    "\\end{equation}$\n",
    "\n",
    "with $x(0)=x_0$. We maximise profit: revenue from harvest sales minus costs of fertilizer. As the growth depends on current size of plants and the amount of fertilizer now, this is a dynamic problem with the objective function\n",
    "\n",
    "$\\begin{equation}\n",
    "    \\text{max } J = \\int_0^1 \\left(ax^2 - bu^2\\right) dt\n",
    "\\end{equation}$\n",
    "\n",
    "We set the length of one season to 1, so that the integral is from $t=0$ to $t=1$. Both revenue and costs are quadratic. The analytical solution is quite cumbersome (provided in the online appendix by Sharp et al. (2021)), so it is better to solve it numerically. Let us take it step by step.\n",
    "\n",
    "\n",
    "##### EXERCISE\n",
    "\n",
    "In the first step, set up the Hamiltonian function and implement it below. Implement the state equation $\\frac{\\partial x}{\\partial t} = f(x, u, t)$ as well! Use the parameter values $a=b=1$ and $\\gamma = 0.5$."
   ]
  },
  {
   "cell_type": "markdown",
   "id": "8bbf46c1",
   "metadata": {},
   "source": [
    "##### SOLUTION\n",
    "\n",
    "The Hamiltonian is given by (supressing time indices):\n",
    "\n",
    "$\\begin{equation}\n",
    "    H = ax^2 - bu^2 + \\mu(\\gamma x + u)\n",
    "\\end{equation}$\n",
    "\n",
    "Implementing it simply means typing this equation, as below. The state equation can also be typed in a straightforward manner."
   ]
  },
  {
   "cell_type": "code",
   "execution_count": 2,
   "id": "96d3a350",
   "metadata": {},
   "outputs": [],
   "source": [
    "def Hamiltonian(x, u, mu, t):\n",
    "    return x * (x + 0.5 * mu) + u * (mu - u)\n",
    "\n",
    "def dxdt(x, u, t):\n",
    "    return 0.5 * x + u"
   ]
  },
  {
   "cell_type": "markdown",
   "id": "da116774",
   "metadata": {},
   "source": [
    "### Numerical differencing\n",
    "\n",
    "It was introduced as a bonus exercise in the previous tutorial, but now you cannot avoid it anymore. Recall the principles that were discussed:\n",
    "\n",
    "Sometimes the derivative of a function may not be easy to calculate, or you don't know the exact function of the dynamic model you are analysing. That can be particularly relevant when you are working with empirical data for which you do not know the exact data-generating function. In that case, numerical differencing comes in handy. Consider the definition of derivatives:\n",
    "\n",
    "$f'(x) = \\underset{\\epsilon\\rightarrow0}{lim}\\frac{f(x+\\epsilon) - f(x)}{\\epsilon}$. \n",
    "\n",
    "We cannot actually implement infinitesimally small steps, but we can approximate derivatives with finite differences, using finitely small values of $\\epsilon$:\n",
    "\n",
    "$f'(x)\\approx\\frac{f(x+\\epsilon) - f(x)}{\\epsilon}; \\hspace{0.5cm}\\epsilon>0$.\n",
    "\n",
    "We can use forward or backwards differencing ($+\\epsilon$ or $-\\epsilon$), but a good option is usually central differences:\n",
    "\n",
    "$f'(x)\\approx\\frac{f(x+\\frac{\\epsilon}{2}) - f(x-\\frac{\\epsilon}{2})}{\\epsilon}$.\n",
    "\n",
    "Since we have to evaluate the function at two points anyway, this does not come at a significantly higher computational cost either.\n",
    "\n",
    "##### EXERCISE\n",
    "\n",
    "Complete the two functions $\\frac{\\partial H}{\\partial u}$ and $\\frac{\\partial H}{\\partial x}$ using numerical differencing (central difference quotient) below. `H` is the Hamiltonian function, which we defined above (and which can be exchanged flexibly if the problem changes), `x`, `u`, `𝜇`, `t` are following the standard notation of the course. They represent the point at which the function is to be evaluated. Finally, `eps` is the parameter that defines the size of the difference we will evaluate, $\\epsilon$ in the description above. We do not need to differentiate with respect to $\\mu$, since it only leads to the state equation, which we know already."
   ]
  },
  {
   "cell_type": "markdown",
   "id": "9059523a",
   "metadata": {},
   "source": [
    "##### SOLUTION\n",
    "\n",
    "Using final differences, we will evaluate the Hamiltonian at points $\\epsilon/2$ above and below the point of interest (along the axis that we differentiate) and divide by the length $\\epsilon$. In the case of the derivative with respect to $u$, that means we calculate\n",
    "\n",
    "$\\begin{equation}\n",
    "    \\frac{\\partial H}{\\partial u}\\approx\\frac{H(x, u+\\epsilon/2, \\mu, t) - H(x, u-\\epsilon/2, \\mu, t)}{\\epsilon}\n",
    "\\end{equation}$"
   ]
  },
  {
   "cell_type": "code",
   "execution_count": 3,
   "id": "dabb0df5",
   "metadata": {},
   "outputs": [],
   "source": [
    "def dHdu(H, x, u, mu, t, eps):\n",
    "    return (H(x, u + 0.5 * eps, mu, t)- H(x, u - 0.5 * eps, mu, t)) / eps\n",
    "\n",
    "def dHdx(H, x, u, mu, t, eps):\n",
    "    return (H(x + 0.5 * eps, u, mu, t) - H(x - 0.5 * eps, u, mu, t)) / eps"
   ]
  },
  {
   "cell_type": "markdown",
   "id": "dc4e0359",
   "metadata": {},
   "source": [
    "##### EXERCISE\n",
    "\n",
    "Next, complete the two functions below. They perform a single Runge-Kutta step in the variables $x$ and $\\mu$. Note that the step in $\\mu$ is *backwards* in time. The time derivative of $\\mu$ is given by the second FOC of the Hamiltonian."
   ]
  },
  {
   "cell_type": "markdown",
   "id": "2b259ca2",
   "metadata": {},
   "source": [
    "##### SOLUTION\n",
    "\n",
    "The Runge-Kutta timestepping method should be known from the last tutorial. The only added challenge here is that $\\mu$ is iterated backwards. That simply means that we will subtract the rate of change, rather than adding it:\n",
    "\n",
    "$\\begin{equation}\n",
    "    \\mu_{k-1} = \\mu_k - \\frac{\\delta}{6} \\left(k_1 + 2k_2 + 2k_3 + k_4\\right)\n",
    "\\end{equation}$\n",
    "\n",
    "where $k_{2,3,4}$ are also calculated backwards, i.e. subtracting differences instead of adding. We do not need to take care of this explicitly though, since we calculate the negative time derivative through the second FOC."
   ]
  },
  {
   "cell_type": "code",
   "execution_count": 4,
   "id": "6aa55a38",
   "metadata": {},
   "outputs": [],
   "source": [
    "def xRK_1step(x, u, t, dt):\n",
    "    k1 = dxdt(x, u, t)\n",
    "    k2 = dxdt(x + dt * k1 * 0.5, u, t)\n",
    "    k3 = dxdt(x + dt * k2 * 0.5, u, t)\n",
    "    k4 = dxdt(x + dt * k3, u, t)\n",
    "    return x + (dt / 6) * (k1 + 2 * (k2 + k3) + k4)\n",
    "\n",
    "def muRK_1step(H, x, u, mu, t, dt, eps):\n",
    "    k1 = dHdx(H, x, u, mu, t, eps)\n",
    "    k2 = dHdx(H, x + dt * k1 * 0.5, u, mu, t, eps)\n",
    "    k3 = dHdx(H, x + dt * k2 * 0.5, u, mu, t, eps)\n",
    "    k4 = dHdx(H, x + dt * k3, u, mu, t, eps)\n",
    "    return mu + (dt / 6) * (k1 + 2 * (k2 + k3) + k4)"
   ]
  },
  {
   "cell_type": "markdown",
   "id": "cdefecd1",
   "metadata": {},
   "source": [
    "The next set of functions we need is the implementation of the Newton method to optimise our control, given our time paths of $x$ and $\\mu$ (which were calculated with the last guess of the control variable). We will use Newton's algorithm again, applying it independently to the values of our control variable at every point in time. Note that we look for the roots of the derivative of the Hamiltonian with respect to the control variable, so we will also need the next higher (second-order) derivative. \n",
    "\n",
    "##### EXERCISE\n",
    "\n",
    "Calculate the second derivative of the Hamiltonian with respect to $u$ ($\\frac{\\partial^2 H}{\\partial u^2}$), using numerical differencing."
   ]
  },
  {
   "cell_type": "markdown",
   "id": "0270bdd0",
   "metadata": {},
   "source": [
    "##### SOLUTION\n",
    "\n",
    "All we have to do is differentiate the differences, apply the function from above:"
   ]
  },
  {
   "cell_type": "code",
   "execution_count": 5,
   "id": "b329b89b",
   "metadata": {},
   "outputs": [],
   "source": [
    "def d2Hdu2(H, x, u, mu, t, eps):\n",
    "    return (dHdu(H, x, u + 0.5 * eps, mu, t, eps) - dHdu(H, x, u - 0.5 * eps, mu, t, eps)) / eps"
   ]
  },
  {
   "cell_type": "markdown",
   "id": "37477acb",
   "metadata": {},
   "source": [
    "##### EXERCISE\n",
    "\n",
    "Now implement Newton's method on a single value $u$ at one point in time"
   ]
  },
  {
   "cell_type": "markdown",
   "id": "c375c004",
   "metadata": {},
   "source": [
    "##### SOLUTION\n",
    "\n"
   ]
  },
  {
   "cell_type": "code",
   "execution_count": 6,
   "id": "b371c3f7",
   "metadata": {},
   "outputs": [],
   "source": [
    "def uNewton(H, x, u, mu, t):\n",
    "    '''\n",
    "    Find the optimal value of the control variable u at one point in time\n",
    "    using Newton's method.\n",
    "    \n",
    "    Critical values to determine satisfactory convergence or iteration\n",
    "    limits are defined in the function to reduce the amount of inputs.\n",
    "    Note that in your own applications, it might make sense to designate \n",
    "    them as input variables.\n",
    "    \n",
    "    Inputs:\n",
    "        H: function object to specify the Hamiltonian\n",
    "        x: value of state variable \n",
    "        u: initial value u\n",
    "        mu: value of co-state variable (shadow price)\n",
    "        t: time index (in case it matters, e.g. when discounting is involved)\n",
    "        \n",
    "    Output:\n",
    "        optimal value for control variable u, given the other variables\n",
    "    '''\n",
    "    crit = 1e-6      # critical value for convergence\n",
    "    max_iter = 100   # maximum amount of iterations\n",
    "    eps = 0.01       # step size in numerical differencing scheme\n",
    "    for i in range(max_iter):\n",
    "        # single Newton step\n",
    "        u = u - (dHdu(H, x, u, mu, t, eps) / d2Hdu2(H, x, u, mu, t, eps))\n",
    "        # check convergence criterion\n",
    "        if abs(dHdu(H, x, u, mu, t, eps)) < crit:\n",
    "            break\n",
    "    # return updated control u \n",
    "    return u"
   ]
  },
  {
   "cell_type": "markdown",
   "id": "67473db0",
   "metadata": {},
   "source": [
    "##### EXERCISE\n",
    "\n",
    "And finally, update all values in the array of $u$ to the improved guess, simply iterating through the array. Do not use the output of Newton's method $\\hat{u}^{(k+1)}$, but the weighted average $u^{(k+1)} = (1-\\omega) u^{(k)} + \\omega \\hat{u}^{(k+1)}$. Only moving part of the way towards the optimal guess can improve stability of the algorithm (less overshooting)."
   ]
  },
  {
   "cell_type": "markdown",
   "id": "11d56196",
   "metadata": {},
   "source": [
    "##### SOLUTION"
   ]
  },
  {
   "cell_type": "code",
   "execution_count": 7,
   "id": "aa8632eb",
   "metadata": {},
   "outputs": [],
   "source": [
    "def update_control(H, X, U, Mu, T, omega):\n",
    "    '''\n",
    "    Update the entire array of control variable values.\n",
    "    \n",
    "    Imputs:\n",
    "        H: Hamiltonian function object\n",
    "        X: array of state variable x values\n",
    "        U: array of last iterations best guess of control variables u values\n",
    "        Mu: array of co-state variable values\n",
    "        T: time array\n",
    "        omega: step size towards new optimal guess with 0<omega<1\n",
    "        \n",
    "    Output:\n",
    "        updated best guess for control variable array U\n",
    "    '''\n",
    "    for i, u in enumerate(U):\n",
    "        U[i] = (1 - omega) * u + omega * uNewton(H, X[i], u, Mu[i], T[i])\n",
    "    return U"
   ]
  },
  {
   "cell_type": "markdown",
   "id": "75f66a43",
   "metadata": {},
   "source": [
    "Finally, we simply put it all together. The function below first defines some variables and arrays. The arrays of the state and co-state are empty for now, while the control variable is an array of zeros. Then we start our iterative algorithm: first create the time series of the state variable, iterating it forward with `N` Runge-Kutta steps, then we do the same backwards for the co-state. Before we optimise the control variable we store the current value in a separate array as a copy, so once it is optimised, we can compare and check if they differ at all. If they are extremely similar (here we check the Euclidean norm of the difference of both \"vectors\"), we conclude that the algorithm has converged and break out of the loop. Finally, we return the result."
   ]
  },
  {
   "cell_type": "code",
   "execution_count": 8,
   "id": "173ba837",
   "metadata": {},
   "outputs": [],
   "source": [
    "def optimize(H, x0, dt, T):\n",
    "    '''\n",
    "    Optimization function to implement the forward-backward-sweep method \n",
    "    for cases where the transversality condition mu(T)=0 applies.\n",
    "    \n",
    "    Final time T is set to 1.\n",
    "    \n",
    "    Convergence is considered achieved when the optimal guess in the control\n",
    "    variable does not change considerably anymore. To measure this change,\n",
    "    we use the Euclidean norm of the difference between the old and new \n",
    "    optimal time series arrays of u.\n",
    "    \n",
    "    Inputs:\n",
    "        H: Hamiltonian function object\n",
    "        x0: initial state of state variable x\n",
    "        dt: size of time increment (subject to adjustments so equal steps \n",
    "            can be guaranteed)\n",
    "            \n",
    "    Outputs:\n",
    "        x: state variable time series\n",
    "        u: control variable time series\n",
    "        mu: co-state time series\n",
    "    '''\n",
    "    # these could be function inputs as well:\n",
    "    max_iter = 1000\n",
    "    omega = 0.5\n",
    "    eps = 0.01\n",
    "    \n",
    "    # initialise some variables and arrays\n",
    "    N = int(1 / dt)              # number of time steps, as an integer\n",
    "    dt = 1 / N                   # adjust dt to fit into interval\n",
    "    t = np.linspace(0, T, N+1)   # time array\n",
    "    x = np.empty(N+1)            # state variable array (empty at first)\n",
    "    x[0] = x0                    # first entry is the initial state\n",
    "    mu = np.empty(N+1)           # empty array for co-state (shadow price)\n",
    "    mu[-1] = 0                   # last entry is 0 \n",
    "    u = np.zeros(N+1)            # intial guess for control variable: array of zeros\n",
    "  \n",
    "    # start iterating to update u\n",
    "    for i in range(max_iter):\n",
    "        # create time series of state and costate based on u\n",
    "        for i in range(N):\n",
    "            x[i+1] = xRK_1step(x[i], u[i], t[i], dt)\n",
    "        for i in range(N, 0, -1):\n",
    "            mu[i-1] = muRK_1step(H, x[i], u[i], mu[i], t[i], dt, eps)\n",
    "        \n",
    "        # store last value of u for comparison afterwards\n",
    "        u_old = u.copy()\n",
    "        # new control guess\n",
    "        u = update_control(H, x, u, mu, t, omega)\n",
    "          \n",
    "        # stopping criterion\n",
    "        if np.linalg.norm(u - u_old) < 1e-10:\n",
    "            print(f\"convergence after {i+1} iterations\")\n",
    "            break\n",
    "            \n",
    "    return x, u, mu"
   ]
  },
  {
   "cell_type": "code",
   "execution_count": 9,
   "id": "1f16013e",
   "metadata": {},
   "outputs": [
    {
     "name": "stdout",
     "output_type": "stream",
     "text": [
      "convergence after 2 iterations\n"
     ]
    }
   ],
   "source": [
    "x0 = 1\n",
    "T = 1\n",
    "dt = 1/(2**10)\n",
    "\n",
    "x, u, mu = optimize(Hamiltonian, x0, dt, T)"
   ]
  },
  {
   "cell_type": "markdown",
   "id": "07cc8578",
   "metadata": {},
   "source": [
    "Find below a graphical representation of the optimal solutions of state and control variables:"
   ]
  },
  {
   "cell_type": "code",
   "execution_count": 10,
   "id": "70931506",
   "metadata": {},
   "outputs": [
    {
     "data": {
      "application/javascript": "/* Put everything inside the global mpl namespace */\n/* global mpl */\nwindow.mpl = {};\n\nmpl.get_websocket_type = function () {\n    if (typeof WebSocket !== 'undefined') {\n        return WebSocket;\n    } else if (typeof MozWebSocket !== 'undefined') {\n        return MozWebSocket;\n    } else {\n        alert(\n            'Your browser does not have WebSocket support. ' +\n                'Please try Chrome, Safari or Firefox ≥ 6. ' +\n                'Firefox 4 and 5 are also supported but you ' +\n                'have to enable WebSockets in about:config.'\n        );\n    }\n};\n\nmpl.figure = function (figure_id, websocket, ondownload, parent_element) {\n    this.id = figure_id;\n\n    this.ws = websocket;\n\n    this.supports_binary = this.ws.binaryType !== undefined;\n\n    if (!this.supports_binary) {\n        var warnings = document.getElementById('mpl-warnings');\n        if (warnings) {\n            warnings.style.display = 'block';\n            warnings.textContent =\n                'This browser does not support binary websocket messages. ' +\n                'Performance may be slow.';\n        }\n    }\n\n    this.imageObj = new Image();\n\n    this.context = undefined;\n    this.message = undefined;\n    this.canvas = undefined;\n    this.rubberband_canvas = undefined;\n    this.rubberband_context = undefined;\n    this.format_dropdown = undefined;\n\n    this.image_mode = 'full';\n\n    this.root = document.createElement('div');\n    this.root.setAttribute('style', 'display: inline-block');\n    this._root_extra_style(this.root);\n\n    parent_element.appendChild(this.root);\n\n    this._init_header(this);\n    this._init_canvas(this);\n    this._init_toolbar(this);\n\n    var fig = this;\n\n    this.waiting = false;\n\n    this.ws.onopen = function () {\n        fig.send_message('supports_binary', { value: fig.supports_binary });\n        fig.send_message('send_image_mode', {});\n        if (fig.ratio !== 1) {\n            fig.send_message('set_device_pixel_ratio', {\n                device_pixel_ratio: fig.ratio,\n            });\n        }\n        fig.send_message('refresh', {});\n    };\n\n    this.imageObj.onload = function () {\n        if (fig.image_mode === 'full') {\n            // Full images could contain transparency (where diff images\n            // almost always do), so we need to clear the canvas so that\n            // there is no ghosting.\n            fig.context.clearRect(0, 0, fig.canvas.width, fig.canvas.height);\n        }\n        fig.context.drawImage(fig.imageObj, 0, 0);\n    };\n\n    this.imageObj.onunload = function () {\n        fig.ws.close();\n    };\n\n    this.ws.onmessage = this._make_on_message_function(this);\n\n    this.ondownload = ondownload;\n};\n\nmpl.figure.prototype._init_header = function () {\n    var titlebar = document.createElement('div');\n    titlebar.classList =\n        'ui-dialog-titlebar ui-widget-header ui-corner-all ui-helper-clearfix';\n    var titletext = document.createElement('div');\n    titletext.classList = 'ui-dialog-title';\n    titletext.setAttribute(\n        'style',\n        'width: 100%; text-align: center; padding: 3px;'\n    );\n    titlebar.appendChild(titletext);\n    this.root.appendChild(titlebar);\n    this.header = titletext;\n};\n\nmpl.figure.prototype._canvas_extra_style = function (_canvas_div) {};\n\nmpl.figure.prototype._root_extra_style = function (_canvas_div) {};\n\nmpl.figure.prototype._init_canvas = function () {\n    var fig = this;\n\n    var canvas_div = (this.canvas_div = document.createElement('div'));\n    canvas_div.setAttribute('tabindex', '0');\n    canvas_div.setAttribute(\n        'style',\n        'border: 1px solid #ddd;' +\n            'box-sizing: content-box;' +\n            'clear: both;' +\n            'min-height: 1px;' +\n            'min-width: 1px;' +\n            'outline: 0;' +\n            'overflow: hidden;' +\n            'position: relative;' +\n            'resize: both;' +\n            'z-index: 2;'\n    );\n\n    function on_keyboard_event_closure(name) {\n        return function (event) {\n            return fig.key_event(event, name);\n        };\n    }\n\n    canvas_div.addEventListener(\n        'keydown',\n        on_keyboard_event_closure('key_press')\n    );\n    canvas_div.addEventListener(\n        'keyup',\n        on_keyboard_event_closure('key_release')\n    );\n\n    this._canvas_extra_style(canvas_div);\n    this.root.appendChild(canvas_div);\n\n    var canvas = (this.canvas = document.createElement('canvas'));\n    canvas.classList.add('mpl-canvas');\n    canvas.setAttribute(\n        'style',\n        'box-sizing: content-box;' +\n            'pointer-events: none;' +\n            'position: relative;' +\n            'z-index: 0;'\n    );\n\n    this.context = canvas.getContext('2d');\n\n    var backingStore =\n        this.context.backingStorePixelRatio ||\n        this.context.webkitBackingStorePixelRatio ||\n        this.context.mozBackingStorePixelRatio ||\n        this.context.msBackingStorePixelRatio ||\n        this.context.oBackingStorePixelRatio ||\n        this.context.backingStorePixelRatio ||\n        1;\n\n    this.ratio = (window.devicePixelRatio || 1) / backingStore;\n\n    var rubberband_canvas = (this.rubberband_canvas = document.createElement(\n        'canvas'\n    ));\n    rubberband_canvas.setAttribute(\n        'style',\n        'box-sizing: content-box;' +\n            'left: 0;' +\n            'pointer-events: none;' +\n            'position: absolute;' +\n            'top: 0;' +\n            'z-index: 1;'\n    );\n\n    // Apply a ponyfill if ResizeObserver is not implemented by browser.\n    if (this.ResizeObserver === undefined) {\n        if (window.ResizeObserver !== undefined) {\n            this.ResizeObserver = window.ResizeObserver;\n        } else {\n            var obs = _JSXTOOLS_RESIZE_OBSERVER({});\n            this.ResizeObserver = obs.ResizeObserver;\n        }\n    }\n\n    this.resizeObserverInstance = new this.ResizeObserver(function (entries) {\n        var nentries = entries.length;\n        for (var i = 0; i < nentries; i++) {\n            var entry = entries[i];\n            var width, height;\n            if (entry.contentBoxSize) {\n                if (entry.contentBoxSize instanceof Array) {\n                    // Chrome 84 implements new version of spec.\n                    width = entry.contentBoxSize[0].inlineSize;\n                    height = entry.contentBoxSize[0].blockSize;\n                } else {\n                    // Firefox implements old version of spec.\n                    width = entry.contentBoxSize.inlineSize;\n                    height = entry.contentBoxSize.blockSize;\n                }\n            } else {\n                // Chrome <84 implements even older version of spec.\n                width = entry.contentRect.width;\n                height = entry.contentRect.height;\n            }\n\n            // Keep the size of the canvas and rubber band canvas in sync with\n            // the canvas container.\n            if (entry.devicePixelContentBoxSize) {\n                // Chrome 84 implements new version of spec.\n                canvas.setAttribute(\n                    'width',\n                    entry.devicePixelContentBoxSize[0].inlineSize\n                );\n                canvas.setAttribute(\n                    'height',\n                    entry.devicePixelContentBoxSize[0].blockSize\n                );\n            } else {\n                canvas.setAttribute('width', width * fig.ratio);\n                canvas.setAttribute('height', height * fig.ratio);\n            }\n            /* This rescales the canvas back to display pixels, so that it\n             * appears correct on HiDPI screens. */\n            canvas.style.width = width + 'px';\n            canvas.style.height = height + 'px';\n\n            rubberband_canvas.setAttribute('width', width);\n            rubberband_canvas.setAttribute('height', height);\n\n            // And update the size in Python. We ignore the initial 0/0 size\n            // that occurs as the element is placed into the DOM, which should\n            // otherwise not happen due to the minimum size styling.\n            if (fig.ws.readyState == 1 && width != 0 && height != 0) {\n                fig.request_resize(width, height);\n            }\n        }\n    });\n    this.resizeObserverInstance.observe(canvas_div);\n\n    function on_mouse_event_closure(name) {\n        /* User Agent sniffing is bad, but WebKit is busted:\n         * https://bugs.webkit.org/show_bug.cgi?id=144526\n         * https://bugs.webkit.org/show_bug.cgi?id=181818\n         * The worst that happens here is that they get an extra browser\n         * selection when dragging, if this check fails to catch them.\n         */\n        var UA = navigator.userAgent;\n        var isWebKit = /AppleWebKit/.test(UA) && !/Chrome/.test(UA);\n        if(isWebKit) {\n            return function (event) {\n                /* This prevents the web browser from automatically changing to\n                 * the text insertion cursor when the button is pressed. We\n                 * want to control all of the cursor setting manually through\n                 * the 'cursor' event from matplotlib */\n                event.preventDefault()\n                return fig.mouse_event(event, name);\n            };\n        } else {\n            return function (event) {\n                return fig.mouse_event(event, name);\n            };\n        }\n    }\n\n    canvas_div.addEventListener(\n        'mousedown',\n        on_mouse_event_closure('button_press')\n    );\n    canvas_div.addEventListener(\n        'mouseup',\n        on_mouse_event_closure('button_release')\n    );\n    canvas_div.addEventListener(\n        'dblclick',\n        on_mouse_event_closure('dblclick')\n    );\n    // Throttle sequential mouse events to 1 every 20ms.\n    canvas_div.addEventListener(\n        'mousemove',\n        on_mouse_event_closure('motion_notify')\n    );\n\n    canvas_div.addEventListener(\n        'mouseenter',\n        on_mouse_event_closure('figure_enter')\n    );\n    canvas_div.addEventListener(\n        'mouseleave',\n        on_mouse_event_closure('figure_leave')\n    );\n\n    canvas_div.addEventListener('wheel', function (event) {\n        if (event.deltaY < 0) {\n            event.step = 1;\n        } else {\n            event.step = -1;\n        }\n        on_mouse_event_closure('scroll')(event);\n    });\n\n    canvas_div.appendChild(canvas);\n    canvas_div.appendChild(rubberband_canvas);\n\n    this.rubberband_context = rubberband_canvas.getContext('2d');\n    this.rubberband_context.strokeStyle = '#000000';\n\n    this._resize_canvas = function (width, height, forward) {\n        if (forward) {\n            canvas_div.style.width = width + 'px';\n            canvas_div.style.height = height + 'px';\n        }\n    };\n\n    // Disable right mouse context menu.\n    canvas_div.addEventListener('contextmenu', function (_e) {\n        event.preventDefault();\n        return false;\n    });\n\n    function set_focus() {\n        canvas.focus();\n        canvas_div.focus();\n    }\n\n    window.setTimeout(set_focus, 100);\n};\n\nmpl.figure.prototype._init_toolbar = function () {\n    var fig = this;\n\n    var toolbar = document.createElement('div');\n    toolbar.classList = 'mpl-toolbar';\n    this.root.appendChild(toolbar);\n\n    function on_click_closure(name) {\n        return function (_event) {\n            return fig.toolbar_button_onclick(name);\n        };\n    }\n\n    function on_mouseover_closure(tooltip) {\n        return function (event) {\n            if (!event.currentTarget.disabled) {\n                return fig.toolbar_button_onmouseover(tooltip);\n            }\n        };\n    }\n\n    fig.buttons = {};\n    var buttonGroup = document.createElement('div');\n    buttonGroup.classList = 'mpl-button-group';\n    for (var toolbar_ind in mpl.toolbar_items) {\n        var name = mpl.toolbar_items[toolbar_ind][0];\n        var tooltip = mpl.toolbar_items[toolbar_ind][1];\n        var image = mpl.toolbar_items[toolbar_ind][2];\n        var method_name = mpl.toolbar_items[toolbar_ind][3];\n\n        if (!name) {\n            /* Instead of a spacer, we start a new button group. */\n            if (buttonGroup.hasChildNodes()) {\n                toolbar.appendChild(buttonGroup);\n            }\n            buttonGroup = document.createElement('div');\n            buttonGroup.classList = 'mpl-button-group';\n            continue;\n        }\n\n        var button = (fig.buttons[name] = document.createElement('button'));\n        button.classList = 'mpl-widget';\n        button.setAttribute('role', 'button');\n        button.setAttribute('aria-disabled', 'false');\n        button.addEventListener('click', on_click_closure(method_name));\n        button.addEventListener('mouseover', on_mouseover_closure(tooltip));\n\n        var icon_img = document.createElement('img');\n        icon_img.src = '_images/' + image + '.png';\n        icon_img.srcset = '_images/' + image + '_large.png 2x';\n        icon_img.alt = tooltip;\n        button.appendChild(icon_img);\n\n        buttonGroup.appendChild(button);\n    }\n\n    if (buttonGroup.hasChildNodes()) {\n        toolbar.appendChild(buttonGroup);\n    }\n\n    var fmt_picker = document.createElement('select');\n    fmt_picker.classList = 'mpl-widget';\n    toolbar.appendChild(fmt_picker);\n    this.format_dropdown = fmt_picker;\n\n    for (var ind in mpl.extensions) {\n        var fmt = mpl.extensions[ind];\n        var option = document.createElement('option');\n        option.selected = fmt === mpl.default_extension;\n        option.innerHTML = fmt;\n        fmt_picker.appendChild(option);\n    }\n\n    var status_bar = document.createElement('span');\n    status_bar.classList = 'mpl-message';\n    toolbar.appendChild(status_bar);\n    this.message = status_bar;\n};\n\nmpl.figure.prototype.request_resize = function (x_pixels, y_pixels) {\n    // Request matplotlib to resize the figure. Matplotlib will then trigger a resize in the client,\n    // which will in turn request a refresh of the image.\n    this.send_message('resize', { width: x_pixels, height: y_pixels });\n};\n\nmpl.figure.prototype.send_message = function (type, properties) {\n    properties['type'] = type;\n    properties['figure_id'] = this.id;\n    this.ws.send(JSON.stringify(properties));\n};\n\nmpl.figure.prototype.send_draw_message = function () {\n    if (!this.waiting) {\n        this.waiting = true;\n        this.ws.send(JSON.stringify({ type: 'draw', figure_id: this.id }));\n    }\n};\n\nmpl.figure.prototype.handle_save = function (fig, _msg) {\n    var format_dropdown = fig.format_dropdown;\n    var format = format_dropdown.options[format_dropdown.selectedIndex].value;\n    fig.ondownload(fig, format);\n};\n\nmpl.figure.prototype.handle_resize = function (fig, msg) {\n    var size = msg['size'];\n    if (size[0] !== fig.canvas.width || size[1] !== fig.canvas.height) {\n        fig._resize_canvas(size[0], size[1], msg['forward']);\n        fig.send_message('refresh', {});\n    }\n};\n\nmpl.figure.prototype.handle_rubberband = function (fig, msg) {\n    var x0 = msg['x0'] / fig.ratio;\n    var y0 = (fig.canvas.height - msg['y0']) / fig.ratio;\n    var x1 = msg['x1'] / fig.ratio;\n    var y1 = (fig.canvas.height - msg['y1']) / fig.ratio;\n    x0 = Math.floor(x0) + 0.5;\n    y0 = Math.floor(y0) + 0.5;\n    x1 = Math.floor(x1) + 0.5;\n    y1 = Math.floor(y1) + 0.5;\n    var min_x = Math.min(x0, x1);\n    var min_y = Math.min(y0, y1);\n    var width = Math.abs(x1 - x0);\n    var height = Math.abs(y1 - y0);\n\n    fig.rubberband_context.clearRect(\n        0,\n        0,\n        fig.canvas.width / fig.ratio,\n        fig.canvas.height / fig.ratio\n    );\n\n    fig.rubberband_context.strokeRect(min_x, min_y, width, height);\n};\n\nmpl.figure.prototype.handle_figure_label = function (fig, msg) {\n    // Updates the figure title.\n    fig.header.textContent = msg['label'];\n};\n\nmpl.figure.prototype.handle_cursor = function (fig, msg) {\n    fig.canvas_div.style.cursor = msg['cursor'];\n};\n\nmpl.figure.prototype.handle_message = function (fig, msg) {\n    fig.message.textContent = msg['message'];\n};\n\nmpl.figure.prototype.handle_draw = function (fig, _msg) {\n    // Request the server to send over a new figure.\n    fig.send_draw_message();\n};\n\nmpl.figure.prototype.handle_image_mode = function (fig, msg) {\n    fig.image_mode = msg['mode'];\n};\n\nmpl.figure.prototype.handle_history_buttons = function (fig, msg) {\n    for (var key in msg) {\n        if (!(key in fig.buttons)) {\n            continue;\n        }\n        fig.buttons[key].disabled = !msg[key];\n        fig.buttons[key].setAttribute('aria-disabled', !msg[key]);\n    }\n};\n\nmpl.figure.prototype.handle_navigate_mode = function (fig, msg) {\n    if (msg['mode'] === 'PAN') {\n        fig.buttons['Pan'].classList.add('active');\n        fig.buttons['Zoom'].classList.remove('active');\n    } else if (msg['mode'] === 'ZOOM') {\n        fig.buttons['Pan'].classList.remove('active');\n        fig.buttons['Zoom'].classList.add('active');\n    } else {\n        fig.buttons['Pan'].classList.remove('active');\n        fig.buttons['Zoom'].classList.remove('active');\n    }\n};\n\nmpl.figure.prototype.updated_canvas_event = function () {\n    // Called whenever the canvas gets updated.\n    this.send_message('ack', {});\n};\n\n// A function to construct a web socket function for onmessage handling.\n// Called in the figure constructor.\nmpl.figure.prototype._make_on_message_function = function (fig) {\n    return function socket_on_message(evt) {\n        if (evt.data instanceof Blob) {\n            var img = evt.data;\n            if (img.type !== 'image/png') {\n                /* FIXME: We get \"Resource interpreted as Image but\n                 * transferred with MIME type text/plain:\" errors on\n                 * Chrome.  But how to set the MIME type?  It doesn't seem\n                 * to be part of the websocket stream */\n                img.type = 'image/png';\n            }\n\n            /* Free the memory for the previous frames */\n            if (fig.imageObj.src) {\n                (window.URL || window.webkitURL).revokeObjectURL(\n                    fig.imageObj.src\n                );\n            }\n\n            fig.imageObj.src = (window.URL || window.webkitURL).createObjectURL(\n                img\n            );\n            fig.updated_canvas_event();\n            fig.waiting = false;\n            return;\n        } else if (\n            typeof evt.data === 'string' &&\n            evt.data.slice(0, 21) === 'data:image/png;base64'\n        ) {\n            fig.imageObj.src = evt.data;\n            fig.updated_canvas_event();\n            fig.waiting = false;\n            return;\n        }\n\n        var msg = JSON.parse(evt.data);\n        var msg_type = msg['type'];\n\n        // Call the  \"handle_{type}\" callback, which takes\n        // the figure and JSON message as its only arguments.\n        try {\n            var callback = fig['handle_' + msg_type];\n        } catch (e) {\n            console.log(\n                \"No handler for the '\" + msg_type + \"' message type: \",\n                msg\n            );\n            return;\n        }\n\n        if (callback) {\n            try {\n                // console.log(\"Handling '\" + msg_type + \"' message: \", msg);\n                callback(fig, msg);\n            } catch (e) {\n                console.log(\n                    \"Exception inside the 'handler_\" + msg_type + \"' callback:\",\n                    e,\n                    e.stack,\n                    msg\n                );\n            }\n        }\n    };\n};\n\n\n/*\n * return a copy of an object with only non-object keys\n * we need this to avoid circular references\n * https://stackoverflow.com/a/24161582/3208463\n */\nfunction simpleKeys(original) {\n    return Object.keys(original).reduce(function (obj, key) {\n        if (typeof original[key] !== 'object') {\n            obj[key] = original[key];\n        }\n        return obj;\n    }, {});\n}\n\nmpl.figure.prototype.mouse_event = function (event, name) {\n    if (name === 'button_press') {\n        this.canvas.focus();\n        this.canvas_div.focus();\n    }\n\n    // from https://stackoverflow.com/q/1114465\n    var boundingRect = this.canvas.getBoundingClientRect();\n    var x = (event.clientX - boundingRect.left) * this.ratio;\n    var y = (event.clientY - boundingRect.top) * this.ratio;\n\n    this.send_message(name, {\n        x: x,\n        y: y,\n        button: event.button,\n        step: event.step,\n        guiEvent: simpleKeys(event),\n    });\n\n    return false;\n};\n\nmpl.figure.prototype._key_event_extra = function (_event, _name) {\n    // Handle any extra behaviour associated with a key event\n};\n\nmpl.figure.prototype.key_event = function (event, name) {\n    // Prevent repeat events\n    if (name === 'key_press') {\n        if (event.key === this._key) {\n            return;\n        } else {\n            this._key = event.key;\n        }\n    }\n    if (name === 'key_release') {\n        this._key = null;\n    }\n\n    var value = '';\n    if (event.ctrlKey && event.key !== 'Control') {\n        value += 'ctrl+';\n    }\n    else if (event.altKey && event.key !== 'Alt') {\n        value += 'alt+';\n    }\n    else if (event.shiftKey && event.key !== 'Shift') {\n        value += 'shift+';\n    }\n\n    value += 'k' + event.key;\n\n    this._key_event_extra(event, name);\n\n    this.send_message(name, { key: value, guiEvent: simpleKeys(event) });\n    return false;\n};\n\nmpl.figure.prototype.toolbar_button_onclick = function (name) {\n    if (name === 'download') {\n        this.handle_save(this, null);\n    } else {\n        this.send_message('toolbar_button', { name: name });\n    }\n};\n\nmpl.figure.prototype.toolbar_button_onmouseover = function (tooltip) {\n    this.message.textContent = tooltip;\n};\n\n///////////////// REMAINING CONTENT GENERATED BY embed_js.py /////////////////\n// prettier-ignore\nvar _JSXTOOLS_RESIZE_OBSERVER=function(A){var t,i=new WeakMap,n=new WeakMap,a=new WeakMap,r=new WeakMap,o=new Set;function s(e){if(!(this instanceof s))throw new TypeError(\"Constructor requires 'new' operator\");i.set(this,e)}function h(){throw new TypeError(\"Function is not a constructor\")}function c(e,t,i,n){e=0 in arguments?Number(arguments[0]):0,t=1 in arguments?Number(arguments[1]):0,i=2 in arguments?Number(arguments[2]):0,n=3 in arguments?Number(arguments[3]):0,this.right=(this.x=this.left=e)+(this.width=i),this.bottom=(this.y=this.top=t)+(this.height=n),Object.freeze(this)}function d(){t=requestAnimationFrame(d);var s=new WeakMap,p=new Set;o.forEach((function(t){r.get(t).forEach((function(i){var r=t instanceof window.SVGElement,o=a.get(t),d=r?0:parseFloat(o.paddingTop),f=r?0:parseFloat(o.paddingRight),l=r?0:parseFloat(o.paddingBottom),u=r?0:parseFloat(o.paddingLeft),g=r?0:parseFloat(o.borderTopWidth),m=r?0:parseFloat(o.borderRightWidth),w=r?0:parseFloat(o.borderBottomWidth),b=u+f,F=d+l,v=(r?0:parseFloat(o.borderLeftWidth))+m,W=g+w,y=r?0:t.offsetHeight-W-t.clientHeight,E=r?0:t.offsetWidth-v-t.clientWidth,R=b+v,z=F+W,M=r?t.width:parseFloat(o.width)-R-E,O=r?t.height:parseFloat(o.height)-z-y;if(n.has(t)){var k=n.get(t);if(k[0]===M&&k[1]===O)return}n.set(t,[M,O]);var S=Object.create(h.prototype);S.target=t,S.contentRect=new c(u,d,M,O),s.has(i)||(s.set(i,[]),p.add(i)),s.get(i).push(S)}))})),p.forEach((function(e){i.get(e).call(e,s.get(e),e)}))}return s.prototype.observe=function(i){if(i instanceof window.Element){r.has(i)||(r.set(i,new Set),o.add(i),a.set(i,window.getComputedStyle(i)));var n=r.get(i);n.has(this)||n.add(this),cancelAnimationFrame(t),t=requestAnimationFrame(d)}},s.prototype.unobserve=function(i){if(i instanceof window.Element&&r.has(i)){var n=r.get(i);n.has(this)&&(n.delete(this),n.size||(r.delete(i),o.delete(i))),n.size||r.delete(i),o.size||cancelAnimationFrame(t)}},A.DOMRectReadOnly=c,A.ResizeObserver=s,A.ResizeObserverEntry=h,A}; // eslint-disable-line\nmpl.toolbar_items = [[\"Home\", \"Reset original view\", \"fa fa-home\", \"home\"], [\"Back\", \"Back to previous view\", \"fa fa-arrow-left\", \"back\"], [\"Forward\", \"Forward to next view\", \"fa fa-arrow-right\", \"forward\"], [\"\", \"\", \"\", \"\"], [\"Pan\", \"Left button pans, Right button zooms\\nx/y fixes axis, CTRL fixes aspect\", \"fa fa-arrows\", \"pan\"], [\"Zoom\", \"Zoom to rectangle\\nx/y fixes axis\", \"fa fa-square-o\", \"zoom\"], [\"\", \"\", \"\", \"\"], [\"Download\", \"Download plot\", \"fa fa-floppy-o\", \"download\"]];\n\nmpl.extensions = [\"eps\", \"jpeg\", \"pgf\", \"pdf\", \"png\", \"ps\", \"raw\", \"svg\", \"tif\", \"webp\"];\n\nmpl.default_extension = \"png\";/* global mpl */\n\nvar comm_websocket_adapter = function (comm) {\n    // Create a \"websocket\"-like object which calls the given IPython comm\n    // object with the appropriate methods. Currently this is a non binary\n    // socket, so there is still some room for performance tuning.\n    var ws = {};\n\n    ws.binaryType = comm.kernel.ws.binaryType;\n    ws.readyState = comm.kernel.ws.readyState;\n    function updateReadyState(_event) {\n        if (comm.kernel.ws) {\n            ws.readyState = comm.kernel.ws.readyState;\n        } else {\n            ws.readyState = 3; // Closed state.\n        }\n    }\n    comm.kernel.ws.addEventListener('open', updateReadyState);\n    comm.kernel.ws.addEventListener('close', updateReadyState);\n    comm.kernel.ws.addEventListener('error', updateReadyState);\n\n    ws.close = function () {\n        comm.close();\n    };\n    ws.send = function (m) {\n        //console.log('sending', m);\n        comm.send(m);\n    };\n    // Register the callback with on_msg.\n    comm.on_msg(function (msg) {\n        //console.log('receiving', msg['content']['data'], msg);\n        var data = msg['content']['data'];\n        if (data['blob'] !== undefined) {\n            data = {\n                data: new Blob(msg['buffers'], { type: data['blob'] }),\n            };\n        }\n        // Pass the mpl event to the overridden (by mpl) onmessage function.\n        ws.onmessage(data);\n    });\n    return ws;\n};\n\nmpl.mpl_figure_comm = function (comm, msg) {\n    // This is the function which gets called when the mpl process\n    // starts-up an IPython Comm through the \"matplotlib\" channel.\n\n    var id = msg.content.data.id;\n    // Get hold of the div created by the display call when the Comm\n    // socket was opened in Python.\n    var element = document.getElementById(id);\n    var ws_proxy = comm_websocket_adapter(comm);\n\n    function ondownload(figure, _format) {\n        window.open(figure.canvas.toDataURL());\n    }\n\n    var fig = new mpl.figure(id, ws_proxy, ondownload, element);\n\n    // Call onopen now - mpl needs it, as it is assuming we've passed it a real\n    // web socket which is closed, not our websocket->open comm proxy.\n    ws_proxy.onopen();\n\n    fig.parent_element = element;\n    fig.cell_info = mpl.find_output_cell(\"<div id='\" + id + \"'></div>\");\n    if (!fig.cell_info) {\n        console.error('Failed to find cell for figure', id, fig);\n        return;\n    }\n    fig.cell_info[0].output_area.element.on(\n        'cleared',\n        { fig: fig },\n        fig._remove_fig_handler\n    );\n};\n\nmpl.figure.prototype.handle_close = function (fig, msg) {\n    var width = fig.canvas.width / fig.ratio;\n    fig.cell_info[0].output_area.element.off(\n        'cleared',\n        fig._remove_fig_handler\n    );\n    fig.resizeObserverInstance.unobserve(fig.canvas_div);\n\n    // Update the output cell to use the data from the current canvas.\n    fig.push_to_output();\n    var dataURL = fig.canvas.toDataURL();\n    // Re-enable the keyboard manager in IPython - without this line, in FF,\n    // the notebook keyboard shortcuts fail.\n    IPython.keyboard_manager.enable();\n    fig.parent_element.innerHTML =\n        '<img src=\"' + dataURL + '\" width=\"' + width + '\">';\n    fig.close_ws(fig, msg);\n};\n\nmpl.figure.prototype.close_ws = function (fig, msg) {\n    fig.send_message('closing', msg);\n    // fig.ws.close()\n};\n\nmpl.figure.prototype.push_to_output = function (_remove_interactive) {\n    // Turn the data on the canvas into data in the output cell.\n    var width = this.canvas.width / this.ratio;\n    var dataURL = this.canvas.toDataURL();\n    this.cell_info[1]['text/html'] =\n        '<img src=\"' + dataURL + '\" width=\"' + width + '\">';\n};\n\nmpl.figure.prototype.updated_canvas_event = function () {\n    // Tell IPython that the notebook contents must change.\n    IPython.notebook.set_dirty(true);\n    this.send_message('ack', {});\n    var fig = this;\n    // Wait a second, then push the new image to the DOM so\n    // that it is saved nicely (might be nice to debounce this).\n    setTimeout(function () {\n        fig.push_to_output();\n    }, 1000);\n};\n\nmpl.figure.prototype._init_toolbar = function () {\n    var fig = this;\n\n    var toolbar = document.createElement('div');\n    toolbar.classList = 'btn-toolbar';\n    this.root.appendChild(toolbar);\n\n    function on_click_closure(name) {\n        return function (_event) {\n            return fig.toolbar_button_onclick(name);\n        };\n    }\n\n    function on_mouseover_closure(tooltip) {\n        return function (event) {\n            if (!event.currentTarget.disabled) {\n                return fig.toolbar_button_onmouseover(tooltip);\n            }\n        };\n    }\n\n    fig.buttons = {};\n    var buttonGroup = document.createElement('div');\n    buttonGroup.classList = 'btn-group';\n    var button;\n    for (var toolbar_ind in mpl.toolbar_items) {\n        var name = mpl.toolbar_items[toolbar_ind][0];\n        var tooltip = mpl.toolbar_items[toolbar_ind][1];\n        var image = mpl.toolbar_items[toolbar_ind][2];\n        var method_name = mpl.toolbar_items[toolbar_ind][3];\n\n        if (!name) {\n            /* Instead of a spacer, we start a new button group. */\n            if (buttonGroup.hasChildNodes()) {\n                toolbar.appendChild(buttonGroup);\n            }\n            buttonGroup = document.createElement('div');\n            buttonGroup.classList = 'btn-group';\n            continue;\n        }\n\n        button = fig.buttons[name] = document.createElement('button');\n        button.classList = 'btn btn-default';\n        button.href = '#';\n        button.title = name;\n        button.innerHTML = '<i class=\"fa ' + image + ' fa-lg\"></i>';\n        button.addEventListener('click', on_click_closure(method_name));\n        button.addEventListener('mouseover', on_mouseover_closure(tooltip));\n        buttonGroup.appendChild(button);\n    }\n\n    if (buttonGroup.hasChildNodes()) {\n        toolbar.appendChild(buttonGroup);\n    }\n\n    // Add the status bar.\n    var status_bar = document.createElement('span');\n    status_bar.classList = 'mpl-message pull-right';\n    toolbar.appendChild(status_bar);\n    this.message = status_bar;\n\n    // Add the close button to the window.\n    var buttongrp = document.createElement('div');\n    buttongrp.classList = 'btn-group inline pull-right';\n    button = document.createElement('button');\n    button.classList = 'btn btn-mini btn-primary';\n    button.href = '#';\n    button.title = 'Stop Interaction';\n    button.innerHTML = '<i class=\"fa fa-power-off icon-remove icon-large\"></i>';\n    button.addEventListener('click', function (_evt) {\n        fig.handle_close(fig, {});\n    });\n    button.addEventListener(\n        'mouseover',\n        on_mouseover_closure('Stop Interaction')\n    );\n    buttongrp.appendChild(button);\n    var titlebar = this.root.querySelector('.ui-dialog-titlebar');\n    titlebar.insertBefore(buttongrp, titlebar.firstChild);\n};\n\nmpl.figure.prototype._remove_fig_handler = function (event) {\n    var fig = event.data.fig;\n    if (event.target !== this) {\n        // Ignore bubbled events from children.\n        return;\n    }\n    fig.close_ws(fig, {});\n};\n\nmpl.figure.prototype._root_extra_style = function (el) {\n    el.style.boxSizing = 'content-box'; // override notebook setting of border-box.\n};\n\nmpl.figure.prototype._canvas_extra_style = function (el) {\n    // this is important to make the div 'focusable\n    el.setAttribute('tabindex', 0);\n    // reach out to IPython and tell the keyboard manager to turn it's self\n    // off when our div gets focus\n\n    // location in version 3\n    if (IPython.notebook.keyboard_manager) {\n        IPython.notebook.keyboard_manager.register_events(el);\n    } else {\n        // location in version 2\n        IPython.keyboard_manager.register_events(el);\n    }\n};\n\nmpl.figure.prototype._key_event_extra = function (event, _name) {\n    // Check for shift+enter\n    if (event.shiftKey && event.which === 13) {\n        this.canvas_div.blur();\n        // select the cell after this one\n        var index = IPython.notebook.find_cell_index(this.cell_info[0]);\n        IPython.notebook.select(index + 1);\n    }\n};\n\nmpl.figure.prototype.handle_save = function (fig, _msg) {\n    fig.ondownload(fig, null);\n};\n\nmpl.find_output_cell = function (html_output) {\n    // Return the cell and output element which can be found *uniquely* in the notebook.\n    // Note - this is a bit hacky, but it is done because the \"notebook_saving.Notebook\"\n    // IPython event is triggered only after the cells have been serialised, which for\n    // our purposes (turning an active figure into a static one), is too late.\n    var cells = IPython.notebook.get_cells();\n    var ncells = cells.length;\n    for (var i = 0; i < ncells; i++) {\n        var cell = cells[i];\n        if (cell.cell_type === 'code') {\n            for (var j = 0; j < cell.output_area.outputs.length; j++) {\n                var data = cell.output_area.outputs[j];\n                if (data.data) {\n                    // IPython >= 3 moved mimebundle to data attribute of output\n                    data = data.data;\n                }\n                if (data['text/html'] === html_output) {\n                    return [cell, data, j];\n                }\n            }\n        }\n    }\n};\n\n// Register the function which deals with the matplotlib target/channel.\n// The kernel may be null if the page has been refreshed.\nif (IPython.notebook.kernel !== null) {\n    IPython.notebook.kernel.comm_manager.register_target(\n        'matplotlib',\n        mpl.mpl_figure_comm\n    );\n}\n",
      "text/plain": [
       "<IPython.core.display.Javascript object>"
      ]
     },
     "metadata": {},
     "output_type": "display_data"
    },
    {
     "data": {
      "text/html": [
       "<img src=\"data:image/png;base64,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\" width=\"640\">"
      ],
      "text/plain": [
       "<IPython.core.display.HTML object>"
      ]
     },
     "metadata": {},
     "output_type": "display_data"
    },
    {
     "data": {
      "text/plain": [
       "<matplotlib.legend.Legend at 0x1a46e594be0>"
      ]
     },
     "execution_count": 10,
     "metadata": {},
     "output_type": "execute_result"
    }
   ],
   "source": [
    "plt.figure()\n",
    "\n",
    "plt.title(\"Optimal solution for state and control variables\")\n",
    "\n",
    "t = np.linspace(0, T, len(x))\n",
    "\n",
    "plt.plot(t, x, lw=0.7, c=\"black\", label=\"state\")\n",
    "plt.plot(t, u, lw=0.7, c=\"red\", label=\"control\")\n",
    "\n",
    "plt.grid(lw=0.2)\n",
    "\n",
    "plt.legend()"
   ]
  },
  {
   "cell_type": "code",
   "execution_count": null,
   "id": "acd951cb",
   "metadata": {},
   "outputs": [],
   "source": []
  }
 ],
 "metadata": {
  "kernelspec": {
   "display_name": "Python 3 (ipykernel)",
   "language": "python",
   "name": "python3"
  },
  "language_info": {
   "codemirror_mode": {
    "name": "ipython",
    "version": 3
   },
   "file_extension": ".py",
   "mimetype": "text/x-python",
   "name": "python",
   "nbconvert_exporter": "python",
   "pygments_lexer": "ipython3",
   "version": "3.9.16"
  }
 },
 "nbformat": 4,
 "nbformat_minor": 5
}
