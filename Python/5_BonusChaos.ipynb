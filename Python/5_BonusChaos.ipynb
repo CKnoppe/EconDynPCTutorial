{
 "cells": [
  {
   "cell_type": "markdown",
   "id": "b703305d",
   "metadata": {},
   "source": [
    "# 5 Chaos (Bonus)\n",
    "\n",
    "This notebook does not introduce any new simulation techniques, but rather serves to illustrate some characteristics of chaotic systems. To include a little contribution, there are exercises to implement timestepping schemes for the example model, the Lorenz system. It is given by the three coupled differential equations\n",
    "\n",
    "$\\begin{align}\n",
    "    x' &= \\sigma(-x + y) \\\\\n",
    "    y' &= \\rho x - y - xz \\\\\n",
    "    z' &= xy - \\beta z\n",
    "\\end{align}$\n",
    "\n",
    "with $\\sigma, \\rho, \\beta > 0$, $\\sigma > 1 + \\beta$, and $x,y,z \\in \\mathbb{R}$."
   ]
  },
  {
   "cell_type": "code",
   "execution_count": null,
   "id": "ebf3f799",
   "metadata": {},
   "outputs": [],
   "source": [
    "%matplotlib notebook\n",
    "\n",
    "import numpy as np\n",
    "import matplotlib.pyplot as plt\n",
    "\n",
    "# for animation output\n",
    "from matplotlib.animation import PillowWriter\n",
    "\n",
    "from matplotlib import rc\n",
    "rc(\"text\", usetex=True) # Latex font in figures"
   ]
  },
  {
   "cell_type": "markdown",
   "id": "b3e2a082",
   "metadata": {},
   "source": [
    "##### EXERCISE:\n",
    "\n",
    "Implement a single Runge-Kutta step for the Lorenz system in the function below!"
   ]
  },
  {
   "cell_type": "code",
   "execution_count": null,
   "id": "886a0d19",
   "metadata": {},
   "outputs": [],
   "source": [
    "def lorenz_rk(x, y, z, sigma, rho, beta, delta):\n",
    "    '''\n",
    "    A single Runge-Kutta step for the Lorenz system.\n",
    "    \n",
    "    x, y, z are the state variables,\n",
    "    sigma, rho, beta the standard model parameters,\n",
    "    delta is the size of the time step.\n",
    "    \n",
    "    Output is the next position in x, y, z coordinates.\n",
    "    '''\n",
    "    # enter your code here\n",
    "    # ...\n",
    "    \n",
    "    return xnew, ynew, znew"
   ]
  },
  {
   "cell_type": "markdown",
   "id": "4a6dde21",
   "metadata": {},
   "source": [
    "##### EXERCISE\n",
    "\n",
    "Simulate $T$ unit time steps, where each is divided into $N$ increments. Inputs should be $T$, $N$, the initial position $x(0)$, $y(0)$, $z(0)$, as well as the model parameters $\\sigma$, $\\rho$ and $\\beta$. Output should be an array where the rows are the state variables, and the columns represent steps in time. We also define the specific timestepping method as an input, so we can later see what happens if we apply different methods on the same system."
   ]
  },
  {
   "cell_type": "code",
   "execution_count": null,
   "id": "18641fcd",
   "metadata": {},
   "outputs": [],
   "source": [
    "def simulate_lorenz(x0, y0, z0, sigma, rho, beta, T, N, timestep_func):\n",
    "    # enter your code here\n",
    "    # ...\n",
    "    \n",
    "    return result       "
   ]
  },
  {
   "cell_type": "markdown",
   "id": "71f9a5e7",
   "metadata": {},
   "source": [
    "Next, we can simulate this system with the given values. Feel free to play around with the model parameters and initial values. Results are plotted in 3D below, and if the model parameters are chosen appropriately, you should obtain the well-known butterfly shape."
   ]
  },
  {
   "cell_type": "code",
   "execution_count": null,
   "id": "d79037e8",
   "metadata": {},
   "outputs": [],
   "source": [
    "T = 30\n",
    "N = 100\n",
    "\n",
    "x0 = 0.1\n",
    "y0 = 10\n",
    "z0 = 10\n",
    "\n",
    "sigma = 10\n",
    "rho = 28\n",
    "beta = 8/3\n",
    "\n",
    "res = simulate_lorenz(x0, y0, z0, sigma, rho, beta, T, N, lorenz_rk)"
   ]
  },
  {
   "cell_type": "code",
   "execution_count": null,
   "id": "c7eed7ac",
   "metadata": {},
   "outputs": [],
   "source": [
    "ax = plt.figure().add_subplot(projection='3d')\n",
    "plt.title(\"Lorenz system\")\n",
    "\n",
    "plt.plot(res[0], res[1], res[2], lw=0.5, c=\"darkred\")\n",
    "\n",
    "ax.set_xlabel(\"x\")\n",
    "ax.set_ylabel(\"y\")\n",
    "ax.set_zlabel(\"z\")"
   ]
  },
  {
   "cell_type": "markdown",
   "id": "2f6bfed5",
   "metadata": {},
   "source": [
    "Now let's explore this model in some more detail. Charateristic to chaotic systems is the strong dependence on initial conditions. I.e. if we start from two points that are very close to each other, the behaviour will soon diverge so far that the two time series will not resemble each other at all. Below, you can find a plot where two trajectories are compared to each other in the $x$ and $z$ dimensions, as well as over time for each of the three variables."
   ]
  },
  {
   "cell_type": "code",
   "execution_count": null,
   "id": "17673311",
   "metadata": {},
   "outputs": [],
   "source": [
    "# same as before\n",
    "T = 25\n",
    "N = 250\n",
    "\n",
    "x0 = 0.1\n",
    "y0 = 10\n",
    "z0 = 10\n",
    "\n",
    "sigma = 10\n",
    "rho = 28\n",
    "beta = 8/3\n",
    "\n",
    "res1 = simulate_lorenz(x0, y0, z0, sigma, rho, beta, T, N, lorenz_rk)\n",
    "\n",
    "# now let's change the initial conditions very slightly and run it again\n",
    "x0 += 0.01\n",
    "y0 += 0.01\n",
    "z0 += 0.01\n",
    "\n",
    "res2= simulate_lorenz(x0, y0, z0, sigma, rho, beta, T, N, lorenz_rk)"
   ]
  },
  {
   "cell_type": "code",
   "execution_count": null,
   "id": "46646b78",
   "metadata": {},
   "outputs": [],
   "source": [
    "fig = plt.figure(figsize=(9,4.5))\n",
    "\n",
    "# phase space\n",
    "ps = fig.add_axes([0.025, 0.1, 0.48, 0.8])\n",
    "\n",
    "ps.plot(res1[0], res1[2], lw=0.5, c=\"darkred\")\n",
    "ps.plot(res2[0], res2[2], lw=0.5, c=\"darkblue\")\n",
    "ps.set_xticks([])\n",
    "ps.set_yticks([])\n",
    "ps.set_xlabel(\"x\")\n",
    "ps.set_ylabel(\"z\", labelpad=-0.5)\n",
    "ps.set_title(\"phase space\")\n",
    "\n",
    "# time series\n",
    "tx = fig.add_axes([0.53, 0.67, 0.46, 0.3])\n",
    "ty = fig.add_axes([0.53, 0.35, 0.46, 0.3])\n",
    "tz = fig.add_axes([0.53, 0.03, 0.46, 0.3])\n",
    "\n",
    "for ax in (tx, ty, tz):\n",
    "    ax.set_xticks([])\n",
    "    ax.set_yticks([])\n",
    "    \n",
    "tx.set_ylabel(\"x\", labelpad=-0.1)\n",
    "ty.set_ylabel(\"y\", labelpad=-0.1)\n",
    "tz.set_ylabel(\"z\", labelpad=-0.1)\n",
    "tz.set_xlabel(\"t\", labelpad=-0.1)\n",
    "\n",
    "tx.plot(res1[0], lw=0.5, c=\"darkred\")\n",
    "tx.plot(res2[0], lw=0.5, c=\"darkblue\")\n",
    "\n",
    "ty.plot(res1[1], lw=0.5, c=\"darkred\")\n",
    "ty.plot(res2[1], lw=0.5, c=\"darkblue\")\n",
    "\n",
    "tz.plot(res1[2], lw=0.5, c=\"darkred\")\n",
    "tz.plot(res2[2], lw=0.5, c=\"darkblue\")"
   ]
  },
  {
   "cell_type": "markdown",
   "id": "6f3d8dca",
   "metadata": {},
   "source": [
    "### Simulation accuracy\n",
    "\n",
    "Simulating continuous-time sytems in the computer always creates small approximation errors, as computers only work in discrete states. As you can imagine, that has important consequences when we try to simulate chaotic systems. Now we do not only deal with the tiniest errors in the measurement of initial conditions when we try to predict the future, but we also create such small errors through due to our simulation techniques. If we simulate the same systems, with the exact same initial conditions, but use the less accurate explicit Euler scheme, we can hence create the same kind of divergence of \"forecasts\".\n",
    "\n",
    "##### EXERCISE\n",
    "Implement a single Euler step (explicit) for the Lorenz system in the function below!"
   ]
  },
  {
   "cell_type": "code",
   "execution_count": null,
   "id": "d94c1b0f",
   "metadata": {},
   "outputs": [],
   "source": [
    "def lorenz_ee(x, y, z, sigma, rho, beta, delta):\n",
    "    '''\n",
    "    A single explicit Euler step for the Lorenz system.\n",
    "    \n",
    "    x, y, z are the state variables,\n",
    "    sigma, rho, beta the standard model parameters,\n",
    "    delta is the size of the time step.\n",
    "    \n",
    "    Output is the next position in x, y, z coordinates.\n",
    "    '''\n",
    "    # enter your code here\n",
    "    # ...\n",
    "    \n",
    "    return xnew, ynew, znew"
   ]
  },
  {
   "cell_type": "markdown",
   "id": "ade89e01",
   "metadata": {},
   "source": [
    "And now we can create the same figure as above, but applying two different timestepping schemes to equal initial conditions."
   ]
  },
  {
   "cell_type": "code",
   "execution_count": null,
   "id": "feedf5f7",
   "metadata": {},
   "outputs": [],
   "source": [
    "# same as before\n",
    "T = 25\n",
    "N = 250\n",
    "\n",
    "x0 = 0.1\n",
    "y0 = 10\n",
    "z0 = 10\n",
    "\n",
    "sigma = 10\n",
    "rho = 28\n",
    "beta = 8/3\n",
    "\n",
    "res1 = simulate_lorenz(x0, y0, z0, sigma, rho, beta, T, N, lorenz_rk)\n",
    "res3 = simulate_lorenz(x0, y0, z0, sigma, rho, beta, T, N, lorenz_ee)"
   ]
  },
  {
   "cell_type": "code",
   "execution_count": null,
   "id": "85b14a75",
   "metadata": {},
   "outputs": [],
   "source": [
    "fig = plt.figure(figsize=(9,4.5))\n",
    "\n",
    "# phase space\n",
    "ps = fig.add_axes([0.025, 0.1, 0.48, 0.8])\n",
    "\n",
    "ps.plot(res1[0], res1[2], lw=0.5, c=\"darkred\", label=\"Runge-Kutta\")\n",
    "ps.plot(res3[0], res3[2], lw=0.5, c=\"darkblue\", label=\"Euler\")\n",
    "#ps.set_xticks([])\n",
    "#ps.set_yticks([])\n",
    "ps.set_xlabel(\"x\")\n",
    "ps.set_ylabel(\"z\", labelpad=-0.5)\n",
    "ps.set_title(\"phase space\")\n",
    "ps.legend()\n",
    "\n",
    "# time series\n",
    "tx = fig.add_axes([0.53, 0.67, 0.46, 0.3])\n",
    "ty = fig.add_axes([0.53, 0.35, 0.46, 0.3])\n",
    "tz = fig.add_axes([0.53, 0.03, 0.46, 0.3])\n",
    "\n",
    "for ax in (tx, ty, tz):\n",
    "    ax.set_xticks([])\n",
    "    ax.set_yticks([])\n",
    "    \n",
    "tx.set_ylabel(\"x\", labelpad=-0.1)\n",
    "ty.set_ylabel(\"y\", labelpad=-0.1)\n",
    "tz.set_ylabel(\"z\", labelpad=-0.1)\n",
    "tz.set_xlabel(\"t\", labelpad=-0.1)\n",
    "\n",
    "tx.plot(res1[0], lw=0.5, c=\"darkred\")\n",
    "tx.plot(res3[0], lw=0.5, c=\"darkblue\")\n",
    "\n",
    "ty.plot(res1[1], lw=0.5, c=\"darkred\")\n",
    "ty.plot(res3[1], lw=0.5, c=\"darkblue\")\n",
    "\n",
    "tz.plot(res1[2], lw=0.5, c=\"darkred\")\n",
    "tz.plot(res3[2], lw=0.5, c=\"darkblue\")"
   ]
  },
  {
   "cell_type": "markdown",
   "id": "7520162f",
   "metadata": {},
   "source": [
    "Just as slight differences in initial conditions, the choice of simulation techniques can also lead to widely varying predictions after a short time!"
   ]
  },
  {
   "cell_type": "markdown",
   "id": "1a2e3d46",
   "metadata": {},
   "source": [
    "### Divergence animation\n",
    "\n",
    "Finally, we can animate the figure as a short video clip to portray the time dimension in this divergence process. We will again use the slightly altered initial conditions, but apply the same timestepping procedure in both cases. \n",
    "\n",
    "*Note that creating animated figures with so many datapoints is quite computationally intensive and might therefore take some time to finish. Essentially, we are creating a separate figure for each time step and then combine them into a short movie.*"
   ]
  },
  {
   "cell_type": "code",
   "execution_count": null,
   "id": "61123f19",
   "metadata": {},
   "outputs": [],
   "source": [
    "# same as before, but larger time steps\n",
    "# and shorter time period (less memory intensive)\n",
    "T = 25\n",
    "N = 80\n",
    "\n",
    "x0 = 0.1\n",
    "y0 = 10\n",
    "z0 = 10\n",
    "\n",
    "sigma = 10\n",
    "rho = 28\n",
    "beta = 8/3\n",
    "\n",
    "res1 = simulate_lorenz(x0, y0, z0, sigma, rho, beta, T, N, lorenz_rk)\n",
    "\n",
    "# now let's change the initial conditions very slightly and run it again\n",
    "x0 += 0.01\n",
    "y0 += 0.01\n",
    "z0 += 0.01\n",
    "\n",
    "res2= simulate_lorenz(x0, y0, z0, sigma, rho, beta, T, N, lorenz_rk)"
   ]
  },
  {
   "cell_type": "code",
   "execution_count": null,
   "id": "61eb1570",
   "metadata": {},
   "outputs": [],
   "source": [
    "%%capture # this avoids output of the code cell, so the figures won't be shown here\n",
    "\n",
    "fig = plt.figure(figsize=(8,8))\n",
    "\n",
    "# phase space\n",
    "ps = fig.add_axes([0.025, 0.05, 0.95, 0.9])\n",
    "\n",
    "ps1, = ps.plot([], [], lw=0.5, c=\"darkred\")\n",
    "ps2, = ps.plot([], [], lw=0.5, c=\"darkblue\")\n",
    "ps3, = ps.plot([], [], c=\"darkred\", marker=\"o\")\n",
    "ps4, = ps.plot([], [], c=\"darkblue\", marker=\"o\")\n",
    "ps.set_xticks([])\n",
    "ps.set_yticks([])\n",
    "ps.set_xlim(-20, 20)\n",
    "ps.set_ylim(3, 49)\n",
    "ps.set_xlabel(\"x\", labelpad=-0.5, fontsize=12)\n",
    "ps.set_ylabel(\"z\", labelpad=-0.5, fontsize=12)\n",
    "ps.set_title(\"Lorenz system animation\", fontsize=16)\n",
    "\n",
    "x1list = list()\n",
    "z1list = list()\n",
    "\n",
    "x2list = list()\n",
    "z2list = list()\n",
    "\n",
    "writer = PillowWriter(fps=50)\n",
    "\n",
    "with writer.saving(fig, \"lorenz.gif\", 100):\n",
    "    for i in range(T*N + 1):\n",
    "        x1list.append(res1[0, i])\n",
    "        z1list.append(res1[2, i])\n",
    "        \n",
    "        x2list.append(res2[0, i])\n",
    "        z2list.append(res2[2, i])       \n",
    "        \n",
    "        ps1.set_data(x1list, z1list)\n",
    "        ps2.set_data(x2list, z2list)\n",
    "        ps3.set_data([x1list[-1]], [z1list[-1]])\n",
    "        ps4.set_data([x2list[-1]], [z2list[-1]])\n",
    "        \n",
    "        writer.grab_frame()"
   ]
  },
  {
   "cell_type": "markdown",
   "id": "0e3567ff",
   "metadata": {},
   "source": [
    "If everything ran smoothly, you should now find a .gif file in your folder with an animated version of the butterfly figure. You can see that despite the extremely small difference in initial conditions, after some time the paths diverge completely and seem entirely unrelated."
   ]
  },
  {
   "cell_type": "code",
   "execution_count": null,
   "id": "1a61657d",
   "metadata": {},
   "outputs": [],
   "source": []
  }
 ],
 "metadata": {
  "kernelspec": {
   "display_name": "Python 3 (ipykernel)",
   "language": "python",
   "name": "python3"
  },
  "language_info": {
   "codemirror_mode": {
    "name": "ipython",
    "version": 3
   },
   "file_extension": ".py",
   "mimetype": "text/x-python",
   "name": "python",
   "nbconvert_exporter": "python",
   "pygments_lexer": "ipython3",
   "version": "3.9.16"
  }
 },
 "nbformat": 4,
 "nbformat_minor": 5
}
