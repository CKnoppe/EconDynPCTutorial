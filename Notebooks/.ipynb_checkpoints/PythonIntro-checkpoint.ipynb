{
 "cells": [
  {
   "cell_type": "markdown",
   "id": "cbd226c3",
   "metadata": {},
   "source": [
    "# Introduction to Python\n",
    "\n",
    "In order for you to be able to follow these PC tutorials, a brief introduction to the main programming language, Python, might be useful. It is not meant to be a general introduction in any way, but focuses almost exclusively on functionalities that are relevant to the numerical problems you will face in the tutorials. Python is a general purpose programming language, so if you find this introduction to miss some important features of the language, please note that the purpose is not to teach programming in Python as such, but only to enable you to solve the problems in this particular tutorial. There are many general introductions to Python online (e.g. on Youtube), and I can also recommend the book \"Think Python\" by Allen Downey (O'Reilly book, free Pdf on his website: https://www.greenteapress.com/thinkpython/thinkpython.pdf). This introduction should only be a short cut so you can get started on the implementation of the simulation exercises without having to go through the trouble of learning a new skill first.\n",
    "\n",
    "\n",
    "### Python basics\n",
    "\n",
    "##### Objects\n",
    "\n",
    "Python is an object-oriented language. That means, that everything (e.g. numbers, text, arrays etc.) is \"under the hood\" treated as an object. An object is a a combination of data (attributes, e.g. the value of your number) and methods (code that you can run on that object). There are many different types of objects, and each library typically comes with additional types. You can check the type of any object using the type() function:"
   ]
  },
  {
   "cell_type": "code",
   "execution_count": 1,
   "id": "83e588f7",
   "metadata": {},
   "outputs": [
    {
     "data": {
      "text/plain": [
       "int"
      ]
     },
     "execution_count": 1,
     "metadata": {},
     "output_type": "execute_result"
    }
   ],
   "source": [
    "type(5)"
   ]
  },
  {
   "cell_type": "markdown",
   "id": "3d83de8e",
   "metadata": {},
   "source": [
    "The function takes as input an object (here the number \"5\") and returns the type of this object. In this case, you see that it is of type `int`, i.e. an integer."
   ]
  },
  {
   "cell_type": "code",
   "execution_count": 2,
   "id": "98a94e8e",
   "metadata": {},
   "outputs": [
    {
     "data": {
      "text/plain": [
       "float"
      ]
     },
     "execution_count": 2,
     "metadata": {},
     "output_type": "execute_result"
    }
   ],
   "source": [
    "type(5.0)"
   ]
  },
  {
   "cell_type": "markdown",
   "id": "2366eb72",
   "metadata": {},
   "source": [
    "If you specify the number, in this case the same numerical value, as a decimal, the type is a `float` (floating point number), Python's version of decimals. This is a different type than type 'int', but numerical types can be combined in one expression in a mathematically sensible way. This is not the same in all programming languages. "
   ]
  },
  {
   "cell_type": "code",
   "execution_count": 3,
   "id": "ea188f53",
   "metadata": {},
   "outputs": [
    {
     "name": "stdout",
     "output_type": "stream",
     "text": [
      "type of '5':\t <class 'int'>\n",
      "type of '2':\t <class 'int'>\n",
      "type of '5/2':\t <class 'float'>\n",
      "result of '5/2': 2.5\n",
      "12.5\n"
     ]
    }
   ],
   "source": [
    "print(f\"type of '5':\\t {type(5)}\")\n",
    "print(f\"type of '2':\\t {type(2)}\")\n",
    "print(f\"type of '5/2':\\t {type(5/2)}\") # division of two ints returns a float \n",
    "print(f\"result of '5/2': {5/2}\")\n",
    "print(5 * 2.5) # combine an int and a float without a problem"
   ]
  },
  {
   "cell_type": "markdown",
   "id": "2eb5b569",
   "metadata": {},
   "source": [
    "Note the use of the `print()` function in the cell above. Only the output of the last operation is printed to the console, if there is one. If you want to print out the output of several lines, you can use this function. Inside the print function are f-strings, indicated by the letter 'f' in front. It allows for the evaluation of expressions inside the curly braces. `\\t` is a so-called escape character that has a special function within the string, indicated by the backslash (\\\\). `t` stands for tab, meaning it shifts the subsequent text one tab space to the right. You can find more information about strings below.\n",
    "\n",
    "You can transform an `int` into a `float` without restrictions:"
   ]
  },
  {
   "cell_type": "code",
   "execution_count": 4,
   "id": "c7c29e2c",
   "metadata": {},
   "outputs": [
    {
     "data": {
      "text/plain": [
       "5.0"
      ]
     },
     "execution_count": 4,
     "metadata": {},
     "output_type": "execute_result"
    }
   ],
   "source": [
    "float(5)"
   ]
  },
  {
   "cell_type": "markdown",
   "id": "604c9231",
   "metadata": {},
   "source": [
    "But the other way around you have to be careful: it does not return a rounded float, but only the integer part. I.e. the float 5.9 will be transformed into the int 5. The decimal part is simply cut off:"
   ]
  },
  {
   "cell_type": "code",
   "execution_count": 5,
   "id": "96fd547d",
   "metadata": {},
   "outputs": [
    {
     "data": {
      "text/plain": [
       "5"
      ]
     },
     "execution_count": 5,
     "metadata": {},
     "output_type": "execute_result"
    }
   ],
   "source": [
    "int(5.9999)"
   ]
  },
  {
   "cell_type": "markdown",
   "id": "88a6952f",
   "metadata": {},
   "source": [
    "If you want to round a float, you can use the inbuild `round()` function for this. Note that it does not necessarily return floats, but you can specify the number of decimals you want your float rounded to: "
   ]
  },
  {
   "cell_type": "code",
   "execution_count": 6,
   "id": "410c3d27",
   "metadata": {},
   "outputs": [
    {
     "name": "stdout",
     "output_type": "stream",
     "text": [
      "6\n",
      "5.92\n"
     ]
    }
   ],
   "source": [
    "print(int(round(5.9199)))\n",
    "print(round(5.9199, 2)) # the second input argument specifies the number of decimals"
   ]
  },
  {
   "cell_type": "code",
   "execution_count": 7,
   "id": "c8a54e08",
   "metadata": {},
   "outputs": [
    {
     "data": {
      "text/plain": [
       "str"
      ]
     },
     "execution_count": 7,
     "metadata": {},
     "output_type": "execute_result"
    }
   ],
   "source": [
    "type('hello')"
   ]
  },
  {
   "cell_type": "markdown",
   "id": "6d00f563",
   "metadata": {},
   "source": [
    "\"hello\" is of the type 'str' (string), which is the data type used for text. You show Python that something should be a string by wrapping it in single or double quotation marks: `'string'` or `\"string\"`. Double quotation marks can be used if your string includes an apostrophe: `\"This won't be a problem\"`."
   ]
  },
  {
   "cell_type": "code",
   "execution_count": 8,
   "id": "c6b71b3a",
   "metadata": {},
   "outputs": [
    {
     "name": "stdout",
     "output_type": "stream",
     "text": [
      "This won't be a problem\n"
     ]
    }
   ],
   "source": [
    "print(\"This won't be a problem\") # what happens if you use single quotation marks?"
   ]
  },
  {
   "cell_type": "markdown",
   "id": "a6360403",
   "metadata": {},
   "source": [
    "If you have text that spans over several lines, you can wrap it in triple quotation marks:"
   ]
  },
  {
   "cell_type": "code",
   "execution_count": 9,
   "id": "33795c5e",
   "metadata": {},
   "outputs": [
    {
     "name": "stdout",
     "output_type": "stream",
     "text": [
      "Let's pretend\n",
      "this sentence\n",
      "does not fit in one line\n"
     ]
    }
   ],
   "source": [
    "text = '''Let's pretend\n",
    "this sentence\n",
    "does not fit in one line'''\n",
    "print(text)"
   ]
  },
  {
   "cell_type": "markdown",
   "id": "c32a2f70",
   "metadata": {},
   "source": [
    "##### Variables\n",
    "\n",
    "You can assign variable names to any object you would like to refer to or make use of again. If you want to name the number 5 \"x\", you simply assign it that name:"
   ]
  },
  {
   "cell_type": "code",
   "execution_count": 10,
   "id": "e3655367",
   "metadata": {},
   "outputs": [
    {
     "name": "stdout",
     "output_type": "stream",
     "text": [
      "5\n"
     ]
    }
   ],
   "source": [
    "x = 5\n",
    "print(x)"
   ]
  },
  {
   "cell_type": "markdown",
   "id": "599f6e16",
   "metadata": {},
   "source": [
    "`x` is a reference, i.e. a placeholder for the object `5` that is stored somewhere on your computer. You have created a reference to this object and you can access it any time by simply calling it by this name. You could e.g. print out its type:"
   ]
  },
  {
   "cell_type": "code",
   "execution_count": 11,
   "id": "f9087f81",
   "metadata": {},
   "outputs": [
    {
     "name": "stdout",
     "output_type": "stream",
     "text": [
      "<class 'int'>\n"
     ]
    }
   ],
   "source": [
    "print(type(x))"
   ]
  },
  {
   "cell_type": "markdown",
   "id": "13a90eca",
   "metadata": {},
   "source": [
    "Now you printed out the type of the object `5`, that you refer to by the name `x`. Note that any operation that you seemingly perform on `x` is actually performed on this particular object.  You can also let another variable take on the same value as `x`:"
   ]
  },
  {
   "cell_type": "code",
   "execution_count": 12,
   "id": "57567c42",
   "metadata": {},
   "outputs": [],
   "source": [
    "y = x"
   ]
  },
  {
   "cell_type": "markdown",
   "id": "cdc74090",
   "metadata": {},
   "source": [
    "However, you have to be careful: the variable `y` only points to the same object as the variable `x`. If you create a new object, e.g. the integer `6` and let `x` point to that now, `y` will still point to `5`:"
   ]
  },
  {
   "cell_type": "code",
   "execution_count": 13,
   "id": "b3031077",
   "metadata": {},
   "outputs": [
    {
     "name": "stdout",
     "output_type": "stream",
     "text": [
      "5\n"
     ]
    }
   ],
   "source": [
    "x = 6\n",
    "print(y)"
   ]
  },
  {
   "cell_type": "markdown",
   "id": "56a1c8d3",
   "metadata": {},
   "source": [
    "Hence, `y` does not always refer to the same object as `x`, but only to the object that `x` refers to in the moment when `y` is assigned to refer to that value. Most of the time, you will not have problems with this topic. However, sometimes you might find your code not to work as expected, and then a confusion along those lines is one possible source of the error (among all the other possible sources of course...). "
   ]
  },
  {
   "cell_type": "markdown",
   "id": "1b72405e",
   "metadata": {},
   "source": [
    "##### Mathematical and logical operations\n",
    "\n",
    "The main focus of this tutorial series is on numerical applications, so you will have to perform plenty of mathematical operations. Their implementation in Python is straightforward: \n",
    "\n",
    "* addition: +\n",
    "\n",
    "* subtraction: -\n",
    "\n",
    "* division: /\n",
    "\n",
    "* multiplication: *\n",
    "\n",
    "* Only powers are a bit different than you might be used to, it is a double star: **"
   ]
  },
  {
   "cell_type": "code",
   "execution_count": 14,
   "id": "60bd988b",
   "metadata": {},
   "outputs": [
    {
     "name": "stdout",
     "output_type": "stream",
     "text": [
      "x+5= 10\n",
      "x-5= 0\n",
      "x*5= 25\n",
      "x/5= 1.0\n",
      "x**5= 3125\n"
     ]
    }
   ],
   "source": [
    "x = 5\n",
    "print(\"x+5=\", x+5)\n",
    "print(\"x-5=\", x-5)\n",
    "print(\"x*5=\", x*5)\n",
    "print(\"x/5=\", x/5)\n",
    "print(\"x**5=\", x**5)"
   ]
  },
  {
   "cell_type": "markdown",
   "id": "62e0be8b",
   "metadata": {},
   "source": [
    "You may have noticed the use of the equal sign \"=\", which is used for assignments of variables, such as `x=5`. This leads to programming expressions that are perfectly valid, but would make no sense mathematically:"
   ]
  },
  {
   "cell_type": "code",
   "execution_count": 15,
   "id": "5ec82323",
   "metadata": {},
   "outputs": [
    {
     "name": "stdout",
     "output_type": "stream",
     "text": [
      "6\n"
     ]
    }
   ],
   "source": [
    "x = 5\n",
    "x = x + 1\n",
    "print(x)"
   ]
  },
  {
   "cell_type": "markdown",
   "id": "43019eba",
   "metadata": {},
   "source": [
    "Above, the variable `x` was assigned to the number `5`, and then reassigned to the result of the expression `x + 1`, i.e. the sum of the value of `x` until the new assignment, plus `1`. Such \"updates\" can also be achieved with a syntactic shortcut in Python:"
   ]
  },
  {
   "cell_type": "code",
   "execution_count": 16,
   "id": "6bbbee46",
   "metadata": {},
   "outputs": [
    {
     "name": "stdout",
     "output_type": "stream",
     "text": [
      "6\n"
     ]
    }
   ],
   "source": [
    "x = 5\n",
    "x += 1\n",
    "print(x)"
   ]
  },
  {
   "cell_type": "markdown",
   "id": "0c3b16e7",
   "metadata": {},
   "source": [
    "This code does exactly the same as the code just above, but is slightly shorter. The same can be done with any other mathematical operation(`-=`, `*=`, `/=`, `**=`). \n",
    "\n",
    "If you want to check equality of two variables on the other hand, you need to use a double equal sign (`==`):"
   ]
  },
  {
   "cell_type": "code",
   "execution_count": 17,
   "id": "9345e023",
   "metadata": {},
   "outputs": [
    {
     "name": "stdout",
     "output_type": "stream",
     "text": [
      "True\n",
      "False\n",
      "True\n",
      "False\n"
     ]
    }
   ],
   "source": [
    "print(5 == 5)\n",
    "print(5.5 == 5)\n",
    "print('hello' == \"hello\")\n",
    "print(\"hello\" == \"goodbye\")"
   ]
  },
  {
   "cell_type": "markdown",
   "id": "38453f58",
   "metadata": {},
   "source": [
    "As you can see, the equality checks return either `True` or `False`. These are so-called Boolean types, and they are the only two of this type that exist. Similar to equalities, we can also check strict and weak inequalities: "
   ]
  },
  {
   "cell_type": "code",
   "execution_count": 18,
   "id": "4bc94750",
   "metadata": {},
   "outputs": [
    {
     "name": "stdout",
     "output_type": "stream",
     "text": [
      "True\n",
      "True\n",
      "False\n",
      "True\n"
     ]
    }
   ],
   "source": [
    "print( 5 < 6)   # less than\n",
    "print( 5 <= 5)  # less or equal\n",
    "print( 5 > 6)   # greater than\n",
    "print( 5 >= 4)  # greater or equal"
   ]
  },
  {
   "cell_type": "markdown",
   "id": "bb8e4d8a",
   "metadata": {},
   "source": [
    "### Data structures\n",
    "\n",
    "##### Lists\n",
    "\n",
    "When working with data (empirical or generated by our code), we need some way of storing it. Clearly, if you simulate a dynamic model over a number of periods, it would be impractical to assign a variable to each iteration of the model. Rather, it would be good to use some type of container that stores the data from all iterations in the correct order. A suitable object type for that purpose are lists in Python. They are ordered collections of data, flexible in size (you can add or delete entries), and you can store any kind of object type in them.\n"
   ]
  },
  {
   "cell_type": "code",
   "execution_count": 19,
   "id": "2b99187a",
   "metadata": {},
   "outputs": [
    {
     "name": "stdout",
     "output_type": "stream",
     "text": [
      "[1, 2, 3, 4, 5, 6, 7, 8, 9, 10]\n",
      "['h', 'e', 'l', 'l', 'o']\n",
      "['hello', 1, 3.5]\n"
     ]
    }
   ],
   "source": [
    "# Lists are in square brackets:\n",
    "s = [1,2,3,4,5,6,7,8,9,10]\n",
    "t = [\"h\", \"e\", \"l\", \"l\", \"o\"]\n",
    "\n",
    "# you can even store different types of objects in the same list\n",
    "u = [\"hello\", 1, 3.5]\n",
    "\n",
    "print(s)\n",
    "print(t)\n",
    "print(u)"
   ]
  },
  {
   "cell_type": "markdown",
   "id": "e2de9a2a",
   "metadata": {},
   "source": [
    "The length of a list can be found by the use of the `len()` function:"
   ]
  },
  {
   "cell_type": "code",
   "execution_count": 20,
   "id": "56f4d960",
   "metadata": {},
   "outputs": [
    {
     "name": "stdout",
     "output_type": "stream",
     "text": [
      "10\n",
      "5\n",
      "3\n"
     ]
    }
   ],
   "source": [
    "print(len(s))\n",
    "print(len(t))\n",
    "print(len(u))"
   ]
  },
  {
   "cell_type": "markdown",
   "id": "8ce2754c",
   "metadata": {},
   "source": [
    "By the use of indexing we can extract values from this list. The first position is counted as 0:"
   ]
  },
  {
   "cell_type": "code",
   "execution_count": 21,
   "id": "995fcfc1",
   "metadata": {},
   "outputs": [
    {
     "name": "stdout",
     "output_type": "stream",
     "text": [
      "index 0: 1\n",
      "index 1: 2\n"
     ]
    }
   ],
   "source": [
    "print(\"index 0:\", s[0])\n",
    "print(\"index 1:\", s[1])"
   ]
  },
  {
   "cell_type": "markdown",
   "id": "51eae2bb",
   "metadata": {},
   "source": [
    "And you can count backwards:"
   ]
  },
  {
   "cell_type": "code",
   "execution_count": 22,
   "id": "ac2b0128",
   "metadata": {},
   "outputs": [
    {
     "name": "stdout",
     "output_type": "stream",
     "text": [
      "10\n",
      "9\n"
     ]
    }
   ],
   "source": [
    "print(s[-1])\n",
    "print(s[-2])"
   ]
  },
  {
   "cell_type": "markdown",
   "id": "bd7b468a",
   "metadata": {},
   "source": [
    "In the same way, we can replace items in a list:"
   ]
  },
  {
   "cell_type": "code",
   "execution_count": 23,
   "id": "e870bbc7",
   "metadata": {},
   "outputs": [
    {
     "data": {
      "text/plain": [
       "[5, 2, 3, 4, 5, 6, 7, 8, 9, 10]"
      ]
     },
     "execution_count": 23,
     "metadata": {},
     "output_type": "execute_result"
    }
   ],
   "source": [
    "s[0] = 5\n",
    "s"
   ]
  },
  {
   "cell_type": "markdown",
   "id": "c4fbae21",
   "metadata": {},
   "source": [
    "\"Slicing\" extracts a whole section of the list. Instead of indexing a single number, use the initial position and the final position of the slice you wish to extract and separate them by a colon:"
   ]
  },
  {
   "cell_type": "code",
   "execution_count": 24,
   "id": "203f7c39",
   "metadata": {},
   "outputs": [
    {
     "data": {
      "text/plain": [
       "[3, 4, 5]"
      ]
     },
     "execution_count": 24,
     "metadata": {},
     "output_type": "execute_result"
    }
   ],
   "source": [
    "s[2:5]"
   ]
  },
  {
   "cell_type": "markdown",
   "id": "cd65225d",
   "metadata": {},
   "source": [
    "As you see, the last number is excluded (up to position 4, not 5). To start from the beginning or go until the end, there is no need to specify the position, simply leave it empty:"
   ]
  },
  {
   "cell_type": "code",
   "execution_count": 25,
   "id": "0e230f85",
   "metadata": {},
   "outputs": [
    {
     "name": "stdout",
     "output_type": "stream",
     "text": [
      "[5, 2, 3, 4, 5]\n",
      "[6, 7, 8, 9, 10]\n",
      "True\n"
     ]
    }
   ],
   "source": [
    "# from the beginning\n",
    "print(s[:5])\n",
    "\n",
    "# to the end\n",
    "print(s[5:])\n",
    "\n",
    "# leaving both empty returns the entire list\n",
    "print(s == s[:])"
   ]
  },
  {
   "cell_type": "markdown",
   "id": "894dd39b",
   "metadata": {},
   "source": [
    "Specify the step size after a second colon (s[from:to:step]):"
   ]
  },
  {
   "cell_type": "code",
   "execution_count": 26,
   "id": "221c44ea",
   "metadata": {},
   "outputs": [
    {
     "name": "stdout",
     "output_type": "stream",
     "text": [
      "True\n",
      "[5, 3, 5, 7, 9]\n",
      "[2, 4, 6, 8, 10]\n"
     ]
    }
   ],
   "source": [
    "# step size one is the default, so there is no need to specify\n",
    "print(s[::1] == s[:])\n",
    "\n",
    "# but you might just want every second entry:\n",
    "print(s[::2])\n",
    "\n",
    "# or start from the second and then select every second entry\n",
    "print(s[1::2])"
   ]
  },
  {
   "cell_type": "markdown",
   "id": "8238e4fc",
   "metadata": {},
   "source": [
    "And you can go backwards:"
   ]
  },
  {
   "cell_type": "code",
   "execution_count": 27,
   "id": "2cd92860",
   "metadata": {},
   "outputs": [
    {
     "data": {
      "text/plain": [
       "[10, 9, 8, 7, 6, 5, 4, 3, 2, 5]"
      ]
     },
     "execution_count": 27,
     "metadata": {},
     "output_type": "execute_result"
    }
   ],
   "source": [
    "s[::-1]"
   ]
  },
  {
   "cell_type": "markdown",
   "id": "8e53c2d9",
   "metadata": {},
   "source": [
    "Check whether an item is in the list using the `in` keyword:"
   ]
  },
  {
   "cell_type": "code",
   "execution_count": 28,
   "id": "bfc863a1",
   "metadata": {},
   "outputs": [
    {
     "name": "stdout",
     "output_type": "stream",
     "text": [
      "True\n",
      "False\n"
     ]
    }
   ],
   "source": [
    "print(10 in s)\n",
    "print(11 in s)"
   ]
  },
  {
   "cell_type": "markdown",
   "id": "00bfffe9",
   "metadata": {},
   "source": [
    "Lengthen the list using the .append() method:"
   ]
  },
  {
   "cell_type": "code",
   "execution_count": 29,
   "id": "6abc286b",
   "metadata": {},
   "outputs": [
    {
     "name": "stdout",
     "output_type": "stream",
     "text": [
      "[5, 2, 3, 4, 5, 6, 7, 8, 9, 10, 11]\n"
     ]
    }
   ],
   "source": [
    "s.append(11)\n",
    "print(s)"
   ]
  },
  {
   "cell_type": "markdown",
   "id": "5e092edb",
   "metadata": {},
   "source": [
    "And remove it using the .remove() method"
   ]
  },
  {
   "cell_type": "code",
   "execution_count": 30,
   "id": "66925266",
   "metadata": {},
   "outputs": [
    {
     "name": "stdout",
     "output_type": "stream",
     "text": [
      "[5, 2, 3, 4, 5, 6, 7, 8, 9, 10]\n"
     ]
    }
   ],
   "source": [
    "s.remove(11)\n",
    "print(s)"
   ]
  },
  {
   "cell_type": "markdown",
   "id": "88c0fc63",
   "metadata": {},
   "source": [
    "If you want to use the object after removing it, you can use the .pop() method. If you do not specify the position you want to pop, it takes the last (-1) object"
   ]
  },
  {
   "cell_type": "code",
   "execution_count": 31,
   "id": "0d4e712b",
   "metadata": {},
   "outputs": [
    {
     "name": "stdout",
     "output_type": "stream",
     "text": [
      "before pop: [5, 2, 3, 4, 5, 6, 7, 8, 9, 10]\n",
      "after pop: [2, 3, 4, 5, 6, 7, 8, 9, 10]\n",
      "a: 5\n"
     ]
    }
   ],
   "source": [
    "print(\"before pop:\", s)\n",
    "a = s.pop(0)\n",
    "print(\"after pop:\", s)\n",
    "print(\"a:\", a)"
   ]
  },
  {
   "cell_type": "markdown",
   "id": "91fe6b20",
   "metadata": {},
   "source": [
    "If you want to keep the original list unchanged, but do some operations on it nonetheless, you can create a copy and proceed with that one."
   ]
  },
  {
   "cell_type": "code",
   "execution_count": 32,
   "id": "4feb35e7",
   "metadata": {},
   "outputs": [
    {
     "name": "stdout",
     "output_type": "stream",
     "text": [
      "s: [2, 3, 4, 5, 6, 7, 8, 9, 10]\n",
      "t: [2, 3, 4, 5, 6, 7, 8, 9, 10]\n",
      "\n",
      "s: [2, 3, 4, 5, 6, 7, 8, 9, 10]\n",
      "t: [5, 3, 4, 5, 6, 7, 8, 9, 10]\n"
     ]
    }
   ],
   "source": [
    "t = s.copy()\n",
    "print(f\"s: {s}\")\n",
    "print(f\"t: {t}\\n\")\n",
    "\n",
    "t[0] = 5\n",
    "print(f\"s: {s}\")\n",
    "print(f\"t: {t}\")"
   ]
  },
  {
   "cell_type": "markdown",
   "id": "2efb0ba9",
   "metadata": {},
   "source": [
    "Now if you change anything in t, s remains unaffected. If you assigned `t=s` instead, the variable `t` would now refer to the *same object* as `s` and any operation you do on `t` also changes list that `s` refers to:"
   ]
  },
  {
   "cell_type": "code",
   "execution_count": 33,
   "id": "ab14aae5",
   "metadata": {},
   "outputs": [
    {
     "name": "stdout",
     "output_type": "stream",
     "text": [
      "s: [2, 3, 4, 5, 6, 7, 8, 9, 10]\n",
      "t: [2, 3, 4, 5, 6, 7, 8, 9, 10]\n",
      "\n",
      "s: [5, 3, 4, 5, 6, 7, 8, 9, 10]\n",
      "t: [5, 3, 4, 5, 6, 7, 8, 9, 10]\n"
     ]
    }
   ],
   "source": [
    "t=s\n",
    "print(f\"s: {s}\")\n",
    "print(f\"t: {t}\\n\")\n",
    "\n",
    "t[0] = 5\n",
    "print(f\"s: {s}\")\n",
    "print(f\"t: {t}\")"
   ]
  },
  {
   "cell_type": "markdown",
   "id": "8cdd82e0",
   "metadata": {},
   "source": [
    "Find more methods and procedures for lists in the official Python documentation: https://docs.python.org/3.9/library/stdtypes.html#sequence-types-list-tuple-range.\n",
    "\n",
    "A related, static type are tuples. Those are indicated by round instead of square brackets, and they also contain a collection of items. Unlik lists, they are immutable, i.e. they cannot be changed, neither the length, nor individual entries."
   ]
  },
  {
   "cell_type": "code",
   "execution_count": 34,
   "id": "2aceb111",
   "metadata": {},
   "outputs": [
    {
     "name": "stdout",
     "output_type": "stream",
     "text": [
      "1\n"
     ]
    }
   ],
   "source": [
    "t = (1,2,3)\n",
    "print(t[0])"
   ]
  },
  {
   "cell_type": "markdown",
   "id": "01fd54fa",
   "metadata": {},
   "source": [
    "Tuples can be quite useful, but won't feature much in this tutorial. Please refer to the official Python documentation for more information.\n",
    "\n",
    "Another very useful data structure are dictionaries, which are a mapping type. Each entry consists of a \"key\" and a \"value\". By use of a key we can look up the value. They are indicated by curly braces."
   ]
  },
  {
   "cell_type": "code",
   "execution_count": 35,
   "id": "313f4815",
   "metadata": {},
   "outputs": [
    {
     "name": "stdout",
     "output_type": "stream",
     "text": [
      "4\n"
     ]
    }
   ],
   "source": [
    "squares = {\n",
    "    1: 1,\n",
    "    2: 4,\n",
    "    3: 9,\n",
    "    4: 16\n",
    "    }\n",
    "\n",
    "print(squares[2])"
   ]
  },
  {
   "cell_type": "markdown",
   "id": "1d43f644",
   "metadata": {},
   "source": [
    "We will not need dictionaries much in this tutorial, so I will not go into detail on them at this point either.\n",
    "\n",
    "Finally, strings are text types, and they can be quite useful even in numerical applications, e.g. if we want to print out intermediary results and annotate them in some way. Strings are surrounded by 'single' or \"double\" quotation marks. The most important thing you may need here are f-strings. By placing an `f` in front of the string, you can place expressions in curly braces inside that string, and they are interpreted as Python expressions so that the result becomes part of that string:"
   ]
  },
  {
   "cell_type": "code",
   "execution_count": 36,
   "id": "d38bbb7f",
   "metadata": {},
   "outputs": [
    {
     "name": "stdout",
     "output_type": "stream",
     "text": [
      "5 + 5 = 10\n"
     ]
    }
   ],
   "source": [
    "quick_maths = f\"5 + 5 = {5+5}\"\n",
    "print(quick_maths)"
   ]
  },
  {
   "cell_type": "code",
   "execution_count": 37,
   "id": "6f3ad3f3",
   "metadata": {},
   "outputs": [
    {
     "name": "stdout",
     "output_type": "stream",
     "text": [
      "Hello John Doe!\n"
     ]
    }
   ],
   "source": [
    "name = \"John Doe\"\n",
    "print(f'Hello {name}!')"
   ]
  },
  {
   "cell_type": "code",
   "execution_count": 38,
   "id": "837bca3c",
   "metadata": {},
   "outputs": [
    {
     "name": "stdout",
     "output_type": "stream",
     "text": [
      "The fifth element of the list 's' above is: 6\n"
     ]
    }
   ],
   "source": [
    "print(f\"The fifth element of the list 's' above is: {s[4]}\")"
   ]
  },
  {
   "cell_type": "markdown",
   "id": "7db820c9",
   "metadata": {},
   "source": [
    "### Control flow\n",
    "\n",
    "In order to really write a program in Python, we have to be able to control the flow of the program, i.e. the order in which statements are evaluated. For the simulation of dynamic models, we will have to be able to run specific mathematical operations over and over again, which is best achieved by the use of **loops**. Another important aspect, which we will also need in this tutorial, is branching, i.e. **conditional statements**: if something is true, take one action, if not, do something else.\n",
    "\n",
    "##### for loops\n",
    "\n",
    "If you want to perform the same action over and over again, you can do so using a so-called `for` loop. You can either loop over the items in a list (or other sequence-type, \"iterable\" objects) and perform the same action on them, or simply do something a specified number of times. Take as an example a loop over the list `s` from above. Say we want to print all the items sequentially:"
   ]
  },
  {
   "cell_type": "code",
   "execution_count": 39,
   "id": "b63d54bc",
   "metadata": {},
   "outputs": [
    {
     "name": "stdout",
     "output_type": "stream",
     "text": [
      "1\n",
      "2\n",
      "3\n",
      "4\n",
      "5\n",
      "6\n",
      "7\n",
      "8\n",
      "9\n",
      "10\n",
      "end of loop has been reached\n"
     ]
    }
   ],
   "source": [
    "# assemble it once more, in case you didn't run the cells above\n",
    "s = [1,2,3,4,5,6,7,8,9,10]\n",
    "\n",
    "for item in s:\n",
    "    print(item)\n",
    "    \n",
    "print('end of loop has been reached')"
   ]
  },
  {
   "cell_type": "markdown",
   "id": "19322dc5",
   "metadata": {},
   "source": [
    "Let's dissect this code: the first line specifies the use of a `for` loop by using the specific keyword. Then we have a placeholder, for the items that we loop over. We can give this any name we want, and then refer to the item in the same way we would refer to any variable. `in s` specifies that we want to loop over all the objects contained in the object `s`. Lists are part of the family of 'iterable' objects, meaning we can iterate over them (write for-loops on them). We finish the expression with a colon (`:`).\n",
    "\n",
    "Following the colon, we find the body of the loop. In this case it is only one line, the print statement, but it can be arbitrarily long. It is indented by one tab (four spaces), which the editor usually does for you (if you use a Python editor, or a general editor that supports Python, pressing enter after the colon usually puts the cursor into this indented position automatically). This code block is evaluated, and once the end is reached, the program jumps back to the top, iterates to the next item in the list s, and them performs the same code again. The only difference is that `item` refers to a different object now, so the next item in the list `s` is actually printed out. Once we reach the end of the list, we break out of the loop and continue with the next line. In this case it is the print statement indicating that the loop has ended. As it is not indented, it does not form part of the loop.\n",
    "\n",
    "See an example for a loop with several lines in the loop body below. Here, we create a new (initially empty) list, and then store the squared items of list `s` minus 1 in it. We could of course do everything in one line, but the point here is to combine several lines in the loop."
   ]
  },
  {
   "cell_type": "code",
   "execution_count": 40,
   "id": "17b79589",
   "metadata": {},
   "outputs": [
    {
     "name": "stdout",
     "output_type": "stream",
     "text": [
      "[0, 3, 8, 15, 24, 35, 48, 63, 80, 99]\n"
     ]
    }
   ],
   "source": [
    "squares_minus_one = [] # create an empty list\n",
    "\n",
    "# loop over list s\n",
    "for number in s:\n",
    "    new_number = number ** 2\n",
    "    new_number -= 1\n",
    "    squares_minus_one.append(new_number)\n",
    "    \n",
    "print(squares_minus_one)"
   ]
  },
  {
   "cell_type": "code",
   "execution_count": 41,
   "id": "3c3f8f54",
   "metadata": {},
   "outputs": [
    {
     "name": "stdout",
     "output_type": "stream",
     "text": [
      "[0, 3, 8, 15, 24, 35, 48, 63, 80, 99]\n"
     ]
    }
   ],
   "source": [
    "# for completeness: the same code but with the code block in the loop in a single line\n",
    "squares_minus_one = [] \n",
    "\n",
    "for number in s:\n",
    "    squares_minus_one.append(number ** 2 - 1)\n",
    "    \n",
    "print(squares_minus_one)"
   ]
  },
  {
   "cell_type": "markdown",
   "id": "b62a161d",
   "metadata": {},
   "source": [
    "##### list comprehension\n",
    "\n",
    "Simple operations on items of a list, where a new list should be created, can be performed in a single line using list comprehension. This is basically a for-loop inside a list:"
   ]
  },
  {
   "cell_type": "code",
   "execution_count": 42,
   "id": "c79ecdfb",
   "metadata": {},
   "outputs": [
    {
     "name": "stdout",
     "output_type": "stream",
     "text": [
      "[0, 3, 8, 15, 24, 35, 48, 63, 80, 99]\n"
     ]
    }
   ],
   "source": [
    "squares_minus_one = [number ** 2 - 1 for number in s]\n",
    "print(squares_minus_one)"
   ]
  },
  {
   "cell_type": "markdown",
   "id": "d260f0b1",
   "metadata": {},
   "source": [
    "Inside the square brackets, indicating a list, we find the expression to evaluate on the items we loop over, followed by the loop statement. This clearly only works if the operation on the items in the list can be performed in a single step. It does not add any other functionality to the loop, but keeps the code concise, so it is actually encouraged to apply list comprehension whenever possible."
   ]
  },
  {
   "cell_type": "markdown",
   "id": "32d8b9bc",
   "metadata": {},
   "source": [
    "##### range() objects"
   ]
  },
  {
   "cell_type": "markdown",
   "id": "ed273227",
   "metadata": {},
   "source": [
    "If you want to loop over a regular sequence of numbers (e.g. the numbers from 1 to 10, 0 to 10 in steps of 2, or similar), you can use `range` objects. These are iterable objects that simply provide such sequences of numbers. See below for an example:"
   ]
  },
  {
   "cell_type": "code",
   "execution_count": 43,
   "id": "8cf3a340",
   "metadata": {},
   "outputs": [
    {
     "name": "stdout",
     "output_type": "stream",
     "text": [
      "0\n",
      "1\n",
      "2\n",
      "3\n",
      "4\n"
     ]
    }
   ],
   "source": [
    "for i in range(5):\n",
    "    print(i)"
   ]
  },
  {
   "cell_type": "markdown",
   "id": "06d58dac",
   "metadata": {},
   "source": [
    "Similar to indexing in lists, counting starts at 0, and the last number is not included. In the example above, only one number is provided, which is then interpreted as the stopping number. You can however also pass the start and the step size (range(start, stop, step)):"
   ]
  },
  {
   "cell_type": "code",
   "execution_count": 44,
   "id": "801aeb22",
   "metadata": {},
   "outputs": [
    {
     "name": "stdout",
     "output_type": "stream",
     "text": [
      "1\n",
      "2\n",
      "3\n",
      "4\n"
     ]
    }
   ],
   "source": [
    "for j in range(1, 5):\n",
    "    print(j)"
   ]
  },
  {
   "cell_type": "code",
   "execution_count": 45,
   "id": "b4263c56",
   "metadata": {},
   "outputs": [
    {
     "name": "stdout",
     "output_type": "stream",
     "text": [
      "2\n",
      "4\n",
      "6\n",
      "8\n",
      "10\n"
     ]
    }
   ],
   "source": [
    "for k in range(2, 11, 2):\n",
    "    print(k)"
   ]
  },
  {
   "cell_type": "code",
   "execution_count": 46,
   "id": "c46cd575",
   "metadata": {},
   "outputs": [
    {
     "name": "stdout",
     "output_type": "stream",
     "text": [
      "5\n",
      "4\n",
      "3\n",
      "2\n",
      "1\n"
     ]
    }
   ],
   "source": [
    "# and backwards:\n",
    "for l in range(5, 0, -1):\n",
    "    print(l)"
   ]
  },
  {
   "cell_type": "markdown",
   "id": "1007df7f",
   "metadata": {},
   "source": [
    "You do not even need to use the index number that the iteration over a range object creates. Consider as an example the simple difference equation (or AR(1) process) $x_{t+1} = 0.5x_t + 1$, with $x_0 = 10$. Using a for-loop, you can run this $n$ times. You can only store the final number $x_n$, print out all the numbers, or append all values of the time series to a list:"
   ]
  },
  {
   "cell_type": "code",
   "execution_count": 47,
   "id": "975181c2",
   "metadata": {},
   "outputs": [
    {
     "name": "stdout",
     "output_type": "stream",
     "text": [
      "after 10 iterations, the state variable x is 2.0078125.\n"
     ]
    }
   ],
   "source": [
    "n = 10 # how many steps we run\n",
    "x = 10 # starting value\n",
    "\n",
    "for _ in range(n): # use _ as a placeholder, since we do not intend to use this variable explicitly\n",
    "    x = 0.5 * x + 1\n",
    "    \n",
    "print(f\"after 10 iterations, the state variable x is {x}.\")"
   ]
  },
  {
   "cell_type": "code",
   "execution_count": 48,
   "id": "ef15b1c2",
   "metadata": {},
   "outputs": [
    {
     "name": "stdout",
     "output_type": "stream",
     "text": [
      "6.0\n",
      "4.0\n",
      "3.0\n",
      "2.5\n",
      "2.25\n"
     ]
    }
   ],
   "source": [
    "n = 5\n",
    "x = 10\n",
    "\n",
    "for _ in range(n):\n",
    "    x = 0.5 * x + 1\n",
    "    print(x)"
   ]
  },
  {
   "cell_type": "code",
   "execution_count": 49,
   "id": "a596ee17",
   "metadata": {},
   "outputs": [
    {
     "name": "stdout",
     "output_type": "stream",
     "text": [
      "[10, 6.0, 4.0, 3.0, 2.5, 2.25, 2.125, 2.0625, 2.0312, 2.0156, 2.0078, 2.0039, 2.002, 2.001, 2.0005, 2.0002, 2.0001, 2.0001, 2.0, 2.0, 2.0]\n"
     ]
    }
   ],
   "source": [
    "n = 20\n",
    "x = 10\n",
    "\n",
    "# list with only x_0 for now\n",
    "time_series = [x] \n",
    "\n",
    "for _ in range(n):\n",
    "    x = 0.5 * x + 1\n",
    "    # append rounded values, otherwise they become too long to print out in the end\n",
    "    time_series.append(round(x, 4)) \n",
    "    \n",
    "print(time_series)"
   ]
  },
  {
   "cell_type": "markdown",
   "id": "95f66c65",
   "metadata": {},
   "source": [
    "As you can see, writing a program can sometimes \"solve\" an equation by showing you whether it converges or not (stability vs instability) and also showing you the steady state. Especially difference equations are straightforward to implement this way. Differential equations require a few additional techniques that you will learn about in this course."
   ]
  },
  {
   "cell_type": "markdown",
   "id": "e1d5b418",
   "metadata": {},
   "source": [
    "##### enumerate()\n",
    "\n",
    "Sometimes you may want to loop over a list or other iterable object and retrieve not only the items, but also obtain the index number of the objects. A simple way would be to loop over `range(len(iterable_object_of_choice))` and use indexing to the retrieve the items in this object. A more elegant way is to use the `enumerate` function, which creates pairs of index numbers and the respective objects. See below an illustration on those pairs by storing them in a new list:"
   ]
  },
  {
   "cell_type": "code",
   "execution_count": 50,
   "id": "cdcf8d63",
   "metadata": {},
   "outputs": [
    {
     "data": {
      "text/plain": [
       "[(0, 1),\n",
       " (1, 2),\n",
       " (2, 3),\n",
       " (3, 4),\n",
       " (4, 5),\n",
       " (5, 6),\n",
       " (6, 7),\n",
       " (7, 8),\n",
       " (8, 9),\n",
       " (9, 10)]"
      ]
     },
     "execution_count": 50,
     "metadata": {},
     "output_type": "execute_result"
    }
   ],
   "source": [
    "list(enumerate(s))"
   ]
  },
  {
   "cell_type": "markdown",
   "id": "a9deb5f2",
   "metadata": {},
   "source": [
    "You can however loop the enumerate object directly. You are now creating pairs though, so you need to specify two placeholder variables in the loop statement:"
   ]
  },
  {
   "cell_type": "code",
   "execution_count": 51,
   "id": "0a1c7566",
   "metadata": {},
   "outputs": [
    {
     "name": "stdout",
     "output_type": "stream",
     "text": [
      "h: ['h', 'e', 'l', 'l', 'o']\n",
      "Letter 'h' is in position 1 of the word 'hello'.\n",
      "Letter 'e' is in position 2 of the word 'hello'.\n",
      "Letter 'l' is in position 3 of the word 'hello'.\n",
      "Letter 'l' is in position 4 of the word 'hello'.\n",
      "Letter 'o' is in position 5 of the word 'hello'.\n"
     ]
    }
   ],
   "source": [
    "h = list('hello') # transform a string into a list of its constituent letters\n",
    "print(\"h:\", h)\n",
    "for i, item in enumerate(h):\n",
    "    print(f\"Letter '{item}' is in position {i+1} of the word 'hello'.\")"
   ]
  },
  {
   "cell_type": "markdown",
   "id": "b8b68a57",
   "metadata": {},
   "source": [
    "##### while loops\n",
    "\n",
    "Another type of loops are the so-called while-loops. Those also perform a specific operation over and over again, but they do not have a specified number of times to run. Rather, they perform the code block in the loop until a specific condition is not satisfied anymore:"
   ]
  },
  {
   "cell_type": "code",
   "execution_count": 52,
   "id": "3ad83cab",
   "metadata": {},
   "outputs": [
    {
     "name": "stdout",
     "output_type": "stream",
     "text": [
      "0\n",
      "1\n",
      "2\n",
      "3\n",
      "4\n",
      "The end of the while loop has been reached\n"
     ]
    }
   ],
   "source": [
    "i = 0\n",
    "\n",
    "while i < 5:\n",
    "    print(i)\n",
    "    i += 1\n",
    "\n",
    "print('The end of the while loop has been reached')"
   ]
  },
  {
   "cell_type": "markdown",
   "id": "3ff1facb",
   "metadata": {},
   "source": [
    "After initiating some variable `i` with the value `0`, we find the while statement, which consists of the keyword `while`, followed by a condition that evaluates to either `True` or `False`. At first, it is clearly satisfied, as 0 is lass than 5. Therefore, the code in the loop is executed, i.e. the number is printed, and then `i` is incremented by one. Then we jump back to the top, re-evaluate the conditional statement and so on, until one time, when `i` has been incremented to five, and the condition is not met anymore. In that moment, the code block in the loop is not executed anymore, and the program continues with the next line.\n",
    "\n",
    "You could use such loop to find the steady state of a difference equation without having to save all the values, exploiting the definition of a steady state: $x_{t+1} = x_t = \\bar{x}$. You could also evaluate how long it takes the computer to find the steady state. See below for an example using the equation from above."
   ]
  },
  {
   "cell_type": "code",
   "execution_count": 53,
   "id": "30da52b3",
   "metadata": {},
   "outputs": [
    {
     "name": "stdout",
     "output_type": "stream",
     "text": [
      "steady state value: 2.0\n",
      "no. iterations to find steady state: 56\n"
     ]
    }
   ],
   "source": [
    "x = 10      # current value of x\n",
    "x_old = 15  # any number to start with\n",
    "\n",
    "i = 0       # index to count the number of iterations\n",
    "\n",
    "while x_old != x: # if they are not equal, we are not at the steady state yet\n",
    "    x_old = x     # last value of x\n",
    "    x = 0.5 * x + 1 \n",
    "    i += 1\n",
    "    \n",
    "print(f\"steady state value: {x}\")\n",
    "print(f\"no. iterations to find steady state: {i}\")"
   ]
  },
  {
   "cell_type": "markdown",
   "id": "dffffcc9",
   "metadata": {},
   "source": [
    "You can also pass `True` instead of a condition, in that case the loop runs until you tell the computer explicitly to stop. This can be done with the `break` keyword, which, once reached, lets you break out of the loop block:"
   ]
  },
  {
   "cell_type": "code",
   "execution_count": 54,
   "id": "ed5ff115",
   "metadata": {},
   "outputs": [
    {
     "name": "stdout",
     "output_type": "stream",
     "text": [
      "1\n",
      "2\n",
      "3\n",
      "4\n",
      "5\n",
      "6\n",
      "Now we are out of the loop\n"
     ]
    }
   ],
   "source": [
    "i = 0\n",
    "\n",
    "while True:\n",
    "    i += 1\n",
    "    print(i)\n",
    "    if i > 5:\n",
    "        break\n",
    "        \n",
    "print(\"Now we are out of the loop\")"
   ]
  },
  {
   "cell_type": "markdown",
   "id": "5f9b7181",
   "metadata": {},
   "source": [
    "##### if statements (branching, conditional statements)\n",
    "\n",
    "In the code above, you may have noticed the `if` keyword that led to the break statement to finish the otherwise infinite loop. This is a *conditional statement* i.e. the computer checks whether some expression evaluates as `True` and based on that decides whether the following code block (indented to indicate what forms part of this conditional block and where it ends) is executed or not. In the example above, we reach the if-statement 5 times without the statement evaluating to `True`(as long as $1<i<5$). In those cases, the break is not executed. The 6th time then, $i=6$, so the condition is met, we go inside the if-block, where the `break` statement is executed, taking us out of the while loop. Such conditional statements are especially important to specify stopping criteria for numerical algorithms that optimize control problems, estimations, or other related problems.\n",
    "\n",
    "Sometimes you may want to specify what happens when the opposite of the conditional statement is True. For that purpose, there is the `else` keyword:"
   ]
  },
  {
   "cell_type": "code",
   "execution_count": 55,
   "id": "a149ed2f",
   "metadata": {},
   "outputs": [
    {
     "name": "stdout",
     "output_type": "stream",
     "text": [
      "i is greater or equal to 4\n"
     ]
    }
   ],
   "source": [
    "i = 5\n",
    "if i < 4:\n",
    "    print(\"i is less than 4\")\n",
    "else:\n",
    "    print(\"i is greater or equal to 4\")"
   ]
  },
  {
   "cell_type": "markdown",
   "id": "173dff76",
   "metadata": {},
   "source": [
    "The first condition was evaluated as false, so instead the code under the else keyword was executed. If there are more than two options, you can use `elif` (short for else if) statements:"
   ]
  },
  {
   "cell_type": "code",
   "execution_count": 56,
   "id": "15eefad4",
   "metadata": {},
   "outputs": [
    {
     "name": "stdout",
     "output_type": "stream",
     "text": [
      "i=4\n"
     ]
    }
   ],
   "source": [
    "i = 4\n",
    "if i < 4:\n",
    "    print(\"i<4\")\n",
    "elif i == 4:\n",
    "    print(\"i=4\")\n",
    "elif i > 4:\n",
    "    print(\"i>4\")\n",
    "else:\n",
    "    print(\"Something may have gone wrong, or something unexpected happened\")"
   ]
  },
  {
   "cell_type": "markdown",
   "id": "9844442d",
   "metadata": {},
   "source": [
    "Note that sometimes you may not be able to foresee all possible outcomes. In that case, it may be advisable to encapsulate this \"everything else\" with a final `else` statement that is triggered if none of your expected outcomes was realised."
   ]
  },
  {
   "cell_type": "markdown",
   "id": "4373882b",
   "metadata": {},
   "source": [
    "### Functions\n",
    "\n",
    "Many times you will find that you want to apply the same couple of lines of code in many times in a program. It may not be subsequently however, so you cannot simply rely on loops all the time. Instead, you can wrap code in a *function*, that reduces the amount typing you have to do every time you need this. Moreover, if something has to be changed, you can change it in one place, instead of every single occurence of it. Hence, functions are absolutely vital for code organisation.\n",
    "\n",
    "You have already seen a few functions in this introduction, e.g. the `round` function, that takes as input a float, and possibly the number of decimals that this float is to be rounded to, and returns as output the rounded number. Another example is the `len` function, that takes an iterable object as input and returns the number of items contained in it. As you can see, there is a standard pattern to function in general: it takes *input(s)*, performs some operations with or on those inputs, and (usually) returns some kind of *output*.\n",
    "\n",
    "In order to write our own functions, we use the `def` keyword, followed by the function name, and the inputs in parentheses. That is followed by a colon, and the actual function code starts (indented) in the next line. Finally, in most cases we want to return some output of the function, even though that is not strictly necessary. For that purpose, we use the `return` keyword. As an example, see below a simple (and somewhat superfluous) function to square any number: "
   ]
  },
  {
   "cell_type": "code",
   "execution_count": 57,
   "id": "c18146df",
   "metadata": {},
   "outputs": [
    {
     "name": "stdout",
     "output_type": "stream",
     "text": [
      "25\n"
     ]
    }
   ],
   "source": [
    "def square(x):\n",
    "    y = x ** 2\n",
    "    return y\n",
    "\n",
    "y = square(5)\n",
    "print(y)"
   ]
  },
  {
   "cell_type": "markdown",
   "id": "d9d1b45a",
   "metadata": {},
   "source": [
    "It does not really save any coding in this case, but only serves as an illustration anyway. You could also simplify the function a lot, so that it only requires the one line with the return statement:"
   ]
  },
  {
   "cell_type": "code",
   "execution_count": 58,
   "id": "fd228e97",
   "metadata": {},
   "outputs": [
    {
     "name": "stdout",
     "output_type": "stream",
     "text": [
      "25\n"
     ]
    }
   ],
   "source": [
    "def square2(x):\n",
    "    return x ** 2\n",
    "\n",
    "print(square2(5))"
   ]
  },
  {
   "cell_type": "markdown",
   "id": "c4aae78b",
   "metadata": {},
   "source": [
    "Obviously, functions can become much more complex, but keep in mind that it is generally easier to maintain simple functions with a limited range of responsibilities. If function code becomes very large, it may be possible to wrap some of the code inside into sub-functions too. \n",
    "\n",
    "We can of course include conditional returns:"
   ]
  },
  {
   "cell_type": "code",
   "execution_count": 59,
   "id": "a4e2fb17",
   "metadata": {},
   "outputs": [
    {
     "data": {
      "text/plain": [
       "False"
      ]
     },
     "execution_count": 59,
     "metadata": {},
     "output_type": "execute_result"
    }
   ],
   "source": [
    "def smaller_two(x):\n",
    "    if x < 2:\n",
    "        return True\n",
    "    else:\n",
    "        return False\n",
    "    \n",
    "smaller_two(3)"
   ]
  },
  {
   "cell_type": "markdown",
   "id": "c39eda94",
   "metadata": {},
   "source": [
    "Note that here we have only the two options. If the input `x` is not a numerical type, the evaluation of the first if statement will automatically raise an error, as only numbers can be evaluated as greater or less than another number. Hence, we do not need to take care of potential unforeseen inputs that do not make sense ourselves and we can write the function even more concisely:"
   ]
  },
  {
   "cell_type": "code",
   "execution_count": 60,
   "id": "5ae1b702",
   "metadata": {},
   "outputs": [
    {
     "name": "stdout",
     "output_type": "stream",
     "text": [
      "True\n",
      "False\n"
     ]
    }
   ],
   "source": [
    "def smaller_two2(x):\n",
    "    if x < 2:\n",
    "        return True\n",
    "    return False\n",
    "\n",
    "print(smaller_two2(1))\n",
    "print(smaller_two2(2))\n",
    "# uncomment below to see the (expected!) error message\n",
    "# print(smaller_two2(\"hello\"))"
   ]
  },
  {
   "cell_type": "markdown",
   "id": "bd8df786",
   "metadata": {},
   "source": [
    "In this case, if `x` is a number that is indeed less than 2, we reach the `return` statement in the conditional block. Since we return already, we are out of the function and never reach the last line. If the condition evaluates as `False`, we continue to this last line and return `False` accordingly. And finally, if `x` is of a type where this comparison does not make sense (as the string `\"hello\"` in the example), the numerical comparison raises an error. Obviously, for numbers there are only the two options \"less than\" or \"not less than\", so the only possible unforeseen case would be a wrong type, which should not be evaluated.\n",
    "\n",
    "Clearly, it does not make much sense to write such a function, as the simple expression `x<2` serves the exact same purpose. The example here serves only as an illustration of a user-defined function."
   ]
  },
  {
   "cell_type": "markdown",
   "id": "204a4e2d",
   "metadata": {},
   "source": [
    "### Libraries\n",
    "\n",
    "##### Basics\n",
    "\n",
    "An important part in Python programming is the use of libraries. Libraries are pre-written code that you can \"import\" into your workspace, so that you can use functions and objects that are defined in that library. There are inbuilt libraries that come with the standard Python installation. You might notice that the number of built-in functions is actually very small in Python, but many useful features are packaged in those libraries. That allows to maintain a realtively small \"namespace\", while you can import features on a case-by-case basis. One useful example for this course might be the math library, which contains all kinds of useful mathematical functions (exponential, logs, trigonometric, square root etc.). Then there are also external libraries that are not part of the core Python application and are developed by people or teams that are not necessarily part of the Python development team. Those include some of the standard libraries for numerical computating (i.e. NumPy), data processing (e.g. Pandas), plotting (Matplotlib), machine learning, (e.g. scikit-learn), deep learning and neural network (Pytorch, Keras, Tensorflow), and libraries for other types of applications, which we do not need to get into at this point. In this tutorial, we will only use Numpy for efficient mathematical computations, and I provide some code to create plots of your results using Matplotlib.\n",
    "    \n",
    "##### How to use libraries\n",
    "\n",
    "If a library is not part of the official Python distribution, you will usually have to install it. This can be done through the command line (the little black window) using pip: `pip install <library>`. If that does not work for you, you may have to check whether Python is included as a Path in your environment variables. If you use Anaconda and Jupyter notebooks as recommended, as Anaconda also provides all standard external libraries, including Numpy and Matplotlib. If you choose to use a different editor (VS Code is a good option)  and face any kind of problem, you can find plenty of information online.\n",
    "\n",
    "Once you have the library installed, you have to tell the interpreter that you want to use code from it. You do that by use of the `import` keyword, followed by the name of the library. It is also common to import it under a specific name of your choice, usually an abbreviation (for less typing). The most important example for this tutorial is:"
   ]
  },
  {
   "cell_type": "code",
   "execution_count": 61,
   "id": "7ff5f7fc",
   "metadata": {},
   "outputs": [],
   "source": [
    "import numpy as np"
   ]
  },
  {
   "cell_type": "markdown",
   "id": "a2f8f89d",
   "metadata": {},
   "source": [
    "What I told the computer is that I am using the codes from the library called `numpy`, under the name of `np`. Now I can make use of all the functions and object classes in the Numpy library. Most commonly, we start the script by import statements at the top. That way, anyone can see from the beginning, which libraries were used. What you have to do to use the Numpy functions specifically, is to use the `np.`-prefix to indicate that the functions you are referring to are to be used from that library. Take as an example the use of the cosine function, as it is provided by Numpy:"
   ]
  },
  {
   "cell_type": "code",
   "execution_count": 62,
   "id": "0a6e1a63",
   "metadata": {},
   "outputs": [
    {
     "data": {
      "text/plain": [
       "1.0"
      ]
     },
     "execution_count": 62,
     "metadata": {},
     "output_type": "execute_result"
    }
   ],
   "source": [
    "np.cos(0)"
   ]
  },
  {
   "cell_type": "markdown",
   "id": "68b3fc48",
   "metadata": {},
   "source": [
    "Above, I have used the `cos()` function from the Numpy library and evaluated it at 0."
   ]
  },
  {
   "cell_type": "markdown",
   "id": "ec3dc9de",
   "metadata": {},
   "source": [
    "### NumPy\n",
    "\n",
    "The most important library in this tutorial, and the only one that you will have to familiarise yourselves with, is Numpy, which stands short for NUMerical PYthon. It is a library that provides fast and efficient code for any kind of numerical operations. It is a de facto industry standard and serves as a basis for many advanced machine learning and deep learning libraries.\n",
    "\n",
    "At the core or the Numpy library is an array structure, which is a data structure similar to lists (collection of numbers), but static in size (you cannot lengthen or shorten it), and it is limited to numerical types that can be contained in it. Similar to lists, Numpy arrays can be multidimensional. We usually create them by instantiating an array object and passing a list:"
   ]
  },
  {
   "cell_type": "code",
   "execution_count": 63,
   "id": "787f9d23",
   "metadata": {},
   "outputs": [
    {
     "name": "stdout",
     "output_type": "stream",
     "text": [
      "[1 2 3]\n"
     ]
    }
   ],
   "source": [
    "a = np.array([1,2,3])\n",
    "print(a)"
   ]
  },
  {
   "cell_type": "markdown",
   "id": "d717498f",
   "metadata": {},
   "source": [
    "Or a 2d-array (can be used as a matrix):"
   ]
  },
  {
   "cell_type": "code",
   "execution_count": 64,
   "id": "fc844435",
   "metadata": {},
   "outputs": [
    {
     "name": "stdout",
     "output_type": "stream",
     "text": [
      "[[1 2 3]\n",
      " [4 5 6]\n",
      " [7 8 9]]\n"
     ]
    }
   ],
   "source": [
    "b = np.array([\n",
    "    [1,2,3],\n",
    "    [4,5,6],\n",
    "    [7,8,9]\n",
    "])\n",
    "print(b)"
   ]
  },
  {
   "cell_type": "markdown",
   "id": "f7368290",
   "metadata": {},
   "source": [
    "Indexing and slicing works in the same way as for lists:"
   ]
  },
  {
   "cell_type": "code",
   "execution_count": 65,
   "id": "6fabe612",
   "metadata": {},
   "outputs": [
    {
     "name": "stdout",
     "output_type": "stream",
     "text": [
      "1 \t\t ->a[0] \n",
      "\n",
      "[1 2 3] \t ->b[0,:] \n",
      "\n",
      "[1 4 7] \t ->b[:,0] \n",
      "\n",
      "2 \t\t ->b[0,1] \n",
      "\n",
      "[[2 3]\n",
      " [5 6]] \t ->b[:-1,1:]\n",
      "\n"
     ]
    }
   ],
   "source": [
    "print(a[0], '\\t\\t ->a[0] \\n')\n",
    "print(b[0,:], '\\t ->b[0,:] \\n')    # first row\n",
    "print(b[:,0], '\\t ->b[:,0] \\n')    # first column\n",
    "print(b[0,1], '\\t\\t ->b[0,1] \\n')    # first row, second column\n",
    "print(b[:-1,1:], '\\t ->b[:-1,1:]\\n') # top right 2x2 submatrix"
   ]
  },
  {
   "cell_type": "markdown",
   "id": "6c4b91e5",
   "metadata": {},
   "source": [
    "The \"shape\" of an array returns the length along the distinc dimensions:"
   ]
  },
  {
   "cell_type": "code",
   "execution_count": 66,
   "id": "cf58426b",
   "metadata": {},
   "outputs": [
    {
     "name": "stdout",
     "output_type": "stream",
     "text": [
      "shape of a: (3,)\n",
      "shape of b: (3, 3)\n"
     ]
    }
   ],
   "source": [
    "print(f\"shape of a: {a.shape}\")\n",
    "print(f\"shape of b: {b.shape}\")"
   ]
  },
  {
   "cell_type": "markdown",
   "id": "37f74d12",
   "metadata": {},
   "source": [
    "`a` is 1-dimensional, with a length of 3 (three items in the array), `b` is a 2D 3x3 array. `shape` is a so-called *attribute* of the array, and we call it without parentheses. That is because we are not executing a method that is performed on the array, but we only retrieve some data that form part of that particular object.\n",
    "\n",
    "You can perform standard mathematical operations on entire arrays:"
   ]
  },
  {
   "cell_type": "code",
   "execution_count": 67,
   "id": "c189f2ce",
   "metadata": {},
   "outputs": [
    {
     "name": "stdout",
     "output_type": "stream",
     "text": [
      "[4 5 6]\n",
      "[3 6 9]\n"
     ]
    }
   ],
   "source": [
    "print(a + 3)\n",
    "print(a * 3)"
   ]
  },
  {
   "cell_type": "markdown",
   "id": "028691c7",
   "metadata": {},
   "source": [
    "As you see, every element was increment or multiplied by three in the examples above. Multiplication of arrays with each other is, by default element-wise and does not follow standard rules of linear algebra:"
   ]
  },
  {
   "cell_type": "code",
   "execution_count": 68,
   "id": "d154bf6f",
   "metadata": {},
   "outputs": [
    {
     "data": {
      "text/plain": [
       "array([1, 4, 9])"
      ]
     },
     "execution_count": 68,
     "metadata": {},
     "output_type": "execute_result"
    }
   ],
   "source": [
    "a * b[0]"
   ]
  },
  {
   "cell_type": "markdown",
   "id": "7d2acb63",
   "metadata": {},
   "source": [
    "If you want to compute the dot product of two vectors, or a matrix-vector product, you can use the `np.matmul()` function, or the `@` operator:"
   ]
  },
  {
   "cell_type": "code",
   "execution_count": 69,
   "id": "a4ca36b3",
   "metadata": {},
   "outputs": [
    {
     "name": "stdout",
     "output_type": "stream",
     "text": [
      "14\n",
      "14\n",
      "[14 32 50]\n"
     ]
    }
   ],
   "source": [
    "print(a @ b[0])\n",
    "print(np.matmul(a, b[0]))\n",
    "print(b @ a)"
   ]
  },
  {
   "cell_type": "markdown",
   "id": "6af53a81",
   "metadata": {},
   "source": [
    "Use `.T` to transpose a matrix:"
   ]
  },
  {
   "cell_type": "code",
   "execution_count": 70,
   "id": "8b241c80",
   "metadata": {},
   "outputs": [
    {
     "name": "stdout",
     "output_type": "stream",
     "text": [
      "[[1 4 7]\n",
      " [2 5 8]\n",
      " [3 6 9]]\n"
     ]
    }
   ],
   "source": [
    "print(b.T)"
   ]
  },
  {
   "cell_type": "markdown",
   "id": "6a2f862e",
   "metadata": {},
   "source": [
    "Standard mathematical and statistical operations such as means and standard deviations can be performed on arrays, using either functions, or array methods. \n",
    "\n",
    "Functions:"
   ]
  },
  {
   "cell_type": "code",
   "execution_count": 71,
   "id": "09721dcf",
   "metadata": {},
   "outputs": [
    {
     "name": "stdout",
     "output_type": "stream",
     "text": [
      "2.0\n",
      "0.816496580927726\n"
     ]
    }
   ],
   "source": [
    "print(np.mean(a))\n",
    "print(np.std(a))"
   ]
  },
  {
   "cell_type": "markdown",
   "id": "0932267a",
   "metadata": {},
   "source": [
    "Array methods:"
   ]
  },
  {
   "cell_type": "code",
   "execution_count": 72,
   "id": "233a608d",
   "metadata": {},
   "outputs": [
    {
     "name": "stdout",
     "output_type": "stream",
     "text": [
      "5.0\n",
      "2.581988897471611\n"
     ]
    }
   ],
   "source": [
    "print(b.mean())\n",
    "print(b.std())"
   ]
  },
  {
   "cell_type": "markdown",
   "id": "9d429bd5",
   "metadata": {},
   "source": [
    "If you perform them on multi-dimensional arrays, the methods above methods will still calculate the means or standard deviations of all entries, independent of row and column. You can however calculate such values based on slices of arrays too:"
   ]
  },
  {
   "cell_type": "code",
   "execution_count": 73,
   "id": "4217bc35",
   "metadata": {},
   "outputs": [
    {
     "data": {
      "text/plain": [
       "2.0"
      ]
     },
     "execution_count": 73,
     "metadata": {},
     "output_type": "execute_result"
    }
   ],
   "source": [
    "b[0,:].mean()"
   ]
  },
  {
   "cell_type": "markdown",
   "id": "c7c510b8",
   "metadata": {},
   "source": [
    "In this tutorial, linear algebra operations in Numpy are particulaly relevant for us. There is a sub-module called linalg with all the operations you will typically need, e.g. matrix inversion, eigenvalues and -vectors etc. You have to call the functions specifying that submodule explicitly though:"
   ]
  },
  {
   "cell_type": "code",
   "execution_count": 74,
   "id": "439e440f",
   "metadata": {},
   "outputs": [
    {
     "name": "stdout",
     "output_type": "stream",
     "text": [
      "c: \n",
      "[[1 1]\n",
      " [1 0]]\n",
      "\n",
      "c^{-1}: \n",
      "[[ 0.  1.]\n",
      " [ 1. -1.]]\n"
     ]
    }
   ],
   "source": [
    "# matrix inverse (b is not full rank, so we create a different one)\n",
    "c = np.array([[1,1], [1,0]])\n",
    "print(f\"c: \\n{c}\\n\")\n",
    "print(f\"c^{{-1}}: \\n{np.linalg.inv(c)}\")"
   ]
  },
  {
   "cell_type": "markdown",
   "id": "7c157dee",
   "metadata": {},
   "source": [
    "From Numpy I have here called the submodule linalg, and from that submodule the `inv()` function to invert the matrix.\n",
    "\n",
    "Eigenvalues can be obtained with the `eigvals()` function:"
   ]
  },
  {
   "cell_type": "code",
   "execution_count": 75,
   "id": "c69cffd2",
   "metadata": {},
   "outputs": [
    {
     "name": "stdout",
     "output_type": "stream",
     "text": [
      "[ 1.61803399 -0.61803399]\n"
     ]
    }
   ],
   "source": [
    "print(np.linalg.eigvals(c))"
   ]
  },
  {
   "cell_type": "markdown",
   "id": "49674aca",
   "metadata": {},
   "source": [
    "And if you require eigenvectors too, simply use the `eig()` function. It returns two arrays: the first one contains the eigenvalues, the second one a matrix of eigenvectors. The eigenvectors are the *columns* of that matrix."
   ]
  },
  {
   "cell_type": "code",
   "execution_count": 76,
   "id": "56f2600c",
   "metadata": {},
   "outputs": [
    {
     "name": "stdout",
     "output_type": "stream",
     "text": [
      "(array([ 1.61803399, -0.61803399]), array([[ 0.85065081, -0.52573111],\n",
      "       [ 0.52573111,  0.85065081]]))\n"
     ]
    }
   ],
   "source": [
    "print(np.linalg.eig(c))"
   ]
  },
  {
   "cell_type": "markdown",
   "id": "47561b81",
   "metadata": {},
   "source": [
    "Confirm that the eigenvalue definition $Av = \\lambda v$ holds:"
   ]
  },
  {
   "cell_type": "code",
   "execution_count": 77,
   "id": "783b0e01",
   "metadata": {},
   "outputs": [
    {
     "name": "stdout",
     "output_type": "stream",
     "text": [
      "[False False]\n",
      "[-2.22044605e-16  1.11022302e-16]\n"
     ]
    }
   ],
   "source": [
    "evals, evecs = np.linalg.eig(c)\n",
    "print(c @ evecs[:,0] == evals[0] * evecs[:,0])\n",
    "print(c @ evecs[:,0] - evals[0] * evecs[:,0])"
   ]
  },
  {
   "cell_type": "markdown",
   "id": "af6deffc",
   "metadata": {},
   "source": [
    "As you can see, in this example they are not perfectly equal. The equality evaluation is element-wise, and shows that in both cases there are differences. Calculating those differences shows however that those are on the magnitude of $10^{-16} = 0.0000000000000001$. Such tiny imprecisions are common in computer calculations, as the precision a computer can reach is limited."
   ]
  },
  {
   "cell_type": "markdown",
   "id": "f593d36b",
   "metadata": {},
   "source": [
    "Numpy also has a few special arrays that it can create by the use of functions, such as empty array (`NaN`s inside), identity matrices, arrays filled with only zeros or ones etc. In those case you usually have to specify the length or the shape using a tuple. Identity matrices , as they are symmetric by definition, only require the length of one of both dimensions:"
   ]
  },
  {
   "cell_type": "code",
   "execution_count": 78,
   "id": "389d8a95",
   "metadata": {},
   "outputs": [
    {
     "name": "stdout",
     "output_type": "stream",
     "text": [
      "empty array:\n",
      " [[1. 1.]\n",
      " [1. 0.]]\n",
      "\n",
      " zeros:\n",
      " [0. 0. 0.]\n",
      "\n",
      " ones:\n",
      " [[[1. 1.]\n",
      "  [1. 1.]]\n",
      "\n",
      " [[1. 1.]\n",
      "  [1. 1.]]]\n",
      "\n",
      " identity matrix:\n",
      " [[1. 0. 0.]\n",
      " [0. 1. 0.]\n",
      " [0. 0. 1.]]\n"
     ]
    }
   ],
   "source": [
    "print(\"empty array:\\n\", np.empty((2,2)))\n",
    "print(\"\\n zeros:\\n\", np.zeros(3))\n",
    "print(\"\\n ones:\\n\", np.ones((2,2,2)))    # three-dimensional array (stacked matrices)\n",
    "print(\"\\n identity matrix:\\n\", np.eye(3))"
   ]
  },
  {
   "cell_type": "markdown",
   "id": "2cf0d018",
   "metadata": {},
   "source": [
    "Empty arrays can be useful when you run a model and want to specify the data structure to store the model data beforehand. Numpy arrays cannot be altered in length like lists (where you could simply append new data), so you would create an empty array of the correct dimensions first and then fill it with numbers.\n",
    "\n",
    "You can also create arrays with a specific length and a pre-defined number of linearly-spaced numbers between a desired start and stop value, using the `linspace(start, stop, n)` function:"
   ]
  },
  {
   "cell_type": "code",
   "execution_count": 79,
   "id": "cb2dc2a6",
   "metadata": {},
   "outputs": [
    {
     "name": "stdout",
     "output_type": "stream",
     "text": [
      "[0.   0.01 0.02 0.03 0.04 0.05 0.06 0.07 0.08 0.09 0.1  0.11 0.12 0.13\n",
      " 0.14 0.15 0.16 0.17 0.18 0.19 0.2  0.21 0.22 0.23 0.24 0.25 0.26 0.27\n",
      " 0.28 0.29 0.3  0.31 0.32 0.33 0.34 0.35 0.36 0.37 0.38 0.39 0.4  0.41\n",
      " 0.42 0.43 0.44 0.45 0.46 0.47 0.48 0.49 0.5  0.51 0.52 0.53 0.54 0.55\n",
      " 0.56 0.57 0.58 0.59 0.6  0.61 0.62 0.63 0.64 0.65 0.66 0.67 0.68 0.69\n",
      " 0.7  0.71 0.72 0.73 0.74 0.75 0.76 0.77 0.78 0.79 0.8  0.81 0.82 0.83\n",
      " 0.84 0.85 0.86 0.87 0.88 0.89 0.9  0.91 0.92 0.93 0.94 0.95 0.96 0.97\n",
      " 0.98 0.99 1.  ]\n"
     ]
    }
   ],
   "source": [
    "print(np.linspace(0, 1, 101))"
   ]
  },
  {
   "cell_type": "code",
   "execution_count": 80,
   "id": "27918d34",
   "metadata": {},
   "outputs": [
    {
     "name": "stdout",
     "output_type": "stream",
     "text": [
      "[ 1.  2.  3.  4.  5.  6.  7.  8.  9. 10.]\n"
     ]
    }
   ],
   "source": [
    "print(np.linspace(1,10,10))"
   ]
  },
  {
   "cell_type": "markdown",
   "id": "85572f50",
   "metadata": {},
   "source": [
    "This function can be useful to create a grid of numbers, or \"x-values\" that you want to plot a function against. There is also a `logspace()` alternative, with logarithmically sapced numbers, but that will not be relevant in this tutorial."
   ]
  },
  {
   "cell_type": "markdown",
   "id": "559cde47",
   "metadata": {},
   "source": [
    "### Matplotlib\n",
    "\n",
    "The second library that you will see a lot in this tutorial is Matplotlib. It is used to plot some of your model results and will hopefully help you evaluate your results and also built some intuition for dynamic systems. You will not have to write the code for those plots yourself though, so a proper introduction is not necessary at this point. The main functionalities are the creation of a figure, and the plotting of lines, scatter plots, or anything else you can think of. The main part of the library that is commonly used is the pyplot submodule."
   ]
  },
  {
   "cell_type": "code",
   "execution_count": 81,
   "id": "7ab7ae19",
   "metadata": {},
   "outputs": [],
   "source": [
    "import matplotlib.pyplot as plt"
   ]
  },
  {
   "cell_type": "code",
   "execution_count": 82,
   "id": "f24ca5d0",
   "metadata": {},
   "outputs": [
    {
     "data": {
      "text/plain": [
       "<matplotlib.legend.Legend at 0x2da96ee2fd0>"
      ]
     },
     "execution_count": 82,
     "metadata": {},
     "output_type": "execute_result"
    },
    {
     "data": {
      "image/png": "[encoded data removed]",
      "text/plain": [
       "<Figure size 432x288 with 1 Axes>"
      ]
     },
     "metadata": {
      "needs_background": "light"
     },
     "output_type": "display_data"
    }
   ],
   "source": [
    "# create some data\n",
    "x = np.linspace(0, 6, 1000)\n",
    "y = np.sin(x)\n",
    "\n",
    "a = np.linspace(0,6,12)\n",
    "b = np.cos(a)\n",
    "\n",
    "# instantiate figure\n",
    "plt.figure()\n",
    "plt.title(\"Sine and Cosine\")\n",
    "\n",
    "plt.plot(x,y, color=\"black\", linewidth=0.7, label=\"sin(x)\")\n",
    "plt.scatter(a,b, color=\"red\", s=15, label=\"cos(x)\")\n",
    "\n",
    "plt.xlabel(\"x\")\n",
    "plt.legend()"
   ]
  },
  {
   "cell_type": "code",
   "execution_count": null,
   "id": "f11d81e6",
   "metadata": {},
   "outputs": [],
   "source": []
  }
 ],
 "metadata": {
  "kernelspec": {
   "display_name": "Python 3 (ipykernel)",
   "language": "python",
   "name": "python3"
  },
  "language_info": {
   "codemirror_mode": {
    "name": "ipython",
    "version": 3
   },
   "file_extension": ".py",
   "mimetype": "text/x-python",
   "name": "python",
   "nbconvert_exporter": "python",
   "pygments_lexer": "ipython3",
   "version": "3.9.12"
  }
 },
 "nbformat": 4,
 "nbformat_minor": 5
}
