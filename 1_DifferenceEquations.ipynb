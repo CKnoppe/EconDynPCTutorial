{
 "cells": [
  {
   "cell_type": "markdown",
   "id": "f5dcc354",
   "metadata": {},
   "source": [
    "# 1 Difference Equations\n",
    "\n",
    "Simulating models based on a difference equation is straightforward: simply apply the given equation over and over again, in an iterative way. After every step, the result needs to be stored in an appropriate data structure (list, numpy array).\n",
    "\n",
    "As a light start into this tutorial this is ideal, as you can focus on familiarising yourselves with the programming environment, before getting into more complicated issues."
   ]
  },
  {
   "cell_type": "code",
   "execution_count": null,
   "id": "7bfc36cd",
   "metadata": {},
   "outputs": [],
   "source": [
    "# imports: so far only the matplotlib plotting library\n",
    "%matplotlib notebook\n",
    "import matplotlib.pyplot as plt"
   ]
  },
  {
   "cell_type": "markdown",
   "id": "43938a43",
   "metadata": {},
   "source": [
    "### 1.1 First-order difference equation: Cobweb model\n",
    "\n",
    "In the first exercise, we are going to look at a simple first-order difference equation, the basic version of the Cobweb model from the first tutorial. The equation we recover from the model is\n",
    "\n",
    "$p_t = -\\frac{\\delta}{\\beta}p_{t-1}+\\frac{\\alpha + \\gamma}{\\beta}$\n",
    "\n",
    "It is generally good practice in programming to separate different parts of the procedure, so it is easier to keep a good overview of the code. Code that is used multiple times should be wrapped in a function. In this case, a single line (the equation) suffices for the single time step and hence it wouldn't be so necessary to write a separate function for it. However, it still seems appropriate to break up the problem into smaller parts, at least for educational purposes.\n",
    "\n",
    "##### EXERCISE\n",
    "\n",
    "Write the function for 1 time step (i.e. from time $t$ to $t+1$) in the cell below. It takes as arguments the current price, as well as the model parameters $\\alpha$, $\\beta$, $\\gamma$, $\\delta$, and returns the next period's price."
   ]
  },
  {
   "cell_type": "code",
   "execution_count": null,
   "id": "9905fffb",
   "metadata": {},
   "outputs": [],
   "source": [
    "def Cobweb_1step(p_t, alpha, beta, gamma, delta):\n",
    "    # TODO"
   ]
  },
  {
   "cell_type": "markdown",
   "id": "2b89fdb3",
   "metadata": {},
   "source": [
    "##### EXERCISE\n",
    "\n",
    "Now we have to iterate this equation several times in order to analyse the dynamic behaviour of the model. Write the for-loop that applies your 1-step function $T$ times ($T$ and the model parameters are defined below, feel free to play around with the values) and store the results in the results list (append the new price after every iteration)."
   ]
  },
  {
   "cell_type": "code",
   "execution_count": null,
   "id": "36bdbe69",
   "metadata": {},
   "outputs": [],
   "source": [
    "# number of steps to iterate through\n",
    "T = 10\n",
    "\n",
    "# model parameters\n",
    "alpha = 2\n",
    "beta = 0.75\n",
    "gamma = 1.5\n",
    "delta = 1\n",
    "\n",
    "# initial price\n",
    "p_0 = 1\n",
    "\n",
    "# initialise results list (empty at first)\n",
    "results = list()\n",
    "# insert initial price in results list\n",
    "results.append(p_0)\n",
    "\n",
    "# for loop to apply model function iteratively T times: fill out the actual body of the loop\n",
    "for t in range(T):\n",
    "    # TODO"
   ]
  },
  {
   "cell_type": "markdown",
   "id": "180498e9",
   "metadata": {},
   "source": [
    "To check what happens, you can print the list of results, or plot the time series. Below, I provide code for both. What happens if you start in the steady state instead of the given initial price? How can you change the model behaviour, e.g. such that it becomes stable?"
   ]
  },
  {
   "cell_type": "code",
   "execution_count": null,
   "id": "a2412911",
   "metadata": {},
   "outputs": [],
   "source": [
    "print(results)"
   ]
  },
  {
   "cell_type": "code",
   "execution_count": null,
   "id": "bb12579c",
   "metadata": {},
   "outputs": [],
   "source": [
    "steady_state = (alpha + gamma) / (beta + delta)\n",
    "\n",
    "# initialise figure\n",
    "plt.figure(figsize=(8,4))\n",
    "plt.title(\"Cobweb model dynamic behaviour\")\n",
    "\n",
    "# plot results with slightly thinner linewidth than default (looks nicer in my opinion)\n",
    "plt.plot(results, linewidth=0.7)\n",
    "\n",
    "# horizontal line to indicate steady state\n",
    "plt.hlines(steady_state, 0, T, lw=0.7, linestyle=\"--\", color='black')\n",
    "\n",
    "plt.text(T-1.2, steady_state, \"steady state\")\n",
    "\n",
    "# axis labels\n",
    "plt.xlabel(\"t\")\n",
    "plt.ylabel(\"p\")"
   ]
  },
  {
   "cell_type": "markdown",
   "id": "95ae9fa6",
   "metadata": {},
   "source": [
    "### 1.2 Second-order difference equation\n",
    "\n",
    "Here we are looking at the equation of exercise 0 c) (ii) in the first tutorial:\n",
    "\n",
    "$y_t = 1.1y_{t-1} - 0.6y_{t-2} + 1100$.\n",
    "\n",
    "##### EXERCISE\n",
    "\n",
    "Write a function that implements one time step, then apply this function iteratively to simulate the model's behaviour over time.\n",
    "\n",
    "Instead of implementing it strictly with the parameters 1.1, -0.6 and 1100, leave these as abstract parameters a, b, and c. That way, you can change your model parameters more easily and check how the model changes."
   ]
  },
  {
   "cell_type": "code",
   "execution_count": null,
   "id": "94c389f9",
   "metadata": {},
   "outputs": [],
   "source": [
    "def second_order_1step(y_1, y_2, a, b, c):\n",
    "    # TODO"
   ]
  },
  {
   "cell_type": "markdown",
   "id": "6a59e3ca",
   "metadata": {},
   "source": [
    "##### EXERCISE\n",
    "\n",
    "Write a for-loop that runs this model $T$ times"
   ]
  },
  {
   "cell_type": "code",
   "execution_count": null,
   "id": "092d4f4e",
   "metadata": {},
   "outputs": [],
   "source": [
    "# initial conditions, store in results list right away\n",
    "results2 = [1300, 1600] # different name than the list last time\n",
    "\n",
    "# model parameters\n",
    "a = 1.1\n",
    "b = -0.6\n",
    "c = 1100\n",
    "\n",
    "# number of times steps to be performed\n",
    "T = 25\n",
    "\n",
    "# apply one step T times\n",
    "\n",
    "#    # TODO"
   ]
  },
  {
   "cell_type": "markdown",
   "id": "44013683",
   "metadata": {},
   "source": [
    "#### Plotting the results"
   ]
  },
  {
   "cell_type": "code",
   "execution_count": null,
   "id": "b4d374a5",
   "metadata": {},
   "outputs": [],
   "source": [
    "# steady state\n",
    "ss = 1100 / (1 - a - b)\n",
    "\n",
    "plt.figure(figsize=(8,4))\n",
    "plt.title(\"Second-order difference equation simulation\")\n",
    "plt.plot(results2, lw=0.7)\n",
    "plt.hlines(ss, 0, T+1, ls=\"--\", lw=0.7, color=\"black\")\n",
    "plt.xlabel(\"t\")\n",
    "plt.ylabel(\"y\")"
   ]
  },
  {
   "cell_type": "markdown",
   "id": "aba5dbb8",
   "metadata": {},
   "source": [
    "### Bonus\n",
    "\n",
    "Implement and plot any other model form the first tutorial or the additional exercise, section 1. Plot the results to find out how it behaves."
   ]
  },
  {
   "cell_type": "code",
   "execution_count": null,
   "id": "08cc7477",
   "metadata": {},
   "outputs": [],
   "source": []
  }
 ],
 "metadata": {
  "kernelspec": {
   "display_name": "Python 3 (ipykernel)",
   "language": "python",
   "name": "python3"
  },
  "language_info": {
   "codemirror_mode": {
    "name": "ipython",
    "version": 3
   },
   "file_extension": ".py",
   "mimetype": "text/x-python",
   "name": "python",
   "nbconvert_exporter": "python",
   "pygments_lexer": "ipython3",
   "version": "3.9.16"
  }
 },
 "nbformat": 4,
 "nbformat_minor": 5
}
