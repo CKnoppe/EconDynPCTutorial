{
 "cells": [
  {
   "cell_type": "markdown",
   "id": "4e602c86",
   "metadata": {},
   "source": [
    "# 2 Systems of difference equations\n",
    "\n",
    "If there are multiple variables that are related through some kind of linear function, we can express the system of equations in matrix-vector notation. Simulating the system then works exactly the same way as previously, with the only difference that we are iterating an equation that consists of matrices and vectors, rather than scalars. In this tutorial, we will also touch upon transforming a higher-order system into a first-order system of higher dimensionality, as it makes the computation somewhat simpler.\n",
    "\n",
    "In order to perform linear algebra, we will introduce the NumPy (Numerical Python) package. It is a package with specific array structures and highly optimised computational procedures. It is the standard that most machine learning and artificial intelligence applications are built upon, and, as a rule of thumb, should be used whenever you want to process numbers in Python."
   ]
  },
  {
   "cell_type": "code",
   "execution_count": null,
   "id": "ff94d698",
   "metadata": {},
   "outputs": [],
   "source": [
    "import numpy as np\n",
    "%matplotlib notebook\n",
    "import matplotlib.pyplot as plt\n",
    "\n",
    "# this renders text in figures in Latex font\n",
    "from matplotlib import rc\n",
    "rc('text', usetex=True)"
   ]
  },
  {
   "cell_type": "markdown",
   "id": "6d3c16c0",
   "metadata": {},
   "source": [
    "### 2.1 First-order 2D system\n",
    "\n",
    "Consider the 2-dimensional system from tutorial 2, exercise 1:\n",
    "\n",
    "$y_{t+1} = 0.7y_t + 0.3 z_t\\\\ z_{t+1} = 0.1y_t + 0.75 z_t + 15\\\\y_0=225;z_0=25$\n",
    "\n",
    "##### EXERCISE\n",
    "\n",
    "* re-write the system as a single equation of the form $\\mathbf{x}_{t+1} = \\mathbf{Ax}_t + \\mathbf{g}_t$\n",
    "* implement vectors as arrays and the matrix as a 2-dimensional array (nested array, i.e. arrays in an array)\n",
    "* use numpy matrix multiplication to implement one time step in a function\n",
    "\n",
    "Try the first part (re-writing the equation) on paper first to get a better intuition for the problem."
   ]
  },
  {
   "cell_type": "code",
   "execution_count": null,
   "id": "50b85b28",
   "metadata": {},
   "outputs": [],
   "source": [
    "def system_1step(yz_t, A, g):\n",
    "    # TODO"
   ]
  },
  {
   "cell_type": "markdown",
   "id": "fad8f6a3",
   "metadata": {},
   "source": [
    "##### EXERCISE\n",
    "\n",
    "Create the vectors yz_0, g, and the coefficient matrix A: "
   ]
  },
  {
   "cell_type": "code",
   "execution_count": null,
   "id": "c2ed97a5",
   "metadata": {},
   "outputs": [],
   "source": [
    "yz_0 = # TODO\n",
    "A = # TODO\n",
    "g = # TODO"
   ]
  },
  {
   "cell_type": "markdown",
   "id": "2d07acf9",
   "metadata": {},
   "source": [
    "##### EXERCISE\n",
    "\n",
    "Write a for loop to iterate through the system $T$ times. Store the results in a $2\\times (T+1)$ numpy array (one row per variable). Note that, unlike Python lists, numpy arrays are not variable in size. Hence, we first create an empty array of the size we will need to store all results. The second dimension is $T+1$, not $T$ because we will obtain $T$ results, and we start with one set of initial values."
   ]
  },
  {
   "cell_type": "code",
   "execution_count": null,
   "id": "28fc7379",
   "metadata": {},
   "outputs": [],
   "source": [
    "T = 25\n",
    "\n",
    "# results array\n",
    "results = np.empty((2, T+1))\n",
    "# store initial values in results array\n",
    "results[:,0] = yz_0\n",
    "\n",
    "# before we apply the equation (function above) iteratively, a few checks to ensure the matrix and vector dimensions match\n",
    "assert A.shape[0] == A.shape[1] # square matrix\n",
    "assert yz_0.shape[0] == A.shape[0] # same length of vector and matrix\n",
    "assert yz_0.shape == g.shape # same length of vectors\n",
    "\n",
    "# implement the loop!\n",
    "for t in range(T):\n",
    "    # TODO"
   ]
  },
  {
   "cell_type": "code",
   "execution_count": null,
   "id": "764e01df",
   "metadata": {},
   "outputs": [],
   "source": [
    "print(results)"
   ]
  },
  {
   "cell_type": "markdown",
   "id": "a3c39b49",
   "metadata": {},
   "source": [
    "To examine the results, we will create one plot in which both variables are plotted over time, and one in the phase space. I use the subplots environment in matplotlib to combine both plots in a single figure.\n",
    "\n",
    "Moreover, I am plotting the isoclines in the phase space. Those are lines at which *one* of the variables is in steady state. The intersection is obviously the point at which the entire system is in steady state. We calculate it by using the equation of one variable, setting it to its steady state value, and solving it so that we have a functional form of one variable in dependence of the other. Here that means:\n",
    "\n",
    "Isocline of y:\n",
    "\n",
    "$\\bar{y} = 0.7\\bar{y} + 0.3z_t \\Leftrightarrow \\bar{y}=z_t$\n",
    "\n",
    "and of z:\n",
    "\n",
    "$\\bar{z} = 0.1y_t + 0.75\\bar{z} + 15 \\Leftrightarrow \\bar{z} = 0.4y_t + 60$\n",
    "\n",
    "Since this is a linear system, the isoclines are also linear functions in the phase space."
   ]
  },
  {
   "cell_type": "code",
   "execution_count": null,
   "id": "98ecba83",
   "metadata": {},
   "outputs": [],
   "source": [
    "fig, (ax1, ax2) = plt.subplots(1, 2, figsize=(10, 4))\n",
    "plt.suptitle(\"First-order system\")\n",
    "\n",
    "ax1.set_title(\"Behaviour over time\", fontsize=10)\n",
    "ax1.plot(results[0], color=\"darkblue\", lw=0.7, label=\"y\")\n",
    "ax1.plot(results[1], color=\"darkred\", lw=0.7, label=\"z\")\n",
    "ax1.plot([100]*(T+1), color=\"black\", lw=0.7, ls=\"--\", label=\"ss\")\n",
    "ax1.legend()\n",
    "\n",
    "ax1.set_xlabel(\"t\")\n",
    "ax1.set_ylabel(\"y, z\")\n",
    "\n",
    "#######################\n",
    "\n",
    "ax2.set_title(\"Convergence in phase space\", fontsize=10)\n",
    "ax2.plot(results[0], results[1], color=\"green\", label=\"dynamics\", lw=0.7)\n",
    "ax2.scatter((100), (100), color=\"black\", label=\"steady state\")\n",
    "\n",
    "###\n",
    "# isoclines\n",
    "y = np.array([75, 150]) # two points are enough for straight lines\n",
    "ybar = y\n",
    "zbar = 0.4*y + 60\n",
    "# plot iscoclines\n",
    "ax2.plot(y, ybar, color=\"black\", lw=0.7, ls=\"--\", label=\"isocline y\")\n",
    "ax2.plot(y, zbar, color=\"black\", lw=0.7, ls=\":\", label=\"isocline z\")\n",
    "\n",
    "# arrows for the first 3 steps to indicate direction of motion\n",
    "for i in range(3):\n",
    "    x = results[0, i]\n",
    "    y = results[1, i]\n",
    "    dx = results[0, i+1] - results[0, i]\n",
    "    dy = results[1, i+1] - results[1, i]\n",
    "    ax2.arrow(x, y, dx, dy, color=\"green\", lw=0.1, head_width=2.5)\n",
    "    \n",
    "\n",
    "ax2.set_xlabel(\"y\")\n",
    "ax2.set_ylabel(\"z\")\n",
    "ax2.legend()"
   ]
  },
  {
   "cell_type": "markdown",
   "id": "90807ba4",
   "metadata": {},
   "source": [
    "Zoom into the phase space to see more detail of the behaviour in the vincinity of the steady state. As a bonus exercise, you could try to run this system from many different starting points and plot a variety of paths in the phase space, to show the converging behaviour from all points of the phase space."
   ]
  },
  {
   "cell_type": "markdown",
   "id": "d05f1c0b",
   "metadata": {},
   "source": [
    "### 2.2 Second-order difference equation as first-order 2d system\n",
    "\n",
    "In the second exercise, we will convert the second-order difference equation from the first PC tutorial $y_t = 1.1y_{t-1} - 0.6y_{t-2} + 1100$ into a 2-dimensional system of first-order equations.\n",
    "\n",
    "##### EXERCISE\n",
    "\n",
    "First, set up the first-order system (2d system of first-order differential equations).\n",
    "\n",
    "Use as initial conditions the same as last time: $y_0 = 1300$, $y_1 = 1600$. You can then apply your 1-step function from above, with a new initial vector, and a different coefficient matrix $A$ and inhomogeneous part $g$.\n",
    "\n",
    "Try to re-write the system on paper first, that will make it easier."
   ]
  },
  {
   "cell_type": "code",
   "execution_count": null,
   "id": "4c1cee61",
   "metadata": {},
   "outputs": [],
   "source": [
    "yz_0 = # TODO\n",
    "A = # TODO\n",
    "g = # TODO\n",
    "\n",
    "T = 25\n",
    "\n",
    "results2 = # TODO: results array (checkabove howitwas done there)\n",
    "# TODO: insert the initial state into the results array\n",
    "\n",
    "# iterate T times\n",
    "for t in range(T):\n",
    "    # TODO"
   ]
  },
  {
   "cell_type": "markdown",
   "id": "bca2e02f",
   "metadata": {},
   "source": [
    "Next, we can draw a similar plot to the one above. There is no need to plot $z_t$ over time, since it is $y_{t-1}$ and therefore does not add any information. Note what the oscillatory behaviour translates to in the phase space: the convergence happens in circles around the steady state. This is because the coefficient matrix relates to a rotation in the phase space, if we interpret it geometrically."
   ]
  },
  {
   "cell_type": "code",
   "execution_count": null,
   "id": "9e2deaa3",
   "metadata": {},
   "outputs": [],
   "source": [
    "fig, (ax1, ax2) = plt.subplots(1, 2, figsize=(10, 4))\n",
    "plt.suptitle(\"Second-order equation as first-order 2x2 system\")\n",
    "\n",
    "ax1.set_title(\"Behaviour over time\", fontsize=10)\n",
    "ax1.plot(results2[0], color=\"darkblue\", lw=0.7, label=\"$y$\")\n",
    "ax1.plot([2200]*(T+1), color=\"black\", lw=0.7, ls=\"--\", label=\"ss\")\n",
    "ax1.legend()\n",
    "\n",
    "ax1.set_xlabel(\"$t$\")\n",
    "ax1.set_ylabel(\"$y$, $z$\")\n",
    "\n",
    "#######################\n",
    "\n",
    "ax2.set_title(\"Behaviour in phase space\", fontsize=10)\n",
    "ax2.plot(results2[0], results2[1], color=\"green\", label=\"dynamics\", lw=0.7)\n",
    "ax2.scatter((2200), (2200), color=\"black\", label=\"steady state\")\n",
    "\n",
    "# arrows for the first 10 steps to indicate direction of motion\n",
    "for i in range(10):\n",
    "    x = results2[0, i]\n",
    "    y = results2[1, i]\n",
    "    dx = (results2[0, i+1] - results2[0, i]) / 2\n",
    "    dy = (results2[1, i+1] - results2[1, i]) / 2\n",
    "    ax2.arrow(x, y, dx, dy, color=\"green\", lw=0.1, head_width=15)\n",
    "    \n",
    "# isoclines\n",
    "y = np.array([1700, 2500]) # two points are enough for straight lines\n",
    "ybar = y / 6 + 1100 / 0.6\n",
    "zbar = y\n",
    "# plot iscoclines\n",
    "ax2.plot(y, ybar, color=\"black\", lw=0.7, ls=\"--\", label=\"isoclines\")\n",
    "ax2.plot(y, zbar, color=\"black\", lw=0.7, ls=\"--\")\n",
    "\n",
    "\n",
    "ax2.set_xlabel(\"$y_t$\")\n",
    "ax2.set_ylabel(\"$y_{t-1}$\")\n",
    "ax2.legend()"
   ]
  },
  {
   "cell_type": "code",
   "execution_count": null,
   "id": "e8083468",
   "metadata": {},
   "outputs": [],
   "source": []
  }
 ],
 "metadata": {
  "kernelspec": {
   "display_name": "Python 3 (ipykernel)",
   "language": "python",
   "name": "python3"
  },
  "language_info": {
   "codemirror_mode": {
    "name": "ipython",
    "version": 3
   },
   "file_extension": ".py",
   "mimetype": "text/x-python",
   "name": "python",
   "nbconvert_exporter": "python",
   "pygments_lexer": "ipython3",
   "version": "3.9.16"
  }
 },
 "nbformat": 4,
 "nbformat_minor": 5
}
